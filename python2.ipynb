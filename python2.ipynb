{
  "nbformat": 4,
  "nbformat_minor": 0,
  "metadata": {
    "colab": {
      "provenance": []
    },
    "kernelspec": {
      "name": "python3",
      "display_name": "Python 3"
    },
    "language_info": {
      "name": "python"
    }
  },
  "cells": [
    {
      "cell_type": "markdown",
      "source": [
        "1.What is constructor in python.Explain with example\n",
        "In Python, a constructor is a special method named __init__ that is automatically called when a new instance of a class is created. It is used to initialize the object's attributes by assigning initial values to them. The self parameter within the constructor refers to the instance being created, allowing you to set up its state. By using a constructor, you ensure that objects are initialized with specific data or settings immediately upon creation, making it a key aspect of object-oriented programming in Python."
      ],
      "metadata": {
        "id": "SgzqqB40LEAl"
      }
    },
    {
      "cell_type": "markdown",
      "source": [],
      "metadata": {
        "id": "YsE9BvXlNl9m"
      }
    },
    {
      "cell_type": "markdown",
      "source": [
        "2.Differentiate between a parameterless constructor and a parameteraized constructor in python."
      ],
      "metadata": {
        "id": "IPss-_CkNpWj"
      }
    },
    {
      "cell_type": "markdown",
      "source": [
        "In Python, a parameterless constructor is a special `__init__` method that does not take any arguments other than `self`, meaning it initializes objects with default values. This type of constructor is useful when all instances of a class should start with the same initial state. On the other hand, a parameterized constructor includes additional arguments in the `__init__` method, allowing the initialization of objects with specific values provided at the time of object creation. This flexibility enables the creation of objects with varying attributes, tailored to the needs of different instances. The key difference lies in their usage: parameterless constructors provide a uniform starting point, while parameterized constructors allow for diverse initializations."
      ],
      "metadata": {
        "id": "oag6gd0cOZWM"
      }
    },
    {
      "cell_type": "markdown",
      "source": [
        "3.How do you define a constructor in a python class? provide an example."
      ],
      "metadata": {
        "id": "r5kJ8K49OcyZ"
      }
    },
    {
      "cell_type": "markdown",
      "source": [
        "To define a constructor in a Python class, you use the __init__ method. This method is automatically called when a new instance of the class is created. The __init__ method typically takes self as its first parameter, which refers to the instance being created, and can accept additional parameters to initialize the objects attributes."
      ],
      "metadata": {
        "id": "i5Pwiwg6PL7s"
      }
    },
    {
      "cell_type": "code",
      "source": [
        "class Person:\n",
        "    def __init__(self, name, age):\n",
        "        # Constructor initializes the attributes of the object\n",
        "        self.name = name\n",
        "        self.age = age\n",
        "\n",
        "    def display_info(self):\n",
        "        # Method to display the person's information\n",
        "        print(f\"Name: {self.name}, Age: {self.age}\")\n",
        "\n",
        "# Creating an instance of the Person class\n",
        "person1 = Person(\"Alice\", 30)\n",
        "\n",
        "# Accessing the attributes\n",
        "print(person1.name)  # Output: Alice\n",
        "print(person1.age)   # Output: 30\n",
        "\n",
        "# Calling a method on the object\n",
        "person1.display_info()  # Output: Name: Alice, Age: 30\n"
      ],
      "metadata": {
        "colab": {
          "base_uri": "https://localhost:8080/"
        },
        "id": "P-PKfDDJPSNS",
        "outputId": "489fb701-b477-46ce-80f6-246c5ec1c989"
      },
      "execution_count": null,
      "outputs": [
        {
          "output_type": "stream",
          "name": "stdout",
          "text": [
            "Alice\n",
            "30\n",
            "Name: Alice, Age: 30\n"
          ]
        }
      ]
    },
    {
      "cell_type": "markdown",
      "source": [
        "4.Explain the __init__ method in python and its role in constructors."
      ],
      "metadata": {
        "id": "6WGMPpBvPtd9"
      }
    },
    {
      "cell_type": "markdown",
      "source": [
        "The `__init__` method in Python is a special method that serves as the constructor for a class, automatically invoked when a new instance of the class is created. Its primary role is to initialize the object's state by setting up its attributes, based on the arguments provided during instantiation. The first parameter, `self`, refers to the instance being created, allowing the `__init__` method to assign values to the object's attributes and ensure that it is in a consistent and usable state immediately after creation. By using the `__init__` method, you can customize each instance of a class with specific data, making it an essential component of Python's object-oriented programming."
      ],
      "metadata": {
        "id": "WQknCgawQOjj"
      }
    },
    {
      "cell_type": "markdown",
      "source": [
        "5.In a class named person create a constructor that initiates a name and age attributes.Provide an example of creating an object of this class."
      ],
      "metadata": {
        "id": "LV49XywzQaDS"
      }
    },
    {
      "cell_type": "markdown",
      "source": [
        "Here’s an example of how to create a class named Person with a constructor that initializes name and age attributes, along with an example of creating an object of this class.\n"
      ],
      "metadata": {
        "id": "5dVzhSyqQ3vy"
      }
    },
    {
      "cell_type": "code",
      "source": [
        "class Person:\n",
        "    def __init__(self, name, age):\n",
        "        # Constructor initializes the name and age attributes\n",
        "        self.name = name\n",
        "        self.age = age\n"
      ],
      "metadata": {
        "id": "9egLqQtuRJKN"
      },
      "execution_count": null,
      "outputs": []
    },
    {
      "cell_type": "code",
      "source": [
        "# Creating an object of the Person class\n",
        "person1 = Person(\"John\", 25)\n",
        "\n",
        "# Accessing the attributes\n",
        "print(person1.name)  # Output: John\n",
        "print(person1.age)   # Output: 25\n"
      ],
      "metadata": {
        "id": "jVD9GgbYRQJ9"
      },
      "execution_count": null,
      "outputs": []
    },
    {
      "cell_type": "markdown",
      "source": [
        "- The `Person` class has a constructor (`__init__` method) that takes two parameters, `name` and `age`.\n",
        "- When `person1 = Person(\"John\", 25)` is executed, the constructor initializes the `person1` object with the `name` \"John\" and `age` 25.\n",
        "- You can access these attributes using dot notation, as shown in the example."
      ],
      "metadata": {
        "id": "KnASHnaHRNiN"
      }
    },
    {
      "cell_type": "markdown",
      "source": [
        "6.How can you call a constructor explicitly in python.Give an example."
      ],
      "metadata": {
        "id": "UJkpYYGTRpu0"
      }
    },
    {
      "cell_type": "markdown",
      "source": [
        "In Python, constructors are defined using the `__init__` method within a class. This method is automatically called when an instance of the class is created. However, if you want to explicitly call the constructor of a class after creating an instance, you typically do so by using the class name to create a new instance."
      ],
      "metadata": {
        "id": "msH_mjCwSxEv"
      }
    },
    {
      "cell_type": "code",
      "source": [
        "class MyClass:\n",
        "    def __init__(self, value):\n",
        "        self.value = value\n",
        "        print(f\"Constructor called with value: {value}\")\n",
        "\n",
        "# Create an instance of MyClass\n",
        "instance = MyClass(10)  # This implicitly calls the __init__ method\n",
        "\n",
        "# If you want to explicitly call the constructor again, you would typically create a new instance\n",
        "new_instance = MyClass(20)  # This is another implicit call to __init__\n",
        "\n",
        "# Note: Python does not have a built-in mechanism to directly call __init__ on an existing instance.\n"
      ],
      "metadata": {
        "id": "Nq5ydM3oTFYT"
      },
      "execution_count": null,
      "outputs": []
    },
    {
      "cell_type": "markdown",
      "source": [
        "In this example:\n",
        "\n",
        "instance is created with a value of 10, which calls the __init__ method.\n",
        "new_instance is created with a value of 20, which again calls the __init__ method.\n",
        "If you want to \"reset\" an instance, you could manually reinitialize it by assigning new values to its attributes or by creating a new instance altogether. Python does not allow re-calling __init__ on an existing instance directly."
      ],
      "metadata": {
        "id": "lvcUHrh2SBPb"
      }
    },
    {
      "cell_type": "markdown",
      "source": [
        "7.What is the significance of the self parameter in python constructor?Explain with an example."
      ],
      "metadata": {
        "id": "zhXiOmm1TOV0"
      }
    },
    {
      "cell_type": "markdown",
      "source": [
        "In Python, the self parameter is used in instance methods, including constructors (__init__), to refer to the instance of the class that is being created or manipulated. It allows the instance methods to access the attributes and methods of the class.\n",
        "\n",
        "Significance of self:\n",
        "Instance Reference: self provides a way for instance methods to access and modify the attributes of the instance.\n",
        "Instance-specific Data: It ensures that the data and behavior are tied to the specific instance of the class rather than being shared across all instances."
      ],
      "metadata": {
        "id": "qlnz8MUgTg1S"
      }
    },
    {
      "cell_type": "code",
      "source": [
        "class Person:\n",
        "    def __init__(self, name, age):\n",
        "        self.name = name  # self.name refers to the instance attribute 'name'\n",
        "        self.age = age    # self.age refers to the instance attribute 'age'\n",
        "\n",
        "    def greet(self):\n",
        "        print(f\"Hello, my name is {self.name} and I am {self.age} years old.\")\n",
        "\n",
        "# Create an instance of Person\n",
        "person1 = Person(\"Alice\", 30)\n",
        "\n",
        "# Call the greet method\n",
        "person1.greet()  # Output: Hello, my name is Alice and I am 30 years old.\n"
      ],
      "metadata": {
        "id": "Bl-oLbv7Tx1R"
      },
      "execution_count": null,
      "outputs": []
    },
    {
      "cell_type": "markdown",
      "source": [
        "__init__ Method: The __init__ method is the constructor that initializes the instance attributes name and age. The self parameter allows these attributes to be set for the specific instance being created.\n",
        "Instance Method: The greet method uses self to access the name and age attributes of the instance and print a greeting message.\n",
        "In summary, self is crucial for accessing instance-specific data and methods within a class, ensuring that each instance maintains its own state."
      ],
      "metadata": {
        "id": "EVX0AcTdT02h"
      }
    },
    {
      "cell_type": "markdown",
      "source": [
        "8.what is siginificance in self in python constructor Explain with example\n",
        "In Python, the self parameter in a constructor (__init__ method) is essential for distinguishing instance-specific data. It allows the constructor to initialize attributes specific to each instance of the class. By using self, you can access and modify these attributes throughout other instance methods, ensuring that each object maintains its own unique state. For example, in the Person class, self.name and self.age are set within the constructor to define unique attributes for each Person object. This enables methods like greet to use these attributes, providing personalized behavior for each instanc"
      ],
      "metadata": {
        "id": "9LKgUDOkT6LX"
      }
    },
    {
      "cell_type": "code",
      "source": [
        "class Person:\n",
        "    def __init__(self, name, age):\n",
        "        self.name = name\n",
        "        self.age = age\n",
        "\n",
        "    def greet(self):\n",
        "        print(f\"Hello, my name is {self.name} and I am {self.age} years old.\")\n",
        "\n",
        "person1 = Person(\"Alice\", 30)\n",
        "person1 = greet()"
      ],
      "metadata": {
        "id": "w4LFU2FgUcxF"
      },
      "execution_count": null,
      "outputs": []
    },
    {
      "cell_type": "markdown",
      "source": [
        "9.Create a python class called rectangle with a constructor that initiates the width and height attributes.provide a method to calculate the area of the rectangle."
      ],
      "metadata": {
        "id": "_fWCCwy2U3lm"
      }
    },
    {
      "cell_type": "markdown",
      "source": [
        "Here's a Python class Rectangle with a constructor to initialize the width and height attributes, and a method to calculate the area of the rectangle:"
      ],
      "metadata": {
        "id": "yOxRGM2lVlPq"
      }
    },
    {
      "cell_type": "code",
      "source": [
        "class Rectangle:\n",
        "    def __init__(self, width, height):\n",
        "        self.width = width\n",
        "        self.height = height\n",
        "\n",
        "    def calculate_area(self):\n",
        "        return self.width * self.height\n",
        "\n",
        "# Example usage:\n",
        "rect = Rectangle(5, 10)\n",
        "area = rect.calculate_area()\n",
        "print(f\"The area of the rectangle is: {area}\")  # Output: The area of the rectangle is: 50\n"
      ],
      "metadata": {
        "id": "N3D_bBj2V5KO"
      },
      "execution_count": null,
      "outputs": []
    },
    {
      "cell_type": "markdown",
      "source": [
        "Explanation:\n",
        "__init__ Method: Initializes the width and height attributes of the Rectangle instance.\n",
        "calculate_area Method: Computes the area by multiplying width and height.\n",
        "You can create an instance of the Rectangle class with specific dimensions and then call the calculate_area method to get the area of the rectangle"
      ],
      "metadata": {
        "id": "LNgGgw32V9Mi"
      }
    },
    {
      "cell_type": "markdown",
      "source": [
        "10.How can you have multiple constructors in a python class.Explain with an example.\n",
        "In Python, you cannot have multiple constructors directly, like in some other programming languages (e.g., Java or C++). However, you can achieve similar functionality using class methods or by providing default values for parameters.\n",
        "\n",
        "One common approach is to use the @classmethod decorator to define alternative constructors. This allows you to create multiple ways to instantiate a class\n",
        "\n",
        "\n"
      ],
      "metadata": {
        "id": "T5E4HxIQWDSN"
      }
    },
    {
      "cell_type": "code",
      "source": [
        "class Person:\n",
        "    def __init__(self, name, age):\n",
        "        self.name = name\n",
        "        self.age = age\n",
        "\n",
        "    @classmethod\n",
        "    def from_birth_year(cls, name, birth_year):\n",
        "        # This is an alternative constructor\n",
        "        age = 2024 - birth_year\n",
        "        return cls(name, age)\n",
        "\n",
        "    @classmethod\n",
        "    def from_string(cls, string_rep):\n",
        "        # Another alternative constructor\n",
        "        name, age = string_rep.split('-')\n",
        "        return cls(name, int(age))\n",
        "\n",
        "    def display(self):\n",
        "        print(f\"Name: {self.name}, Age: {self.age}\")\n",
        "\n",
        "# Using the default constructor\n",
        "person1 = Person(\"Alice\", 30)\n",
        "person1.display()\n",
        "\n",
        "# Using the alternative constructor with birth year\n",
        "person2 = Person.from_birth_year(\"Bob\", 1990)\n",
        "person2.display()\n",
        "\n",
        "# Using the alternative constructor with a string representation\n",
        "person3 = Person.from_string(\"Charlie-25\")\n",
        "person3.display()"
      ],
      "metadata": {
        "colab": {
          "base_uri": "https://localhost:8080/"
        },
        "id": "I6OV1F4Q7y0g",
        "outputId": "c59baf3a-10fd-413d-9b1b-fe15da8471ad"
      },
      "execution_count": null,
      "outputs": [
        {
          "output_type": "stream",
          "name": "stdout",
          "text": [
            "Name: Alice, Age: 30\n",
            "Name: Bob, Age: 34\n",
            "Name: Charlie, Age: 25\n"
          ]
        }
      ]
    },
    {
      "cell_type": "markdown",
      "source": [],
      "metadata": {
        "id": "nc-ZJ1daWeMv"
      }
    },
    {
      "cell_type": "markdown",
      "source": [
        "11.What is method overloading and how it related to constructor\n",
        "Method overloading is a concept where multiple methods in a class have the same name but differ in the number or type of parameters. It's a way to define different behaviors for a method based on the arguments provided. In many programming languages like Java or C++, method overloading is directly supported, allowing you to define multiple methods with the same name in the same scope but with different signatures."
      ],
      "metadata": {
        "id": "pAt5u7RW8IsB"
      }
    },
    {
      "cell_type": "markdown",
      "source": [
        "12.Explain the use of super() in constructor.Provide an example\n",
        "The super() function in Python is used to call a method from a parent or superclass in a child or subclass. When used in a constructor (i.e., the __init__ method), super() allows the child class to call the constructor of the parent class, ensuring that the parent class is properly initialized."
      ],
      "metadata": {
        "id": "gtbzEchS8bOH"
      }
    },
    {
      "cell_type": "code",
      "source": [
        "class Animal:\n",
        "    def __init__(self, name):\n",
        "        self.name = name\n",
        "        print(f\"Animal {self.name} is created\")\n",
        "\n",
        "class Dog(Animal):\n",
        "    def __init__(self, name, breed):\n",
        "        # Call the constructor of the parent class (Animal)\n",
        "        super().__init__(name)\n",
        "        self.breed = breed\n",
        "        print(f\"Dog {self.name} of breed {self.breed} is created\")\n",
        "\n",
        "# Creating an instance of Dog\n",
        "dog = Dog(\"Buddy\", \"Golden Retriever\")"
      ],
      "metadata": {
        "colab": {
          "base_uri": "https://localhost:8080/"
        },
        "id": "JKIjSRiS-lxL",
        "outputId": "1a83a900-9ea7-4004-efdd-3758d4fc6376"
      },
      "execution_count": null,
      "outputs": [
        {
          "output_type": "stream",
          "name": "stdout",
          "text": [
            "Animal Buddy is created\n",
            "Dog Buddy of breed Golden Retriever is created\n"
          ]
        }
      ]
    },
    {
      "cell_type": "markdown",
      "source": [
        "13.Create a class called 'Body' with a constructor that initializes the \"title\",\"author\" and \"published_year\" attributes Provide a method to display book details"
      ],
      "metadata": {
        "id": "YHREM8aO-rMs"
      }
    },
    {
      "cell_type": "code",
      "source": [
        "class Body:\n",
        "    def __init__(self, title, author, published_year):\n",
        "        self.title = title\n",
        "        self.author = author\n",
        "        self.published_year = published_year\n",
        "\n",
        "    def display_details(self):\n",
        "        print(f\"Title: {self.title}\")\n",
        "        print(f\"Author: {self.author}\")\n",
        "        print(f\"Published Year: {self.published_year}\")\n",
        "\n",
        "# Example usage\n",
        "book = Body(\"To Kill a Mockingbird\", \"Harper Lee\", 1960)\n",
        "book.display_details()"
      ],
      "metadata": {
        "colab": {
          "base_uri": "https://localhost:8080/"
        },
        "id": "GlkXd7tR_Qha",
        "outputId": "304a7054-2bcb-484b-c4a0-1ab4d1b5df1e"
      },
      "execution_count": null,
      "outputs": [
        {
          "output_type": "stream",
          "name": "stdout",
          "text": [
            "Title: To Kill a Mockingbird\n",
            "Author: Harper Lee\n",
            "Published Year: 1960\n"
          ]
        }
      ]
    },
    {
      "cell_type": "markdown",
      "source": [
        "14.Discuss the difference between constructor and regular method in python class\n",
        "In a Python class, a constructor is a special method named __init__ that is automatically called when an instance (object) of the class is created. Its primary purpose is to initialize the object's attributes with the values provided during instantiation. On the other hand, a regular method is any method defined within the class that performs operations on the object after it has been created. Regular methods can be called at any time on the object, and they usually take self as their first parameter to access or modify the object's attributes. While constructors are used to set up the initial state of an object, regular methods are used to define the behavior and operations that the object can perform during its lifetime."
      ],
      "metadata": {
        "id": "Tg2Yfufr_Tq7"
      }
    },
    {
      "cell_type": "markdown",
      "source": [
        "15.Explain the role of the self parameter in instance variable initialize with constructor\n",
        "The self parameter in a Python class constructor is essential for initializing instance variables, as it refers to the specific instance of the class being created. By using self, you can assign values to instance variables, ensuring that each object has its own distinct set of attributes. This differentiates instance variables from local variables within the constructor, making the attributes accessible throughout the class's methods. Without self, the constructor wouldn't know which instance's attributes to initialize, preventing the proper management of instance-specific data."
      ],
      "metadata": {
        "id": "8FiJTyLj_s1j"
      }
    },
    {
      "cell_type": "markdown",
      "source": [
        "16.How do you prevent a class from having multiple instance by using constructor in python.Provide an example\n",
        "To prevent a class from having multiple instances in Python, you can implement the Singleton design pattern. The Singleton pattern ensures that only one instance of a class can be created, and any subsequent attempts to create a new instance will return the existing instance."
      ],
      "metadata": {
        "id": "kH91bsb_AOA8"
      }
    },
    {
      "cell_type": "code",
      "source": [
        "class DatabaseConnection:\n",
        "    _instance = None\n",
        "\n",
        "    def __new__(cls, *args, **kwargs):\n",
        "        if cls._instance is None:\n",
        "            cls._instance = super().__new__(cls)\n",
        "        return cls._instance\n",
        "\n",
        "    def __init__(self, connection_string):\n",
        "        # Prevent reinitialization\n",
        "        if not hasattr(self, 'initialized'):\n",
        "            self.connection_string = connection_string\n",
        "            self.connect()\n",
        "            self.initialized = True\n",
        "\n",
        "    def connect(self):\n",
        "        print(f\"Connecting to database with connection string: {self.connection_string}\")\n",
        "\n",
        "# Example usage\n",
        "db1 = DatabaseConnection(\"Server=localhost;Database=mydb\")\n",
        "db2 = DatabaseConnection(\"Server=remotehost;Database=otherdb\")\n",
        "print(db1.connection_string)  # Output: Server=localhost;Database=mydb\n",
        "print(db2.connection_string)  # Output: Server=localhost;Database=mydb\n",
        "\n",
        "# Verifying that both variables refer to the same instance\n",
        "print(db1 is db2)  # Output: Tru"
      ],
      "metadata": {
        "colab": {
          "base_uri": "https://localhost:8080/"
        },
        "id": "Z4EK-b2-Amk5",
        "outputId": "0eca909e-0e73-4219-e6b2-b571e9aa2c5c"
      },
      "execution_count": null,
      "outputs": [
        {
          "output_type": "stream",
          "name": "stdout",
          "text": [
            "Connecting to database with connection string: Server=localhost;Database=mydb\n",
            "Server=localhost;Database=mydb\n",
            "Server=localhost;Database=mydb\n",
            "True\n"
          ]
        }
      ]
    },
    {
      "cell_type": "markdown",
      "source": [
        "17.Create a python class called student with a constructors that takes a list of subjects as a parameters and initialize with subject attribute"
      ],
      "metadata": {
        "id": "S_Z1DmlSBD1o"
      }
    },
    {
      "cell_type": "code",
      "source": [
        "class Student:\n",
        "    def __init__(self, subjects):\n",
        "        self.subjects = subjects  # Initialize the subjects attribute with the provided list\n",
        "\n",
        "    def display_subjects(self):\n",
        "        print(\"Subjects enrolled:\")\n",
        "        for subject in self.subjects:\n",
        "            print(f\"- {subject}\")\n",
        "\n",
        "# Example usage\n",
        "student1 = Student([\"Math\", \"Science\", \"History\"])\n",
        "student1.display_subjects()"
      ],
      "metadata": {
        "colab": {
          "base_uri": "https://localhost:8080/"
        },
        "id": "moPlWTSGBp83",
        "outputId": "ac34ec85-ce24-4321-8bad-ebc1527590d3"
      },
      "execution_count": null,
      "outputs": [
        {
          "output_type": "stream",
          "name": "stdout",
          "text": [
            "Subjects enrolled:\n",
            "- Math\n",
            "- Science\n",
            "- History\n"
          ]
        }
      ]
    },
    {
      "cell_type": "markdown",
      "source": [
        "18.What is the purpose of __del__ method in python class and how does it relate to constructor\n",
        "The __del__ method in a Python class is a special method known as a destructor, which is automatically called when an object is about to be destroyed or garbage-collected. Its primary purpose is to perform any necessary cleanup, such as releasing resources or closing files that the object may have opened during its lifetime. Unlike the constructor (__init__), which initializes an object when it is created, the __del__ method handles the finalization process when the object is no longer needed. While the constructor sets up the initial state of an object, __del__ ensures that any resources associated with the object are properly released, thus helping to manage resource cleanup and prevent memory leaks."
      ],
      "metadata": {
        "id": "MubOodLDBvJJ"
      }
    },
    {
      "cell_type": "markdown",
      "source": [
        "19.Explain the use of constructor chaining in python Provide an example\n",
        "Constructor chaining in Python refers to the practice of calling one constructor from another within the same class or across classes. This technique helps avoid code duplication and ensures that all necessary initializations are performed. In Python, this is often achieved using class methods or by calling another constructor using super() in a class hierarchy."
      ],
      "metadata": {
        "id": "-8GQOW7xCPvx"
      }
    },
    {
      "cell_type": "code",
      "source": [
        "class Person:\n",
        "    def __init__(self, name, age):\n",
        "        self.name = name\n",
        "        self.age = age\n",
        "        print(f\"Initialized Person with name: {self.name} and age: {self.age}\")\n",
        "\n",
        "    @classmethod\n",
        "    def from_birth_year(cls, name, birth_year):\n",
        "        age = 2024 - birth_year  # Calculate age based on birth year\n",
        "        return cls(name, age)  # Call the primary constructor\n",
        "\n",
        "    @classmethod\n",
        "    def from_string(cls, person_str):\n",
        "        name, age = person_str.split('-')\n",
        "        return cls(name, int(age))  # Call the primary constructor\n",
        "\n",
        "# Example usage\n",
        "person1 = Person(\"Alice\", 30)\n",
        "person2 = Person.from_birth_year(\"Bob\", 1990)\n",
        "person3 = Person.from_string(\"Charlie-25\")"
      ],
      "metadata": {
        "colab": {
          "base_uri": "https://localhost:8080/"
        },
        "id": "Q7Hk8GHeCnv1",
        "outputId": "396d2b9f-4f90-42e9-c69d-f5079020532e"
      },
      "execution_count": null,
      "outputs": [
        {
          "output_type": "stream",
          "name": "stdout",
          "text": [
            "Initialized Person with name: Alice and age: 30\n",
            "Initialized Person with name: Bob and age: 34\n",
            "Initialized Person with name: Charlie and age: 25\n"
          ]
        }
      ]
    },
    {
      "cell_type": "markdown",
      "source": [
        "20.Create a class called 'car' with a constructor that initializes the \"make\",\"model\"  attributes Provide a method to display car details"
      ],
      "metadata": {
        "id": "JztN7cZrCvrO"
      }
    },
    {
      "cell_type": "code",
      "source": [
        "class Car:\n",
        "    def __init__(self, make, model):\n",
        "        self.make = make\n",
        "        self.model = model\n",
        "\n",
        "    def display_details(self):\n",
        "        print(f\"Make: {self.make}\")\n",
        "        print(f\"Model: {self.model}\")\n",
        "\n",
        "# Example usage\n",
        "car1 = Car(\"Toyota\", \"Corolla\")\n",
        "car1.display_details()"
      ],
      "metadata": {
        "colab": {
          "base_uri": "https://localhost:8080/"
        },
        "id": "41MG_k_iDYWi",
        "outputId": "7566d921-52e9-4eec-d24a-619a61face09"
      },
      "execution_count": null,
      "outputs": [
        {
          "output_type": "stream",
          "name": "stdout",
          "text": [
            "Make: Toyota\n",
            "Model: Corolla\n"
          ]
        }
      ]
    },
    {
      "cell_type": "markdown",
      "source": [
        "1.what is inheritance in python .Explain its siginificance in object oriented programming\n",
        "Inheritance allows us to define a class that inherits all the methods and properties from another class.\n",
        "\n",
        "Parent class is the class being inherited from, also called base class.\n",
        "\n",
        "Child class is the class that inherits from another class, also called derived class."
      ],
      "metadata": {
        "id": "0m5Bd81NFHZ-"
      }
    },
    {
      "cell_type": "code",
      "source": [
        "class Person(object):\n",
        "\n",
        "    # Constructor\n",
        "    def __init__(self, name):\n",
        "        self.name = name\n",
        "\n",
        "    # To get name\n",
        "    def getName(self):\n",
        "        return self.name\n",
        "\n",
        "    # To check if this person is an employee\n",
        "    def isEmployee(self):\n",
        "        return False\n",
        "\n",
        "\n",
        "# Inherited or Subclass (Note Person in bracket)\n",
        "class Employee(Person):\n",
        "\n",
        "    # Here we return true\n",
        "    def isEmployee(self):\n",
        "        return True\n",
        "\n",
        "\n",
        "# Driver code\n",
        "emp = Person(\"Geek1\")  # An Object of Person\n",
        "print(emp.getName(), emp.isEmployee())\n",
        "\n",
        "emp = Employee(\"Geek2\")  # An Object of Employee\n",
        "print(emp.getName(), emp.isEmployee())"
      ],
      "metadata": {
        "colab": {
          "base_uri": "https://localhost:8080/"
        },
        "id": "YYbgwACdF0VC",
        "outputId": "92a15b4a-e3c4-4c02-a0b9-f068b9b70798"
      },
      "execution_count": null,
      "outputs": [
        {
          "output_type": "stream",
          "name": "stdout",
          "text": [
            "Geek1 False\n",
            "Geek2 True\n"
          ]
        }
      ]
    },
    {
      "cell_type": "markdown",
      "source": [
        "12.Differntiate between single inheritance and multiple inheritance Provide an example for each\n",
        "Definition: Single inheritance occurs when a class (the child or subclass) inherits from one and only one parent class (the superclass). This is the simplest form of inheritance, where a single hierarchy is formed.\n",
        "\n",
        "Example:\n",
        "\n",
        "python\n",
        "Copy code\n",
        "class Animal:\n",
        "    def __init__(self, name):\n",
        "        self.name = name\n",
        "\n",
        "    def speak(self):\n",
        "        print(f\"{self.name} makes a sound\")\n",
        "\n",
        "class Dog(Animal):\n",
        "    def bark(self):\n",
        "        print(f\"{self.name} barks\")\n",
        "\n",
        "dog = Dog(\"Buddy\")\n",
        "dog.speak()  # Inherited from Animal\n",
        "dog.bark()   # Specific to Dog\n",
        "Definition: Multiple inheritance occurs when a class (the child or subclass) inherits from more than one parent class. This allows a class to combine behaviors and attributes from multiple superclasses.\n",
        "Definition: Multiple inheritance occurs when a class (the child or subclass) inherits from more than one parent class. This allows a class to combine behaviors and attributes from multiple superclasses."
      ],
      "metadata": {
        "id": "kz9ZEGqOF5Ok"
      }
    },
    {
      "cell_type": "markdown",
      "source": [
        "13.Create a python class called vehicle with attribute color and speed then create a child class called car that inherits from vehicle and adds a brand attribute Provide an example for creating an object"
      ],
      "metadata": {
        "id": "YE1p4TjVGfh-"
      }
    },
    {
      "cell_type": "code",
      "source": [
        "class Vehicle:\n",
        "    def __init__(self, color, speed):\n",
        "        self.color = color\n",
        "        self.speed = speed\n",
        "\n",
        "    def display_info(self):\n",
        "        print(f\"Color: {self.color}\")\n",
        "        print(f\"Speed: {self.speed} km/h\")\n",
        "\n",
        "class Car(Vehicle):\n",
        "    def __init__(self, color, speed, brand):\n",
        "        super().__init__(color, speed)  # Initialize attributes from the parent class\n",
        "        self.brand = brand\n",
        "\n",
        "    def display_info(self):\n",
        "        super().display_info()  # Call the parent class method\n",
        "        print(f\"Brand: {self.brand}\")\n",
        "\n",
        "# Example usage\n",
        "my_car = Car(\"Red\", 120, \"Toyota\")\n",
        "my_car.display_info()"
      ],
      "metadata": {
        "colab": {
          "base_uri": "https://localhost:8080/"
        },
        "id": "UMIHB_F6HJsi",
        "outputId": "11e6a302-3a95-4978-bbf7-bd04989d49bf"
      },
      "execution_count": null,
      "outputs": [
        {
          "output_type": "stream",
          "name": "stdout",
          "text": [
            "Color: Red\n",
            "Speed: 120 km/h\n",
            "Brand: Toyota\n"
          ]
        }
      ]
    },
    {
      "cell_type": "markdown",
      "source": [
        "4.Explain the concept of method overriding in inheritance .Provide an example\n",
        "Method overriding in inheritance occurs when a subclass provides a specific implementation of a method that is already defined in its superclass. This allows the subclass to modify or extend the behavior of the inherited method to suit its needs. Method overriding enables polymorphism, where a method call can execute different behaviors depending on the object's class."
      ],
      "metadata": {
        "id": "Kg3MO-j5HMMB"
      }
    },
    {
      "cell_type": "code",
      "source": [
        "class Animal:\n",
        "    def speak(self):\n",
        "        print(\"Animal makes a sound\")\n",
        "\n",
        "class Dog(Animal):\n",
        "    def speak(self):\n",
        "        print(\"Dog barks\")\n",
        "\n",
        "class Cat(Animal):\n",
        "    def speak(self):\n",
        "        print(\"Cat meows\")\n",
        "\n",
        "# Example usage\n",
        "def make_animal_speak(animal):\n",
        "    animal.speak()\n",
        "\n",
        "# Creating instances\n",
        "animal = Animal()\n",
        "dog = Dog()\n",
        "cat = Cat()\n",
        "make_animal_speak(animal)  # Output: Animal makes a sound\n",
        "make_animal_speak(dog)     # Output: Dog barks\n",
        "make_animal_speak(cat)"
      ],
      "metadata": {
        "colab": {
          "base_uri": "https://localhost:8080/"
        },
        "id": "AJPsIDSdHjcr",
        "outputId": "3961fce6-0f33-40fd-ec10-0b8d920fb0de"
      },
      "execution_count": null,
      "outputs": [
        {
          "output_type": "stream",
          "name": "stdout",
          "text": [
            "Animal makes a sound\n",
            "Dog barks\n",
            "Cat meows\n"
          ]
        }
      ]
    },
    {
      "cell_type": "markdown",
      "source": [
        "5.how can you discuss the methods and attributes of parent class from child class Give an example\n",
        "n Python, you can discuss or access the methods and attributes of a parent class from a child class using the super() function. This function allows the child class to call methods or access attributes from its parent class, facilitating code reuse and modification."
      ],
      "metadata": {
        "id": "4cV2myyDHswx"
      }
    },
    {
      "cell_type": "code",
      "source": [
        "class Vehicle:\n",
        "    def __init__(self, color, speed):\n",
        "        self.color = color\n",
        "        self.speed = speed\n",
        "\n",
        "    def display_info(self):\n",
        "        print(f\"Color: {self.color}\")\n",
        "        print(f\"Speed: {self.speed} km/h\")\n",
        "\n",
        "class Car(Vehicle):\n",
        "    def __init__(self, color, speed, brand):\n",
        "        super().__init__(color, speed)  # Call the parent class constructor\n",
        "        self.brand = brand\n",
        "\n",
        "    def display_info(self):\n",
        "        super().display_info()  # Call the parent class method\n",
        "        print(f\"Brand: {self.brand}\")\n",
        "    def car_details(self):\n",
        "        print(\"Car Details:\")\n",
        "        # Access attributes and methods from the parent class\n",
        "        print(f\"Color from parent: {self.color}\")\n",
        "        print(f\"Speed from parent: {self.speed}\")\n",
        "        self.display_info()  # Calls the overridden method\n",
        "\n",
        "# Example usage\n",
        "my_car = Car(\"Blue\", 150, \"Ford\")\n",
        "my_car.car_details()\n"
      ],
      "metadata": {
        "colab": {
          "base_uri": "https://localhost:8080/"
        },
        "id": "c3HR7CCTIRZK",
        "outputId": "34dfe4ae-851c-4e6a-d487-5b0119ecbb6f"
      },
      "execution_count": null,
      "outputs": [
        {
          "output_type": "stream",
          "name": "stdout",
          "text": [
            "Car Details:\n",
            "Color from parent: Blue\n",
            "Speed from parent: 150\n",
            "Color: Blue\n",
            "Speed: 150 km/h\n",
            "Brand: Ford\n"
          ]
        }
      ]
    },
    {
      "cell_type": "markdown",
      "source": [
        "6.Discuss the use of super() funcution in python.when and why it is used provide an example\n",
        "The super() function in Python is used to call methods from a parent class within a child class, allowing you to access and extend the functionality of the parent class. It is especially useful in situations involving inheritance, where you want to build upon or modify behavior defined in a superclass.\n",
        "Constructor Initialization: When you want to initialize attributes defined in a parent class from a child class’s constructor.\n",
        "Method Overriding: When you override a method in a child class but still want to call the parent class’s version of the method.\n",
        "Multiple Inheritance: In complex inheritance hierarchies, super() helps in ensuring that the method resolution order (MRO) is followed correctly, allowing the correct method in the hierarchy to be called.\n",
        "Maintainability: By calling the parent class’s method, you ensure that any updates or changes in the parent class’s implementation are inherited by the child class.\n",
        "Avoiding Direct Class References: It avoids hardcoding the parent class name, making the code more maintainable and flexible, especially in complex inheritance scenarios."
      ],
      "metadata": {
        "id": "pWzTm-CfIu_v"
      }
    },
    {
      "cell_type": "code",
      "source": [
        "class Animal:\n",
        "    def __init__(self, name):\n",
        "        self.name = name\n",
        "\n",
        "    def speak(self):\n",
        "        print(f\"{self.name} makes a sound\")\n",
        "\n",
        "class Dog(Animal):\n",
        "    def __init__(self, name, breed):\n",
        "        super().__init__(name)  # Call the parent class constructor\n",
        "        self.breed = breed\n",
        "\n",
        "    def speak(self):\n",
        "        super().speak()  # Call the parent class method\n",
        "        print(f\"{self.name} barks\")\n",
        "\n",
        "# Example usage\n",
        "dog = Dog(\"Buddy\", \"Golden Retriever\")\n",
        "dog.speak()"
      ],
      "metadata": {
        "colab": {
          "base_uri": "https://localhost:8080/"
        },
        "id": "n4esCF-MJRaw",
        "outputId": "8b69b7f6-4556-4a59-d23d-b1ce623c8bd4"
      },
      "execution_count": null,
      "outputs": [
        {
          "output_type": "stream",
          "name": "stdout",
          "text": [
            "Buddy makes a sound\n",
            "Buddy barks\n"
          ]
        }
      ]
    },
    {
      "cell_type": "markdown",
      "source": [
        "7.Create a python class called animal with attribute speak a then create a child class called animal that inherits from animal and overides  speak Provide an example for creating an object\n",
        "\n",
        "\n",
        "[10]\n",
        "0s\n"
      ],
      "metadata": {
        "id": "apebpJ-vJ1pP"
      }
    },
    {
      "cell_type": "code",
      "source": [
        "class Animal:\n",
        "    def speak(self):\n",
        "        print(\"Animal makes a sound\")\n",
        "\n",
        "class Dog(Animal):\n",
        "    def speak(self):\n",
        "        print(\"Dog barks\")\n",
        "\n",
        "# Example usage\n",
        "my_dog = Dog()\n",
        "my_dog.speak()"
      ],
      "metadata": {
        "colab": {
          "base_uri": "https://localhost:8080/"
        },
        "id": "iJGMl6TvKaCj",
        "outputId": "a5df46e4-905c-4230-dd2a-3b3a5cc6654b"
      },
      "execution_count": null,
      "outputs": [
        {
          "output_type": "stream",
          "name": "stdout",
          "text": [
            "Dog barks\n"
          ]
        }
      ]
    },
    {
      "cell_type": "markdown",
      "source": [
        "Explain the role of isinstance() in python and how it is related to inheritance\n",
        "The isinstance() function in Python is used to check if an object is an instance of a particular class or a tuple of classes. It plays a crucial role in type checking and ensures that objects adhere to expected types, which can be particularly useful in scenarios involving complex class hierarchies and inheritance. The function takes two arguments: the object you want to check and the class or tuple of classes against which the object should be verified. For example, isinstance(obj, Dog) returns True if obj is an instance of the Dog class or any of its subclasses, and False otherwise.\n",
        "\n",
        "In the context of inheritance, isinstance() helps in verifying the relationship between objects and classes in a class hierarchy. When dealing with polymorphism, where different classes might override methods or implement similar interfaces, isinstance() can be used to confirm whether an object belongs to a particular class or subclass before performing specific operations. This ensures that methods or attributes are accessed safely, and operations are performed only when the object is of the expected type or a compatible subclass. Thus, isinstance() supports robust and error-free code by allowing type checks that align with the principles of inheritance and polymorphism."
      ],
      "metadata": {
        "id": "AGG39J6yKkEc"
      }
    },
    {
      "cell_type": "markdown",
      "source": [
        "9.What is the purpose of issubclass() in python.Provide an example\n",
        "The issubclass() function in Python is used to check if a class is a subclass of another class. It helps in determining the inheritance relationship between classes, specifically whether one class inherits from another, either directly or indirectly. This function is useful for type checking, ensuring that an object or a class adheres to expected types or hierarchies, and managing class hierarchies effectively."
      ],
      "metadata": {
        "id": "nlK72K6kLCP3"
      }
    },
    {
      "cell_type": "code",
      "source": [
        "class Animal:\n",
        "    pass\n",
        "\n",
        "class Mammal(Animal):\n",
        "    pass\n",
        "\n",
        "class Dog(Mammal):\n",
        "    pass\n",
        "\n",
        "# Checking subclass relationships\n",
        "print(issubclass(Dog, Animal))  # Output: True\n",
        "print(issubclass(Dog, Mammal))  # Output: True\n",
        "print(issubclass(Mammal, Animal))  # Output: True"
      ],
      "metadata": {
        "colab": {
          "base_uri": "https://localhost:8080/"
        },
        "id": "A4x8V16ELUoU",
        "outputId": "1a22799f-224c-4532-87d5-3e7878d2d50c"
      },
      "execution_count": null,
      "outputs": [
        {
          "output_type": "stream",
          "name": "stdout",
          "text": [
            "True\n",
            "True\n",
            "True\n"
          ]
        }
      ]
    },
    {
      "cell_type": "markdown",
      "source": [
        "10.Discuss the concept of constructor in python explain the constructor with inheritance\n",
        "When dealing with inheritance, constructors in parent and child classes play crucial roles in setting up the object’s state across the class hierarchy. The child class can call the parent class's constructor to ensure that the inherited attributes are properly initialized.\n",
        "\n",
        "Key Points:\n",
        "\n",
        "Calling Parent Constructor: The child class can call the parent class’s constructor using super(). This ensures that the parent class’s initialization code is executed and any attributes defined in the parent class are set up correctly.\n",
        "\n",
        "Extending Initialization: The child class can extend or add additional initialization code after calling the parent constructor. This allows for both inherited and new attribute is intialized"
      ],
      "metadata": {
        "id": "OVu8ZHdtLgB4"
      }
    },
    {
      "cell_type": "markdown",
      "source": [],
      "metadata": {
        "id": "WDirXTRAL6Or"
      }
    },
    {
      "cell_type": "markdown",
      "source": [
        "11.create a python class called 'shape' with a method area() that calculates of a shape then creates child class circle and rectangle that inherits from shape"
      ],
      "metadata": {
        "id": "yAWJC9h6L6p8"
      }
    },
    {
      "cell_type": "code",
      "source": [
        "import math\n",
        "\n",
        "class Shape:\n",
        "    def area(self):\n",
        "        raise NotImplementedError(\"Subclasses must implement this method\")\n",
        "\n",
        "class Circle(Shape):\n",
        "    def __init__(self, radius):\n",
        "        self.radius = radius\n",
        "\n",
        "    def area(self):\n",
        "        return math.pi * (self.radius ** 2)\n",
        "\n",
        "class Rectangle(Shape):\n",
        "    def __init__(self, width, height):\n",
        "        self.width = width\n",
        "        self.height = height\n",
        "\n",
        "    def area(self):\n",
        "        return self.width * self.height\n",
        "\n",
        "# Example usage\n",
        "circle = Circle(radius=5)\n",
        "print(f\"Circle area: {circle.area()}\")\n",
        "\n",
        "rectangle = Rectangle(width=4, height=6)\n",
        "print(f\"Rectangle area: {rectangle.area()}\")"
      ],
      "metadata": {
        "colab": {
          "base_uri": "https://localhost:8080/"
        },
        "id": "TFFeVbA2PEeO",
        "outputId": "f6155d94-6bc0-4ee9-cb4e-ade11f567047"
      },
      "execution_count": null,
      "outputs": [
        {
          "output_type": "stream",
          "name": "stdout",
          "text": [
            "Circle area: 78.53981633974483\n",
            "Rectangle area: 24\n"
          ]
        }
      ]
    },
    {
      "cell_type": "markdown",
      "source": [
        "12.explain the use of abstract classes(ABC) in python and how they relate to inheritance provide an example using the abc module\n",
        "The main goal of the abstract base class is to provide a standardized way to test whether an object adheres to a given specification. It can also prevent any attempt to instantiate a subclass that doesn’t override a particular method in the superclass. And finally, using an abstract class, a class can derive identity from another class without any object inheritance."
      ],
      "metadata": {
        "id": "KwFy5v7IPJ8q"
      }
    },
    {
      "cell_type": "code",
      "source": [
        "import abc\n",
        "\n",
        "\n",
        "class AbstractClass(metaclass=abc.ABCMeta):\n",
        "    def abstractfunc(self):\n",
        "        return None\n",
        "\n",
        "\n",
        "print(AbstractClass.register(dict))"
      ],
      "metadata": {
        "colab": {
          "base_uri": "https://localhost:8080/"
        },
        "id": "_2d_x9hXQSnw",
        "outputId": "22010d41-3543-4f6e-847f-bcf3184fceb8"
      },
      "execution_count": null,
      "outputs": [
        {
          "output_type": "stream",
          "name": "stdout",
          "text": [
            "<class 'dict'>\n"
          ]
        }
      ]
    },
    {
      "cell_type": "markdown",
      "source": [
        "13.How can you prevent child class from modifying the certain attributes or methods inherited from a parent class in python\n",
        "that a subclass can access all attributes of its parent class but sometimes we need to prevent the subclass from accessing certain attributes. We can do this by prefixing the attribute name with double underscores. Subclasses can not access these attributes. These attributes are called Private Attributes."
      ],
      "metadata": {
        "id": "tIrEp9xBQfS_"
      }
    },
    {
      "cell_type": "markdown",
      "source": [
        "14.Create a python class called employee with attribute name and salary  then create a child class called manager that inherits from employee and adds a department attribute Provide an example for creating an object"
      ],
      "metadata": {
        "id": "suVds2bnSBVB"
      }
    },
    {
      "cell_type": "code",
      "source": [
        "class Employee:\n",
        "    def __init__(self, name, salary):\n",
        "        self.name = name\n",
        "        self.salary = salary\n",
        "\n",
        "    def __str__(self):\n",
        "        return f\"Employee Name: {self.name}, Salary: ${self.salary}\"\n",
        "\n",
        "class Manager(Employee):\n",
        "    def __init__(self, name, salary, department):\n",
        "        super().__init__(name, salary)  # Initialize base class attributes\n",
        "        self.department = department\n",
        "\n",
        "    def __str__(self):\n",
        "        return f\"Manager Name: {self.name}, Salary: ${self.salary}, Department: {self.department}\"\n",
        "\n",
        "# Example usage\n",
        "emp = Employee(name=\"John Doe\", salary=50000)\n",
        "print(emp)\n",
        "\n",
        "mgr = Manager(name=\"Jane Smith\", salary=75000, department=\"HR\")\n",
        "print(mgr)\n",
        "\n",
        "\n",
        "\n",
        "\n",
        "\n",
        "\n",
        "\n",
        "\n",
        "\n",
        "\n",
        "\n"
      ],
      "metadata": {
        "colab": {
          "base_uri": "https://localhost:8080/"
        },
        "id": "RwFMQv23TQpU",
        "outputId": "1fcf7ad9-76d8-439d-91a2-98c0832a3597"
      },
      "execution_count": null,
      "outputs": [
        {
          "output_type": "stream",
          "name": "stdout",
          "text": [
            "Employee Name: John Doe, Salary: $50000\n",
            "Manager Name: Jane Smith, Salary: $75000, Department: HR\n"
          ]
        }
      ]
    },
    {
      "cell_type": "markdown",
      "source": [
        "16.explain the purpose of the __init__() method in python inheritance and how it is utilized in child class\n",
        "The __init__() method in Python is known as the constructor method. It is used to initialize a newly created object, setting up its initial state by assigning values to its attributes. When it comes to inheritance, the __init__() method plays a crucial role in setting up objects in a class hierarchy.\n",
        "\n",
        "Purpose of __init__() Method in Inheritance:\n",
        "Initialization:\n",
        "\n",
        "The __init__() method initializes the attributes of the class. In inheritance, it ensures that both the base class (parent) and derived class (child) can set up their attributes correctly.\n",
        "Calling Base Class Constructor:\n",
        "\n",
        "When a child class is instantiated, its __init__() method can call the __init__() method of its parent class using super(). This allows the child class to inherit and extend the initialization process of the parent class.\n",
        "Extending Functionality:\n",
        "\n",
        "In a child class, you can extend or customize the initialization process by adding more attributes or changing the initialization logic, while still retaining the attributes and initialization behavior of the parent class."
      ],
      "metadata": {
        "id": "DAxoVe6pTcYB"
      }
    },
    {
      "cell_type": "markdown",
      "source": [
        "18.What is the diamond pattern in multiple inheritance and how does python addresses it\n",
        "The diamond pattern, also known as the diamond problem, is a complication that can arise in multiple inheritance scenarios where a class inherits from two classes that both inherit from a common base class. The pattern forms a diamond shape in the class hierarchy, which can lead to ambiguities about which base class method or attribute should be used.\n",
        "Python uses the Method Resolution Order (MRO) to resolve the diamond problem. The MRO determines the order in which base classes are searched when looking for a method. Python’s MRO is based on the C3 linearization algorithm, which ensures a consistent and predictable order.\n",
        "\n",
        "Here’s how Python addresses the diamond problem:\n",
        "\n",
        "Linearization:\n",
        "\n",
        "Python’s MRO linearizes the class hierarchy into a single, unambiguous order. This ensures that each class is visited once and only once.\n",
        "super() Function:\n",
        "\n",
        "The super() function respects the MRO, allowing method calls to follow the linearized order. This prevents issues of method ambiguity."
      ],
      "metadata": {
        "id": "uUufXfi8T8V4"
      }
    },
    {
      "cell_type": "markdown",
      "source": [
        "19.Discuss the relationship between is_a and has_a relationship in inheritance and provide an example\n",
        "is-a Relationship\n",
        "The is-a relationship describes inheritance, where one class is a specialized version of another class. This means that a subclass \"is a\" type of its superclass.\n",
        "\n",
        "Characteristics:\n",
        "\n",
        "Inheritance: This relationship is implemented using inheritance.\n",
        "Specialization: The subclass inherits attributes and methods from the superclass and may add additional features or override existing ones.\n",
        "Polymorphism: Objects of the subclass can be treated as objects of the superclass, allowing for polymorphism.\n",
        "has-a Relationship\n",
        "The has-a relationship, also known as composition, describes a class that contains an instance of another class. This means that a class \"has a\" reference to another class.\n",
        "\n",
        "Characteristics:\n",
        "\n",
        "Composition: This relationship is implemented using composition, where one class contains an instance of another class as an attribute.\n",
        "Aggregation: The contained object can be shared among multiple classes or can be changed without affecting the containing class.\n",
        "Encapsulation: The containing class can expose specific functionality while hiding the details of the contained class."
      ],
      "metadata": {
        "id": "oswpq_srUo99"
      }
    },
    {
      "cell_type": "markdown",
      "source": [
        "1.Explain the concept of encapsulation.What it is role in object oriented programming\n",
        "Encapsulation is a fundamental concept in object-oriented programming (OOP) that refers to the bundling of data (attributes) and the methods (functions) that operate on that data into a single unit, called a class. Encapsulation serves two main purposes:\n",
        "\n",
        "Data Hiding: Encapsulation allows certain details of an object’s data and implementation to be hidden from the outside world. By restricting access to certain parts of an object, encapsulation helps to protect the integrity of the object and prevents unintended interference or misuse. In Python, this is often done by prefixing an attribute or method name with an underscore (_) to indicate it is intended for internal use (a convention, not strict enforcement). A double underscore (__) invokes name mangling, making it harder (but not impossible) to access from outside the class.\n",
        "\n",
        "Controlled Access: Encapsulation allows for controlled access to the object’s data. It provides public methods (getters and setters) to access or modify the private attributes of a class. This way, you can enforce rules and validations when data is accessed or modified, ensuring that the object remains in a valid state."
      ],
      "metadata": {
        "id": "4iiynOPtMRHx"
      }
    },
    {
      "cell_type": "markdown",
      "source": [
        "2.describe thekey principle of encapsulation including data hiding and access control\n",
        "Encapsulation is a core principle of object-oriented programming (OOP) that involves bundling data and methods that operate on that data into a single unit, typically a class. The key principles of encapsulation include:\n",
        "\n",
        "1. Data Hiding\n",
        "Definition: Data hiding refers to the practice of restricting direct access to certain components of an object, typically its internal data (attributes). This is done to protect the integrity of the object and to prevent external code from depending on the internal implementation details.\n",
        "Purpose: The main purpose of data hiding is to safeguard the internal state of an object from unintended or harmful modifications. By hiding the internal data, the class maintains control over how its attributes are accessed and modified.\n",
        "Implementation: In many programming languages, including Python, data hiding can be achieved by marking attributes as private using naming conventions. For example, prefixing an attribute name with an underscore (_) or double underscore (__) to indicate that it is intended for internal use.\n",
        "2. Access Control\n",
        "Definition: Access control refers to the mechanism by which the visibility and accessibility of class members (attributes and methods) are regulated. Access control determines what parts of the code can access or modify the data within an object.\n",
        "Purpose: The purpose of access control is to provide a controlled interface for interacting with an object's data, allowing for validation, logging, and other operations to be performed before access or modification. This ensures that the object remains in a consistent and valid state.\n",
        "Implementation: Access control is implemented by defining public, private, or protected attributes and methods. In Python:\n",
        "Public members are accessible from anywhere.\n",
        "Protected members (denoted by a single underscore _) are meant to be accessible within the class and its subclasses.\n",
        "Private members (denoted by a double underscore __) are intended to be accessed only within the class itself."
      ],
      "metadata": {
        "id": "S0g1odBoNm7F"
      }
    },
    {
      "cell_type": "markdown",
      "source": [
        "3.How can you achieve encapsulation in python.Provide an example\n",
        "Encapsulation in Python can be achieved by controlling the access to the attributes and methods of a class. This is typically done by using different levels of visibility: public, protected, and private.\n",
        "\n",
        "Levels of Visibility in Python\n",
        "Public: Attributes and methods that can be accessed from anywhere. By default, all attributes and methods in Python are public.\n",
        "Protected: Attributes and methods that are intended to be accessed within the class and its subclasses. In Python, these are prefixed with a single underscore (_).\n",
        "Private: Attributes and methods that are intended to be accessed only within the class itself. In Python, these are prefixed with a double underscore (__)."
      ],
      "metadata": {
        "id": "G12tTiZfOG1M"
      }
    },
    {
      "cell_type": "code",
      "source": [
        "class BankAccount:\n",
        "    def __init__(self, account_holder, initial_balance):\n",
        "        self.account_holder = account_holder  # Public attribute\n",
        "        self.__balance = initial_balance      # Private attribute\n",
        "\n",
        "    # Public method to deposit money\n",
        "    def deposit(self, amount):\n",
        "        if amount > 0:\n",
        "            self.__balance += amount\n",
        "        else:\n",
        "            raise ValueError(\"Deposit amount must be positive\")\n",
        "\n",
        "    # Public method to withdraw money\n",
        "    def withdraw(self, amount):\n",
        "        if 0 < amount <= self.__balance:\n",
        "            self.__balance -= amount\n",
        "        else:\n",
        "            raise ValueError(\"Insufficient funds or invalid withdrawal amount\")\n",
        "\n",
        "    # Public method to check balance\n",
        "    def get_balance(self):\n",
        "        return self.__balance\n",
        "    def __apply_interest(self):\n",
        "        self.__balance *= 1.05  # Apply 5% interest\n",
        "\n",
        "# Usage\n",
        "account = BankAccount(\"John Doe\", 1000)\n",
        "print(f\"Account Holder: {account.account_holder}\")  # Accessing public attribute\n",
        "\n",
        "account.deposit(500)  # Public method to deposit money\n",
        "print(f\"Balance after deposit: {account.get_balance()}\")  # Accessing balance through a public method\n",
        "\n",
        "account.withdraw(200)  # Public method to withdraw money\n",
        "print(f\"Balance after withdrawal: {account.get_balance()}\")  # Accessing balance again\n"
      ],
      "metadata": {
        "colab": {
          "base_uri": "https://localhost:8080/"
        },
        "id": "UyUZEJT0OjBq",
        "outputId": "5c2011dc-5d35-4ad1-b2ed-b93b0c96ce9a"
      },
      "execution_count": null,
      "outputs": [
        {
          "output_type": "stream",
          "name": "stdout",
          "text": [
            "Account Holder: John Doe\n",
            "Balance after deposit: 1500\n",
            "Balance after withdrawal: 1300\n"
          ]
        }
      ]
    },
    {
      "cell_type": "markdown",
      "source": [
        "4.Discuss the difference between private public and protected access modifiers in python\n",
        "Public Access Modifier\n",
        "Syntax: No special prefix is used.\n",
        "Accessibility: Public attributes and methods are accessible from anywhere, both inside and outside the class.\n",
        "Purpose: Public members are intended to be accessed and modified by any part of the code. They represent the interface that the class exposes to the outside world.\n",
        " Protected Access Modifier\n",
        "Syntax: A single underscore (_) prefix is used.\n",
        "Accessibility: Protected attributes and methods are intended to be accessed only within the class and its subclasses. However, they are still accessible from outside the class, but the underscore is a convention to signal that they are intended for internal use.\n",
        "Purpose: Protected members are used when you want to indicate that certain data or methods are not part of the public API but can be used by subclasses or by the class itself.\n",
        "Private Access Modifier\n",
        "Syntax: A double underscore (__) prefix is used.\n",
        "Accessibility: Private attributes and methods are intended to be accessed only within the class itself. Python uses name mangling to make it harder to accidentally access these members from outside the class.\n",
        "Purpose: Private members are used when you want to completely encapsulate the data or methods within the class, preventing them from being accessed or modified directly from outside the class."
      ],
      "metadata": {
        "id": "q2ruebdGPD0B"
      }
    },
    {
      "cell_type": "markdown",
      "source": [
        "5.Create a python class called person with a private attribute __name Provide a method to get and set the name attribute"
      ],
      "metadata": {
        "id": "7i-JN73wPvZc"
      }
    },
    {
      "cell_type": "code",
      "source": [
        "class Person:\n",
        "    def __init__(self, name=None):\n",
        "        self.__name = name  # Private attribute\n",
        "\n",
        "    # Getter method for the private attribute __name\n",
        "    def get_name(self):\n",
        "        return self.__name\n",
        "\n",
        "    # Setter method for the private attribute __name\n",
        "    def set_name(self, name):\n",
        "        if isinstance(name, str) and name.strip():\n",
        "            self.__name = name\n",
        "        else:\n",
        "            raise ValueError(\"Name must be a non-empty string\")\n",
        "\n",
        "# Usage\n",
        "person = Person(\"John Doe\")\n",
        "\n",
        "# Get the name using the getter method\n",
        "print(person.get_name())  # Output: John Doe\n",
        "\n",
        "# Set a new name using the setter method\n",
        "person.set_name(\"Jane Doe\")\n",
        "print(person.get_name())"
      ],
      "metadata": {
        "colab": {
          "base_uri": "https://localhost:8080/"
        },
        "id": "5N_t1bJxQQAo",
        "outputId": "21bfcf42-26b9-4447-c19d-9439e9841caf"
      },
      "execution_count": null,
      "outputs": [
        {
          "output_type": "stream",
          "name": "stdout",
          "text": [
            "John Doe\n",
            "Jane Doe\n"
          ]
        }
      ]
    },
    {
      "cell_type": "markdown",
      "source": [
        "6.Explain the purpose of getter and setter method in encapsulation.Provide an example\n",
        "n object-oriented programming, encapsulation is the practice of bundling data (attributes) and methods that operate on that data into a single unit, typically a class. Encapsulation also involves restricting direct access to some of the object's components, which is where getter and setter methods come into play.\n",
        "\n",
        "1. Getter Method\n",
        "Purpose: The getter method is used to access or \"get\" the value of a private attribute from outside the class. By providing a controlled way to retrieve the attribute's value, the class can enforce certain rules or perform actions whenever the attribute is accessed. This maintains the integrity and security of the attribute.\n",
        "Example Use Case: You might want to log access to a particular attribute or return a computed value rather than the raw attribute.\n",
        "2. Setter Method\n",
        "Purpose: The setter method is used to update or \"set\" the value of a private attribute. It allows you to include validation, logging, or other operations when the attribute is modified. This ensures that the attribute remains in a valid state and prevents improper values from being assigned."
      ],
      "metadata": {
        "id": "dPPLN0HAQVnv"
      }
    },
    {
      "cell_type": "code",
      "source": [
        "class Student:\n",
        "    def __init__(self, name, age):\n",
        "        self.__name = name  # Private attribute\n",
        "        self.__age = age    # Private attribute\n",
        "\n",
        "    # Getter for name\n",
        "    def get_name(self):\n",
        "        return self.__name\n",
        "\n",
        "    # Setter for name\n",
        "    def set_name(self, name):\n",
        "        if isinstance(name, str) and name.strip():\n",
        "            self.__name = name\n",
        "        else:\n",
        "            raise ValueError(\"Name must be a non-empty string\")\n",
        "\n",
        "    # Getter for age\n",
        "    def get_age(self):\n",
        "        return self.__age\n",
        "\n",
        "    # Setter for age\n",
        "    def set_age(self, age):\n",
        "        if isinstance(age, int) and age > 0:\n",
        "          self.__age = age\n",
        "        else:\n",
        "            raise ValueError(\"Age must be a positive integer\")\n",
        "\n",
        "# Usage\n",
        "student = Student(\"Alice\", 20)\n",
        "\n",
        "# Accessing the name using the getter\n",
        "print(student.get_name())  # Output: Alice\n",
        "\n",
        "# Modifying the name using the setter\n",
        "student.set_name(\"Bob\")\n",
        "print(student.get_name())  # Output: Bob"
      ],
      "metadata": {
        "colab": {
          "base_uri": "https://localhost:8080/"
        },
        "id": "AF8aaBZXQsWn",
        "outputId": "5889d910-7c30-4916-ba7c-adbc6d67be79"
      },
      "execution_count": null,
      "outputs": [
        {
          "output_type": "stream",
          "name": "stdout",
          "text": [
            "Alice\n",
            "Bob\n"
          ]
        }
      ]
    },
    {
      "cell_type": "markdown",
      "source": [
        "7.what is the name mangling in python and how does it effect encapsulation\n",
        "Name mangling is a mechanism in Python that alters the name of class attributes that are marked as private by prefixing them with a double underscore (__). When a class attribute or method name is prefixed with __, Python internally changes its name to include the class name as a prefix. This process is called name mangling.\n",
        "\n",
        "The purpose of name mangling is to prevent accidental access to private attributes and methods from outside the class, especially in subclasses. It is a way to enforce a form of encapsulation by making it harder (but not impossible) to access or modify these private members directly."
      ],
      "metadata": {
        "id": "JuQIrxqoQ61r"
      }
    },
    {
      "cell_type": "markdown",
      "source": [
        "8.Create an python class called Bank account with private attributes for the account balance (\"__balance) and account number(\"__account number)Provide methods for depositing and withdrawal money"
      ],
      "metadata": {
        "id": "d0sw7DK3RTDO"
      }
    },
    {
      "cell_type": "code",
      "source": [
        "class BankAccount:\n",
        "    def __init__(self, account_number, initial_balance=0):\n",
        "        self.__account_number = account_number  # Private attribute for account number\n",
        "        self.__balance = initial_balance        # Private attribute for balance\n",
        "\n",
        "    # Method to deposit money\n",
        "    def deposit(self, amount):\n",
        "        if amount > 0:\n",
        "            self.__balance += amount\n",
        "            print(f\"Deposited {amount}. New balance is {self.__balance}.\")\n",
        "        else:\n",
        "            raise ValueError(\"Deposit amount must be positive\")\n",
        "\n",
        "    # Method to withdraw money\n",
        "    def withdraw(self, amount):\n",
        "        if 0 < amount <= self.__balance:\n",
        "            self.__balance -= amount\n",
        "            print(f\"Withdrew {amount}. New balance is {self.__balance}.\")\n",
        "        else:\n",
        "          raise ValueError(\"Insufficient funds or invalid withdrawal amount\")\n",
        "\n",
        "    # Method to get the current balance\n",
        "    def get_balance(self):\n",
        "        return self.__balance\n",
        "\n",
        "    # Method to get the account number\n",
        "    def get_account_number(self):\n",
        "        return self.__account_number\n",
        "account = BankAccount(\"123456789\", 1000)  # Creating a BankAccount object with an initial balance\n",
        "\n",
        "# Deposit money\n",
        "account.deposit(500)  # Deposited 500. New balance is 1500.\n",
        "\n",
        "# Withdraw money\n",
        "account.withdraw(200)  # Withdrew 200. New balance is 1300.\n",
        "\n",
        "# Get the current balance\n",
        "print(f\"Current balance: {account.get_balance()}\")  # Output: Current balance: 1300\n",
        "\n",
        "# Get the account number\n",
        "print(f\"Account number: {account.get_account_number()}\")"
      ],
      "metadata": {
        "colab": {
          "base_uri": "https://localhost:8080/"
        },
        "id": "pgX1hpGpSDtl",
        "outputId": "f0ad53e8-fcb5-46ec-de7f-5721b936d39b"
      },
      "execution_count": null,
      "outputs": [
        {
          "output_type": "stream",
          "name": "stdout",
          "text": [
            "Deposited 500. New balance is 1500.\n",
            "Withdrew 200. New balance is 1300.\n",
            "Current balance: 1300\n",
            "Account number: 123456789\n"
          ]
        }
      ]
    },
    {
      "cell_type": "markdown",
      "source": [
        "9.Discuss the advantage ofencapsulation in terms of code maintainability and security\n",
        "Encapsulation is a fundamental concept in object-oriented programming (OOP) that offers several advantages, particularly in terms of code maintainability and security:\n",
        "\n",
        "1. Code Maintainability\n",
        "Modularity: Encapsulation promotes modularity by allowing a class to manage its own data and behavior. This means that each class can be developed, tested, and maintained independently. If changes need to be made to a class, they can often be done without affecting other parts of the program, reducing the risk of introducing bugs.\n",
        "Ease of Understanding: By hiding the internal workings of a class and exposing only what is necessary through public methods, encapsulation makes code easier to understand. Developers can work with a class without needing to know its internal implementation, focusing only on how to interact with it.\n",
        "Flexibility: Encapsulation allows the internal implementation of a class to change without altering the public interface. This flexibility means that you can improve or refactor the internal code without breaking dependent code, as long as the external interface remains consistent.\n"
      ],
      "metadata": {
        "id": "MUfvZ-4iSYli"
      }
    },
    {
      "cell_type": "markdown",
      "source": [
        "10.How can you access protected atttributes in python.Provide an example demonstrating the use of name mangling\n",
        "rivate attributes use double underscores and are intended to be hidden from outside access. Python \"mangles\" the name to prevent accidental access."
      ],
      "metadata": {
        "id": "VEVtpwplVIkS"
      }
    },
    {
      "cell_type": "code",
      "source": [
        "class MyClass:\n",
        "    def __init__(self):\n",
        "        self.__private_attr = \"I am private\"\n",
        "\n",
        "    def show_private(self):\n",
        "        print(f\"Accessing private attribute from inside the class: {self.__private_attr}\")\n",
        "\n",
        "# Creating an instance of MyClass\n",
        "obj = MyClass()\n",
        "obj.show_private()\n",
        "\n",
        "# Accessing the private attribute using name mangling\n",
        "print(f\"Accessing private attribute using name mangling: {obj._MyClass__private_attr}\")\n",
        "\n"
      ],
      "metadata": {
        "colab": {
          "base_uri": "https://localhost:8080/"
        },
        "id": "7FgbMoxwVxNX",
        "outputId": "606e0565-3257-4cc9-b836-6787a738f6be"
      },
      "execution_count": null,
      "outputs": [
        {
          "output_type": "stream",
          "name": "stdout",
          "text": [
            "Accessing private attribute from inside the class: I am private\n",
            "Accessing private attribute using name mangling: I am private\n"
          ]
        }
      ]
    },
    {
      "cell_type": "markdown",
      "source": [
        "11.Create a python class hierarchy for a school system including classes for students teacher and  courses and inmplement encapsulation principles to protect sensitive information"
      ],
      "metadata": {
        "id": "BKuWX5tNV3cb"
      }
    },
    {
      "cell_type": "code",
      "source": [
        "teacher = Teacher(name=\"John Doe\", id_number=\"T001\", salary=50000)\n",
        "\n",
        "# Create a course and assign the teacher\n",
        "course = Course(course_name=\"Math 101\", teacher=teacher)\n",
        "\n",
        "# Create a student and enroll in the course\n",
        "student = Student(name=\"Jane Smith\", id_number=\"S001\")\n",
        "course.enroll_student(student)\n",
        "\n",
        "# Add a grade for the student\n",
        "student.add_grade(course_name=\"Math 101\", grade=95.0)\n",
        "\n",
        "# Access information\n",
        "print(f\"Teacher: {course.get_teacher().get_name()}\")\n",
        "print(f\"Course: {course.get_course_name()}\")\n",
        "print(f\"Students Enrolled: {[student.get_name() for student in course.get_students()]}\")\n",
        "print(f\"Grades for {student.get_name()}: {student.get_grades()}\")\n",
        "\n",
        "# Accessing protected and private attributes\n",
        "print(f\"Teacher Salary: {teacher.get_salary()}\")\n",
        "teacher.set_salary(55000)  # Update the salary\n",
        "print(f\"Updated Salary: {teacher.get_salary()}\")"
      ],
      "metadata": {
        "id": "aOF0RKtrW1JQ"
      },
      "execution_count": null,
      "outputs": []
    },
    {
      "cell_type": "markdown",
      "source": [
        "13.what is the data hiding and why it important to encapsulation provide an example\n",
        "Data hiding is a concept in object-oriented programming (OOP) where certain details of a class (like its data members) are kept private, hidden from outside access. The primary goal is to prevent direct access to internal attributes or methods, thus safeguarding the internal state of an object from unintended or harmful interference.\n",
        "\n",
        "Data hiding is a crucial part of encapsulation, which is the practice of bundling data (attributes) and methods (functions) that operate on the data into a single unit, typically a class. By hiding the data, encapsulation helps maintain the integrity of the data, ensuring that it is accessed or modified only in intended ways."
      ],
      "metadata": {
        "id": "pRzjz24yW2kL"
      }
    },
    {
      "cell_type": "code",
      "source": [
        "class BankAccount:\n",
        "    def __init__(self, account_number: str, initial_balance: float):\n",
        "        self.__account_number = account_number  # Private attribute\n",
        "        self.__balance = initial_balance        # Private attribute\n",
        "\n",
        "    def deposit(self, amount: float):\n",
        "        if amount > 0:\n",
        "            self.__balance += amount\n",
        "        else:\n",
        "            raise ValueError(\"Deposit amount must be positive\")\n",
        "\n",
        "    def withdraw(self, amount: float):\n",
        "        if 0 < amount <= self.__balance:\n",
        "            self.__balance -= amount\n",
        "        else:\n",
        "            raise ValueError(\"Invalid withdrawal amount\")\n",
        "\n",
        "    def get_balance(self) -> float:\n",
        "        return self.__balance\n",
        "\n",
        "    def get_account_number(self) -> str:\n",
        "        return self.__account_number\n",
        "account = BankAccount(account_number=\"123456789\", initial_balance=1000.0)\n",
        "\n",
        "# Accessing the balance using the public method\n",
        "print(\"Balance:\", account.get_balance())\n",
        "\n",
        "# Depositing money\n",
        "account.deposit(500.0)\n",
        "print(\"Updated Balance:\", account.get_balance())\n",
        "\n"
      ],
      "metadata": {
        "colab": {
          "base_uri": "https://localhost:8080/"
        },
        "id": "xI-go7tbXZcA",
        "outputId": "d46abd92-7c20-44db-819b-93b766fd03ce"
      },
      "execution_count": null,
      "outputs": [
        {
          "output_type": "stream",
          "name": "stdout",
          "text": [
            "Balance: 1000.0\n",
            "Updated Balance: 1500.0\n"
          ]
        }
      ]
    },
    {
      "cell_type": "markdown",
      "source": [
        "14.Create an python class called Bank account with private attributes for the account balance (\"balance) and account number(\"account number)Provide methods for depositing and withdrawal money"
      ],
      "metadata": {
        "id": "0P6FvutKXitL"
      }
    },
    {
      "cell_type": "code",
      "source": [
        "class BankAccount:\n",
        "    def __init__(self, account_number, initial_balance=0):\n",
        "        self.__account_number = account_number  # Private attribute\n",
        "        self.__balance = initial_balance  # Private attribute\n",
        "\n",
        "    def deposit(self, amount):\n",
        "        if amount > 0:\n",
        "            self.__balance += amount\n",
        "            print(f\"Deposited: ${amount:.2f}\")\n",
        "        else:\n",
        "            print(\"Deposit amount must be positive.\")\n",
        "\n",
        "    def withdraw(self, amount):\n",
        "        if 0 < amount <= self.__balance:\n",
        "            self.__balance -= amount\n",
        "            print(f\"Withdrew: ${amount:.2f}\")\n",
        "        else:\n",
        "            print(\"Invalid withdrawal amount or insufficient funds.\")\n",
        "\n",
        "    def get_balance(self):\n",
        "        return self.__balance\n",
        "\n",
        "    def get_account_number(self):\n",
        "        return self.__account_number\n",
        "\n",
        "# Example usage\n",
        "account = BankAccount(\"12345678\", 100)\n",
        ".deposit(50)\n",
        "account.withdraw(30)\n",
        "print(f\"Balance: ${account.get_balance():.2f}\")\n",
        "print(f\"Account Number: {account.get_account_number()}\")"
      ],
      "metadata": {
        "colab": {
          "base_uri": "https://localhost:8080/"
        },
        "id": "K1sGLCe2Z-G4",
        "outputId": "3ea9fe2d-fcc3-4621-a3bb-4665c0c760a2"
      },
      "execution_count": null,
      "outputs": [
        {
          "output_type": "stream",
          "name": "stdout",
          "text": [
            "Deposited: $50.00\n",
            "Withdrew: $30.00\n",
            "Balance: $120.00\n",
            "Account Number: 12345678\n"
          ]
        }
      ]
    },
    {
      "cell_type": "markdown",
      "source": [],
      "metadata": {
        "id": "WW9SwxtYaaOa"
      }
    },
    {
      "cell_type": "markdown",
      "source": [
        "15.Discuss the use of accessors and mutators in encapsulation How do they help maintain over attribute\n",
        "n object-oriented programming (OOP), encapsulation is the practice of restricting access to certain components of an object. This is done to protect the integrity of the object's data. Encapsulation is achieved through the use of accessors (getter methods) and mutators (setter methods), which control how attributes are accessed or modified.\n",
        "\n",
        "1. Accessors (Getters):\n",
        "An accessor method allows external code to retrieve or \"get\" the value of an attribute without directly accessing it. This ensures that the data remains hidden (encapsulated) and provides a controlled way of retrieving it.\n",
        "A mutator method allows external code to modify or \"set\" the value of an attribute while also enforcing rules or validations, if necessary. This prevents direct, uncontrolled modification of the attribute's value.\n",
        "\n"
      ],
      "metadata": {
        "id": "zD-C97W6acGv"
      }
    },
    {
      "cell_type": "markdown",
      "source": [
        "16.\n",
        "You said:\n",
        "Create an python class called Bank account with private attributes for the account balance (\"balance) and account number(\"account number)Provide methods for depositing and withdrawal money\n",
        "\n",
        "ChatGPT said:\n",
        "ChatGPT\n",
        "Here’s a Python class for BankAccount with private attributes for balance and account_number, along with methods for depositing and withdrawing money:\n",
        "\n",
        "python\n",
        "Copy code\n",
        "class BankAccount:\n",
        "    def __init__(self, account_number, initial_balance=0):\n",
        "        self.__account_number = account_number  # Private attribute\n",
        "        self.__balance = initial_balance  # Private attribute\n",
        "\n",
        "    def deposit(self, amount):\n",
        "        if amount > 0:\n",
        "            self.__balance += amount\n",
        "            print(f\"Deposited: ${amount:.2f}\")\n",
        "        else:\n",
        "            print(\"Deposit amount must be positive.\")\n",
        "\n",
        "    def withdraw(self, amount):\n",
        "        if 0 < amount <= self.__balance:\n",
        "            self.__balance -= amount\n",
        "            print(f\"Withdrew: ${amount:.2f}\")\n",
        "        else:\n",
        "            print(\"Invalid withdrawal amount or insufficient funds.\")\n",
        "\n",
        "    def get_balance(self):\n",
        "        return self.__balance\n",
        "\n",
        "    def get_account_number(self):\n",
        "        return self.__account_number\n",
        "\n",
        "# Example usage\n",
        "account = BankAccount(\"12345678\", 100)\n",
        "account.deposit(50)\n",
        "account.withdraw(30)\n",
        "print(f\"Balance: ${account.get_balance():.2f}\")\n",
        "print(f\"Account Number: {account.get_account_number()}\")\n",
        "Key Features:\n",
        "Private Attributes:\n",
        "__account_number: The account number of the bank account.\n",
        "__balance: The balance in the account.\n",
        "Methods:\n",
        "deposit(amount): Adds money to the account if the amount is positive.\n",
        "withdraw(amount): Subtracts money from the account if the amount is valid and sufficient funds are available.\n",
        "get_balance(): Returns the current balance of the account.\n",
        "get_account_number(): Returns the account number.\n",
        "This class ensures that the account number and balance are kept private and can only be accessed or modified through the provided methods.\n",
        "\n",
        "\n",
        "\n",
        "\n",
        "\n",
        "\n",
        "You said:\n",
        "15.Discuss the use of accessors and mutators in encapsulation How do they help maintain over attribute access\n",
        "ChatGPT said:\n",
        "ChatGPT\n",
        "Accessors and Mutators in Encapsulation\n",
        "In object-oriented programming, encapsulation is a principle that involves bundling the data (attributes) and the methods (functions) that operate on that data into a single unit, or class. It also involves restricting direct access to some of the object's attributes, which is typically done by making these attributes private.\n",
        "\n",
        "To interact with these private attributes, we use accessors (getters) and mutators (setters). These methods provide controlled access to an object’s attributes.\n",
        "\n",
        "Accessors (Getters)\n",
        "Accessors are methods used to retrieve the value of a private attribute. They are typically named with a get_ prefix followed by the attribute name. For example, if an object has a private attribute __balance, the corresponding accessor might be get_balance().\n",
        "\n",
        "Example:\n",
        "\n",
        "python\n",
        "Copy code\n",
        "def get_balance(self):\n",
        "    return self.__balance\n",
        "Mutators (Setters)\n",
        "Mutators are methods used to modify the value of a private attribute. They are typically named with a set_ prefix followed by the attribute name. For example, for a private attribute __balance, the corresponding mutator might be set_balance(new_balance).\n",
        "\n",
        "Example:\n",
        "\n",
        "python\n",
        "Copy code\n",
        "def set_balance(self, amount):\n",
        "    if amount >= 0:\n",
        "        self.__balance = amount\n",
        "    else:\n",
        "        print(\"Balance cannot be negative.\")\n",
        "Benefits of Accessors and Mutators in Encapsulation\n",
        "Controlled Access: By using accessors and mutators, you can control how the attributes of a class are accessed and modified. This prevents unauthorized or unintended changes to the attributes, thereby maintaining the integrity of the data.\n",
        "\n",
        "Validation and Constraints: Mutators allow you to enforce rules and validations before modifying an attribute. For example, in the set_balance() method, you can ensure that the balance does not become negative.\n",
        "\n",
        "Flexibility: If you later decide to change how an attribute is stored or represented internally, you can do so without changing the external interface (the methods). This makes your code more maintainable and adaptable to change.\n",
        "\n",
        "Encapsulation Integrity: Encapsulation encourages the design of a clear and well-defined interface for interacting with an object. This keeps the internal workings of the object hidden from the outside world, reducing complexity and potential for errors.\n",
        "\n",
        "Example: Accessors and Mutators in Use\n",
        "Here’s a simple example using the BankAccount class:\n",
        "\n",
        "python\n",
        "Copy code\n",
        "class BankAccount:\n",
        "    def __init__(self, account_number, initial_balance=0):\n",
        "        self.__account_number = account_number\n",
        "        self.__balance = initial_balance\n",
        "\n",
        "    # Accessor for balance\n",
        "    def get_balance(self):\n",
        "        return self.__balance\n",
        "\n",
        "    # Mutator for balance\n",
        "    def set_balance(self, amount):\n",
        "        if amount >= 0:\n",
        "            self.__balance = amount\n",
        "        else:\n",
        "            print(\"Balance cannot be negative.\")\n",
        "\n",
        "    # Accessor for account number\n",
        "    def get_account_number(self):\n",
        "        return self.__account_number\n",
        "\n",
        "# Example usage\n",
        "account = BankAccount(\"12345678\", 100)\n",
        "print(f\"Initial Balance: ${account.get_balance():.2f}\")\n",
        "account.set_balance(150)\n",
        "print(f\"Updated Balance: ${account.get_balance():.2f}\")\n",
        "In this example:\n",
        "\n",
        "The get_balance() method allows controlled access to the __balance attribute.\n",
        "The set_balance() method ensures that only valid amounts are assigned to the __balance attribute.\n",
        "Conclusion\n",
        "Accessors and mutators are essential tools in achieving encapsulation in object-oriented programming. They help maintain control over how an object's attributes are accessed and modified, ensuring that the internal state of an object remains consistent and valid throughout its lifecycle.\n",
        "\n",
        "\n",
        "1/2\n",
        "\n",
        "You said:\n",
        "16.What are the potential drawbacks on encapsulation in python\n",
        "\n",
        "---\n",
        " is a fundamental concept in object-oriented programming (OOP) that provides numrous benefits, such as controlled access to data, enhanced security, and improved maintainability. However, it also comes with some potential drawbacks, particularly in Python. Here are some of the potential drawbacks of encapsulation in Python:\n",
        "\n",
        "1. Limited Enforcement of Private Attributes\n",
        "Python's \"Private\" Convention: In Python, private attributes are indicated by prefixing the attribute name with double underscores (e.g., __balance). However, this doesn't make the attribute truly private. Python uses name mangling to make these attributes harder to access from outside the class, but they can still be accessed if someone knows the mangled name.\n",
        "\n"
      ],
      "metadata": {
        "id": "pFINBjhCacC_"
      }
    },
    {
      "cell_type": "markdown",
      "source": [
        "17.Create a python class for a library system that encapsulates book info , including title authors and avilable status"
      ],
      "metadata": {
        "id": "YatW3j03ab-X"
      }
    },
    {
      "cell_type": "code",
      "source": [
        "class Book:\n",
        "    def __init__(self, title, authors):\n",
        "        self.__title = title  # Private attribute for the title\n",
        "        self.__authors = authors  # Private attribute for the authors\n",
        "        self.__available = True  # Private attribute for availability status\n",
        "\n",
        "    # Accessor method for title\n",
        "    def get_title(self):\n",
        "        return self.__title\n",
        "\n",
        "    # Accessor method for authors\n",
        "    def get_authors(self):\n",
        "        return self.__authors\n",
        "\n",
        "    # Accessor method for availability status\n",
        "    def is_available(self):\n",
        "        return self.__available\n",
        "\n",
        "    # Mutator method for checking out the book\n",
        "    def check_out(self):\n",
        "        if self.__available:\n",
        "            self.__available = False\n",
        "            print(f\"The book '{self.__title}' has been checked out.\")\n",
        "        else:\n",
        "            print(f\"Sorry, the book '{self.__title}' is currently unavailable.\")\n",
        "\n",
        "    # Mutator method for returning the book\n",
        "    def return_book(self):\n",
        "        if not self.__available:\n",
        "            self.__available = True\n",
        "            print(f\"The book '{self.__title}' has been returned.\")\n",
        "        else:\n",
        "            print(f\"The book '{self.__title}' was not checked out.\")\n",
        "\n",
        "# Example usage\n",
        "book1 = Book(\"1984\", [\"George Orwell\"])\n",
        "print(f\"Title: {book1.get_title()}\")\n",
        "print(f\"Authors: {', '.join(book1.get_authors())}\")\n",
        "print(f\"Available: {book1.is_available()}\")\n",
        "\n",
        "# Checking out the book\n",
        "book1.check_out()\n",
        "print(f\"Available: {book1.is_available()}\")\n",
        "\n",
        "# Trying to check out the book again\n",
        "book1.check_out()\n",
        "\n",
        "# Returning the book\n",
        "book1.return_book()\n",
        "print(f\"Available: {book1.is_available()}\")"
      ],
      "metadata": {
        "colab": {
          "base_uri": "https://localhost:8080/"
        },
        "id": "XGD3TYc9cmgL",
        "outputId": "1303d72b-2f26-464f-dda5-126a5340fd41"
      },
      "execution_count": null,
      "outputs": [
        {
          "output_type": "stream",
          "name": "stdout",
          "text": [
            "Title: 1984\n",
            "Authors: George Orwell\n",
            "Available: True\n",
            "The book '1984' has been checked out.\n",
            "Available: False\n",
            "Sorry, the book '1984' is currently unavailable.\n",
            "The book '1984' has been returned.\n",
            "Available: True\n"
          ]
        }
      ]
    },
    {
      "cell_type": "markdown",
      "source": [
        "18.explain how encapsulates enhance code reusability  and modularity in python program\n",
        "Encapsulation is a key concept in object-oriented programming (OOP) that involves bundling the data (attributes) and methods (functions) that operate on that data into a single unit, typically a class. This concept not only helps in protecting the internal state of an object but also plays a crucial role in improving code reusability and modularity.\n",
        "\n",
        "1. Code Reusability\n",
        "Encapsulation enhances code reusability by allowing developers to create self-contained classes that can be easily reused across different parts of a program or even in different projects. Here's how:\n",
        "\n",
        "Self-Contained Classes: Encapsulated classes have their own internal state and behavior, which means they can be used independently of other classes or functions. This makes it easy to reuse these classes without worrying about dependencies or conflicts with other parts of the code.\n",
        "\n"
      ],
      "metadata": {
        "id": "ro-p0y27cp1O"
      }
    },
    {
      "cell_type": "markdown",
      "source": [],
      "metadata": {
        "id": "Xtk4A9E7dTFY"
      }
    },
    {
      "cell_type": "markdown",
      "source": [
        "19.Describe the concept of information hiding in encapsulation why it is essential in software\n",
        "\n",
        "Reduced Complexity: By hiding the internal implementation details, information hiding reduces the complexity that developers need to manage. When the internal workings are hidden, developers can focus on using the object or class without needing to understand its inner workings.\n",
        "Ease of Updates: Since the internal implementation is hidden, changes or improvements can be made to the internal code without affecting other parts of the system that depend on it. This makes maintenance easier and safer, as updates won't break existing code that relies on the public interface.\n",
        "2. Encourages Modularity\n",
        "Self-Contained Components: Information hiding supports the creation of modular components in a system. Each module or class can be developed, tested, and maintained independently, as its internal details are hidden from other modules. This modularity promotes a cleaner design and makes it easier to manage large codebases."
      ],
      "metadata": {
        "id": "98Uc6kQwdTJ9"
      }
    },
    {
      "cell_type": "markdown",
      "source": [],
      "metadata": {
        "id": "TcdpCaeLd5-K"
      }
    },
    {
      "cell_type": "markdown",
      "source": [],
      "metadata": {
        "id": "S7g-yJKDd6D3"
      }
    },
    {
      "cell_type": "markdown",
      "source": [],
      "metadata": {
        "id": "llNG61Did6GF"
      }
    },
    {
      "cell_type": "markdown",
      "source": [],
      "metadata": {
        "id": "bVcfTWQhd6Ii"
      }
    },
    {
      "cell_type": "markdown",
      "source": [],
      "metadata": {
        "id": "tjYaVVPBd6Lj"
      }
    },
    {
      "cell_type": "markdown",
      "source": [
        "20.Create a python class called customer with private attributes for customer details like name address and contact information.Implement encapsulation to ensure data integrity and security"
      ],
      "metadata": {
        "id": "XeXvL7WFd6Pe"
      }
    },
    {
      "cell_type": "code",
      "source": [
        "class Customer:\n",
        "    def __init__(self, name, address, contact_info):\n",
        "        self.__name = name  # Private attribute for the customer's name\n",
        "        self.__address = address  # Private attribute for the customer's address\n",
        "        self.__contact_info = contact_info  # Private attribute for the customer's contact information\n",
        "\n",
        "    # Accessor method for name\n",
        "    def get_name(self):\n",
        "        return self.__name\n",
        "\n",
        "    # Mutator method for name\n",
        "    def set_name(self, name):\n",
        "        if name:  # Ensure the name is not empty\n",
        "            self.__name = name\n",
        "        else:\n",
        "            print(\"Invalid name.\")\n",
        "\n",
        "    # Accessor method for address\n",
        "    def get_address(self):\n",
        "        return self.__address\n",
        "\n",
        "    # Mutator method for address\n",
        "    def set_address(self, address):\n",
        "        if address:  # Ensure the address is not empty\n",
        "            self.__address = address\n",
        "        else:\n",
        "            print(\"Invalid address.\")\n",
        "\n",
        "    # Accessor method for contact information\n",
        "    def get_contact_info(self):\n",
        "        return self.__contact_info\n",
        "\n",
        "    # Mutator method for contact information\n",
        "    def set_contact_info(self, contact_info):\n",
        "        if contact_info:  # Ensure the contact information is valid\n",
        "            self.__contact_info = contact_info\n",
        "        else:\n",
        "            print(\"Invalid contact information.\")\n",
        "\n",
        "# Example usage\n",
        "customer = Customer(\"Alice Johnson\", \"123 Elm Street\", \"alice.johnson@example.com\")\n",
        "print(f\"Name: {customer.get_name()}\")\n",
        "print(f\"Address: {customer.get_address()}\")\n",
        "print(f\"Contact Info: {customer.get_contact_info()}\")\n",
        "\n",
        "# Updating customer information\n",
        "customer.set_name(\"Alice J.\")\n",
        "customer.set_address(\"456 Oak Avenue\")\n",
        "customer.set_contact_info(\"alice.j@example.com\")\n",
        "\n",
        "print(\"\\nUpdated Customer Details:\")\n",
        "print(f\"Name: {customer.get_name()}\")\n",
        "print(f\"Address: {customer.get_address()}\")\n",
        "print(f\"Contact Info: {customer.get_contact_info()}\")"
      ],
      "metadata": {
        "colab": {
          "base_uri": "https://localhost:8080/"
        },
        "id": "iwKUW5CVeu2x",
        "outputId": "54c1f9de-912f-4f03-9a58-7509e00b5d02"
      },
      "execution_count": null,
      "outputs": [
        {
          "output_type": "stream",
          "name": "stdout",
          "text": [
            "Name: Alice Johnson\n",
            "Address: 123 Elm Street\n",
            "Contact Info: alice.johnson@example.com\n",
            "\n",
            "Updated Customer Details:\n",
            "Name: Alice J.\n",
            "Address: 456 Oak Avenue\n",
            "Contact Info: alice.j@example.com\n"
          ]
        }
      ]
    },
    {
      "cell_type": "markdown",
      "source": [
        "1.What is the polymorphism in python and explain how it is related to object oriented programming\n",
        "Polymorphism is a core concept in object-oriented programming (OOP) that allows objects of different classes to be treated as objects of a common superclass. It enables a single function or method to work in different ways depending on the object it is acting upon. The term \"polymorphism\" means \"many shapes\" and in programming, it refers to the ability to use a single interface to represent different underlying forms (data types).\n",
        "Method Overriding: This occurs when a subclass provides a specific implementation of a method that is already defined in its superclass. The subclass's method overrides the superclass's method, allowing different classes to provide their own specific behavior while sharing the same method name."
      ],
      "metadata": {
        "id": "NHY40FmWgm6X"
      }
    },
    {
      "cell_type": "markdown",
      "source": [
        "2.Describe the difference between compile time polymorphism and run time poly morphism in python\n",
        "Polymorphism in programming can generally be categorized into two types: compile-time polymorphism and run-time polymorphism. Although Python is a dynamically typed language and does not perform type checking at compile time, the concepts can still be discussed in terms of method overloading and method overriding.\n",
        "\n",
        "1. Compile-Time Polymorphism (Method Overloading)\n",
        "Definition: Compile-time polymorphism, also known as method overloading, refers to the ability to define multiple methods with the same name but different parameters (different number or types of parameters) in the same class. The correct method to be invoked is determined at compile time based on the method signature.\n",
        "\n",
        "Python Context: Python does not support traditional method overloading like statically typed languages (e.g., Java or C++). Instead, if you define multiple methods with the same name in a class, the last defined method will override the previous ones. However, you can achieve a similar effect using default arguments or variable-length arguments (*args, **kwargs).\n",
        "Definition: Run-time polymorphism, also known as method overriding, occurs when a subclass provides a specific implementation of a method that is already defined in its superclass. The decision on which method to call is made at run-time, based on the object type.\n",
        "\n",
        "Python Context: Python fully supports run-time polymorphism through method overriding. When an object of a subclass is created and a method is called, Python will execute the overridden method in the subclass, even if the method is called on a reference to the superclass."
      ],
      "metadata": {
        "id": "hM3SPTR-gm-3"
      }
    },
    {
      "cell_type": "markdown",
      "source": [
        "3.Create a python class hierachy for shapes and demonstrate polymorphism through a commom method such as calculate_area"
      ],
      "metadata": {
        "id": "XTkIS6_xhvjy"
      }
    },
    {
      "cell_type": "code",
      "source": [
        "import math\n",
        "\n",
        "# Base class\n",
        "class Shape:\n",
        "    def calculate_area(self):\n",
        "        raise NotImplementedError(\"Subclasses should implement this method!\")\n",
        "\n",
        "# Subclass for Rectangle\n",
        "class Rectangle(Shape):\n",
        "    def __init__(self, width, height):\n",
        "        self.width = width\n",
        "        self.height = height\n",
        "\n",
        "    def calculate_area(self):\n",
        "        return self.width * self.height\n",
        "\n",
        "# Subclass for Circle\n",
        "class Circle(Shape):\n",
        "    def __init__(self, radius):\n",
        "        self.radius = radius\n",
        "\n",
        "    def calculate_area(self):\n",
        "        return math.pi * (self.radius ** 2)\n",
        "\n",
        "# Subclass for Triangle\n",
        "class Triangle(Shape):\n",
        "    def __init__(self, base, height):\n",
        "        self.base = base\n",
        "        self.height = height\n",
        "\n",
        "    def calculate_area(self):\n",
        "        return 0.5 * self.base * self.height\n",
        "\n",
        "# Function to demonstrate polymorphism\n",
        "def print_area(shape):\n",
        "    print(f\"The area is: {shape.calculate_area()}\")\n",
        "\n",
        "# Example usage\n",
        "rectangle = Rectangle(5, 10)\n",
        "circle = Circle(7)\n",
        "triangle = Triangle(6, 8)\n",
        "\n",
        "print_area(rectangle)  # Outputs: The area is: 50\n",
        "print_area(circle)     # Outputs: The area is: 153.93804002589985\n",
        "print_area(triangle)   # Outputs: The area is: 24.0"
      ],
      "metadata": {
        "colab": {
          "base_uri": "https://localhost:8080/"
        },
        "id": "M8bT41o9iT0f",
        "outputId": "91d4fd32-3e97-4beb-ad50-c1c21d31436c"
      },
      "execution_count": null,
      "outputs": [
        {
          "output_type": "stream",
          "name": "stdout",
          "text": [
            "The area is: 50\n",
            "The area is: 153.93804002589985\n",
            "The area is: 24.0\n"
          ]
        }
      ]
    },
    {
      "cell_type": "markdown",
      "source": [
        "4.Explain the concept of method overriding in polymorphism provide an example\n",
        "Method overriding is a key aspect of run-time polymorphism in object-oriented programming (OOP). It occurs when a subclass provides a specific implementation of a method that is already defined in its superclass. The subclass's version of the method overrides the superclass's version, allowing for customized behavior.\n",
        "\n",
        "Concept\n",
        "Superclass Method: The base class (superclass) defines a method that provides a general implementation or a placeholder.\n",
        "Subclass Method: The derived class (subclass) overrides the superclass method to provide a more specific or detailed implementation.\n",
        "Run-Time Binding: At runtime, the method that gets executed is determined by the type of the object, not the type of the reference. This allows different subclasses to provide different implementations of the same method.\n",
        "Example of Method Overriding"
      ],
      "metadata": {
        "id": "nd3dR0cCii56"
      }
    },
    {
      "cell_type": "code",
      "source": [
        "class Animal:\n",
        "    def make_sound(self):\n",
        "        # Base class method\n",
        "        return \"Some generic animal sound\"\n",
        "\n",
        "class Dog(Animal):\n",
        "    def make_sound(self):\n",
        "        # Overriding method\n",
        "        return \"Woof!\"\n",
        "\n",
        "class Cat(Animal):\n",
        "    def make_sound(self):\n",
        "        # Overriding method\n",
        "        return \"Meow!\"\n",
        "\n",
        "# Function to demonstrate method overriding\n",
        "def describe_animal(animal):\n",
        "    print(animal.make_sound())\n",
        "\n",
        "# Example usage\n",
        "generic_animal = Animal()\n",
        "dog = Dog()\n",
        "cat = Cat()\n",
        "\n",
        "describe_animal(generic_animal)  # Outputs: Some generic animal sound\n",
        "describe_animal(dog)             # Outputs: Woof!\n",
        "describe_animal(cat)"
      ],
      "metadata": {
        "colab": {
          "base_uri": "https://localhost:8080/"
        },
        "id": "9jte2JmHjKiP",
        "outputId": "6bf58fcb-06f9-48d1-a666-2ee83fc46ace"
      },
      "execution_count": null,
      "outputs": [
        {
          "output_type": "stream",
          "name": "stdout",
          "text": [
            "Some generic animal sound\n",
            "Woof!\n",
            "Meow!\n"
          ]
        }
      ]
    },
    {
      "cell_type": "markdown",
      "source": [
        "5.How polymorphism different from method over riding in python.Provide an example\n",
        "Polymorphism\n",
        "Definition: Polymorphism is a broader concept that refers to the ability of different objects to be treated as instances of the same class through a common interface. It allows methods to operate on objects of different types as long as they adhere to a common interface.\n",
        "\n",
        "Focus: Polymorphism emphasizes the ability to use a unified interface for different data types or objects. It’s about how the same operation can behave differently depending on the object it’s applied to.\n",
        "\n",
        "Types: There are two main types of polymorphism:\n",
        "\n",
        "Compile-Time Polymorphism (or Method Overloading): Multiple methods with the same name but different signatures (not natively supported in Python).\n",
        "Run-Time Polymorphism (or Method Overriding): The method to be executed is determined at runtime based on the object's actual type.\n",
        "Method Overriding\n",
        "Definition: Method overriding is a specific type of run-time polymorphism where a subclass provides a specific implementation of a method that is already defined in its superclass. The subclass’s method overrides the superclass’s method."
      ],
      "metadata": {
        "id": "Dj90dOckjSlF"
      }
    },
    {
      "cell_type": "code",
      "source": [
        "import math\n",
        "\n",
        "# Base class\n",
        "class Shape:\n",
        "    def calculate_area(self):\n",
        "        raise NotImplementedError(\"Subclasses should implement this method!\")\n",
        "\n",
        "# Subclass for Rectangle\n",
        "class Rectangle(Shape):\n",
        "    def __init__(self, width, height):\n",
        "        self.width = width\n",
        "        self.height = height\n",
        "\n",
        "    def calculate_area(self):\n",
        "        return self.width * self.height\n",
        "\n",
        "# Subclass for Circle\n",
        "class Circle(Shape):\n",
        "    def __init__(self, radius):\n",
        "        self.radius = radius\n",
        "\n",
        "    def calculate_area(self):\n",
        "        return math.pi * (self.radius ** 2)\n",
        "\n",
        "# Function to demonstrate polymorphism\n",
        "def print_area(shape):\n",
        "    print(f\"The area is: {shape.calculate_area()}\")\n",
        "\n",
        "# Example usage\n",
        "shapes = [\n",
        "    Rectangle(5, 10),\n",
        "    Circle(7)\n",
        "]\n",
        "\n",
        "for shape in shapes:\n",
        "    print_area(shape)"
      ],
      "metadata": {
        "colab": {
          "base_uri": "https://localhost:8080/"
        },
        "id": "BLHIUANGkAN0",
        "outputId": "be090aff-4282-4174-ed5f-5c185e3ebfa6"
      },
      "execution_count": null,
      "outputs": [
        {
          "output_type": "stream",
          "name": "stdout",
          "text": [
            "The area is: 50\n",
            "The area is: 153.93804002589985\n"
          ]
        }
      ]
    },
    {
      "cell_type": "markdown",
      "source": [
        "6.Create a python class called animal and method speak then create child class"
      ],
      "metadata": {
        "id": "hZ5HTn0ckTyb"
      }
    },
    {
      "cell_type": "code",
      "source": [
        "class Animal:\n",
        "    def speak(self):\n",
        "        return \"Animal makes a sound\"\n",
        "\n",
        "# Child class inheriting from Animal\n",
        "class Dog(Animal):\n",
        "    def speak(self):\n",
        "        return \"Woof!\"\n",
        "\n",
        "# Example usage\n",
        "def make_animal_speak(animal):\n",
        "    print(animal.speak())\n",
        "\n",
        "# Creating instances\n",
        "generic_animal = Animal()\n",
        "dog = Dog()\n",
        "\n",
        "# Demonstrating method overriding\n",
        "make_animal_speak(generic_animal)  # Outputs: Animal makes a sound\n",
        "make_animal_speak(dog)"
      ],
      "metadata": {
        "colab": {
          "base_uri": "https://localhost:8080/"
        },
        "id": "T57VGYnYlBMB",
        "outputId": "90eb882f-6392-4510-dc1b-c7d9bcecc4fd"
      },
      "execution_count": null,
      "outputs": [
        {
          "output_type": "stream",
          "name": "stdout",
          "text": [
            "Animal makes a sound\n",
            "Woof!\n"
          ]
        }
      ]
    },
    {
      "cell_type": "markdown",
      "source": [
        "7.Discuss the use of abstract methods and classes in archieving polymorphism in python Provide an example using abc module"
      ],
      "metadata": {
        "id": "VmwwRaFblFWN"
      }
    },
    {
      "cell_type": "code",
      "source": [
        "from abc import ABC, abstractmethod\n",
        "\n",
        "# Abstract base class\n",
        "class Shape(ABC):\n",
        "    @abstractmethod\n",
        "    def calculate_area(self):\n",
        "        \"\"\"Method to calculate the area of the shape.\"\"\"\n",
        "        pass\n",
        "\n",
        "    @abstractmethod\n",
        "    def describe(self):\n",
        "        \"\"\"Method to provide a description of the shape.\"\"\"\n",
        "        pass\n",
        "\n",
        "# Concrete class for Rectangle\n",
        "class Rectangle(Shape):\n",
        "    def __init__(self, width, height):\n",
        "        self.width = width\n",
        "        self.height = height\n",
        "\n",
        "    def calculate_area(self):\n",
        "        return self.width * self.height\n",
        "\n",
        "    def describe(self):\n",
        "        return f\"Rectangle with width {self.width} and height {self.height}\"\n",
        "\n",
        "# Concrete class for Circle\n",
        "class Circle(Shape):\n",
        "    def __init__(self, radius):\n",
        "        self.radius = radius\n",
        "\n",
        "    def calculate_area(self):\n",
        "        return math.pi * (self.radius ** 2)\n",
        "\n",
        "    def describe(self):\n",
        "        return f\"Circle with radius {self.radius}\"\n",
        "\n",
        "# Function to demonstrate polymorphism\n",
        "def print_shape_info(shape):\n",
        "    print(shape.describe())\n",
        "    print(f\"Area: {shape.calculate_area()}\")\n",
        "\n",
        "# Example usage\n",
        "rectangle = Rectangle(5, 10)\n",
        "circle = Circle(7)\n",
        "\n",
        "print_shape_info(rectangle)\n",
        "print_shape_info(circle)"
      ],
      "metadata": {
        "colab": {
          "base_uri": "https://localhost:8080/"
        },
        "id": "q3qvLQDzlgLk",
        "outputId": "1345fcbe-32d0-44ad-c688-2a5de6edb5a5"
      },
      "execution_count": null,
      "outputs": [
        {
          "output_type": "stream",
          "name": "stdout",
          "text": [
            "Rectangle with width 5 and height 10\n",
            "Area: 50\n",
            "Circle with radius 7\n",
            "Area: 153.93804002589985\n"
          ]
        }
      ]
    },
    {
      "cell_type": "markdown",
      "source": [
        "9.create a python class hierarchy for a vehicle system and implement polymorphic start method that prints message specific to each vehicle"
      ],
      "metadata": {
        "id": "2pH7WwfBlj7I"
      }
    },
    {
      "cell_type": "code",
      "source": [
        "class Vehicle:\n",
        "    def start(self):\n",
        "        raise NotImplementedError(\"Subclasses should implement this method!\")\n",
        "\n",
        "# Subclass for Car\n",
        "class Car(Vehicle):\n",
        "    def start(self):\n",
        "        return \"The car engine starts with a roar!\"\n",
        "\n",
        "# Subclass for Motorcycle\n",
        "class Motorcycle(Vehicle):\n",
        "    def start(self):\n",
        "        return \"The motorcycle engine revs up!\"\n",
        "\n",
        "# Subclass for Truck\n",
        "class Truck(Vehicle):\n",
        "    def start(self):\n",
        "        return \"The truck engine rumbles to life!\"\n",
        "\n",
        "# Function to demonstrate polymorphism\n",
        "def start_vehicle(vehicle):\n",
        "    print(vehicle.start())\n",
        "\n",
        "# Example usage\n",
        "car = Car()\n",
        "motorcycle = Motorcycle()\n",
        "truck = Truck()\n",
        "\n",
        "start_vehicle(car)          # Outputs: The car engine starts with a roar!\n",
        "start_vehicle(motorcycle)   # Outputs: The motorcycle engine revs up!\n",
        "start_vehicle(truck)"
      ],
      "metadata": {
        "colab": {
          "base_uri": "https://localhost:8080/"
        },
        "id": "i-SQaLrGmBfm",
        "outputId": "a2116b06-8892-4ff7-928d-54870bb0c82f"
      },
      "execution_count": null,
      "outputs": [
        {
          "output_type": "stream",
          "name": "stdout",
          "text": [
            "The car engine starts with a roar!\n",
            "The motorcycle engine revs up!\n",
            "The truck engine rumbles to life!\n"
          ]
        }
      ]
    },
    {
      "cell_type": "markdown",
      "source": [
        "9.Explain the significance of the instance and issubclass() funcution in polymorphism in python\n",
        "Purpose: Checks if an object is an instance of a specific class or a tuple of classes. It helps determine if an object conforms to a certain type or class hierarchy.\n",
        "Type Checking: isinstance() is used to confirm if an object is of a specific type or subclass. This is useful for ensuring that objects behave as expected, especially in polymorphic code where the type of the object might not be known ahead of time.\n"
      ],
      "metadata": {
        "id": "TFvglVYemnaH"
      }
    },
    {
      "cell_type": "markdown",
      "source": [
        "What is the role of the @abstract method decorators in polymorphism in python Provide an example\n",
        "\n",
        "\n",
        "Enforces Method Implementation: It marks methods in an abstract base class as abstract, meaning that any subclass derived from this base class must implement these methods. This ensures that all subclasses adhere to a common interface.\n",
        "\n",
        "Prevents Instantiation: Abstract base classes containing abstract methods cannot be instantiated directly. This ensures that only concrete subclasses with implementations for all abstract methods can be instantiated.\n",
        "\n",
        "Facilitates Polymorphism: By defining a common interface using abstract methods, polymorphism is achieved. Subclasses can provide specific implementations for these methods, allowing objects of different subclasses to be used interchangeably while adhering to the defined interface."
      ],
      "metadata": {
        "id": "pK5eaii5mnfC"
      }
    },
    {
      "cell_type": "markdown",
      "source": [
        "11.Create a python cllass called shape with a polymorphic method area() that calculates the area of different shapes"
      ],
      "metadata": {
        "id": "WF8e3nsx9qLl"
      }
    },
    {
      "cell_type": "code",
      "source": [
        "from abc import ABC, abstractmethod\n",
        "\n",
        "# Base class\n",
        "class Shape(ABC):\n",
        "    @abstractmethod\n",
        "    def area(self):\n",
        "        pass\n",
        "\n",
        "# Derived class for Rectangle\n",
        "class Rectangle(Shape):\n",
        "    def __init__(self, width, height):\n",
        "        self.width = width\n",
        "        self.height = height\n",
        "\n",
        "    def area(self):\n",
        "        return self.width * self.height\n",
        "\n",
        "# Derived class for Circle\n",
        "class Circle(Shape):\n",
        "    def __init__(self, radius):\n",
        "        self.radius = radius\n",
        "\n",
        "    def area(self):\n",
        "        return 3.14159 * (self.radius ** 2)\n",
        "\n",
        "# Derived class for Triangle\n",
        "class Triangle(Shape):\n",
        "    def __init__(self, base, height):\n",
        "        self.base = base\n",
        "        self.height = height\n",
        "\n",
        "    def area(self):\n",
        "        return 0.5 * self.base * self.height\n",
        "\n",
        "# Example usage\n",
        "shapes = [\n",
        "    Rectangle(10, 5),\n",
        "    Circle(7),\n",
        "    Triangle(6, 8)\n",
        "]\n",
        "\n",
        "for shape in shapes:\n",
        "    print(f\"The area of the {shape.__class__.__name__} is: {shape.area()}\")"
      ],
      "metadata": {
        "colab": {
          "base_uri": "https://localhost:8080/"
        },
        "id": "VXe4x8p7-Iln",
        "outputId": "21ec5fc1-bf43-49c0-cae7-7b111f96c060"
      },
      "execution_count": null,
      "outputs": [
        {
          "output_type": "stream",
          "name": "stdout",
          "text": [
            "The area of the Rectangle is: 50\n",
            "The area of the Circle is: 153.93791\n",
            "The area of the Triangle is: 24.0\n"
          ]
        }
      ]
    },
    {
      "cell_type": "markdown",
      "source": [
        "12.Discuss the benfits of polymorphism in terms of code reusability and flexibility in python programming\n",
        "Polymorphism is a fundamental concept in object-oriented programming (OOP) that plays a crucial role in enhancing code reusability and flexibility. Here's how polymorphism benefits Python programming:\n",
        "\n",
        "1. Code Reusability\n",
        "Uniform Interface: Polymorphism allows different classes to be treated uniformly through a common interface. For example, the Shape class in the previous example provides a single interface (area() method) that can be implemented by various shapes like Rectangle, Circle, and Triangle. This means you can write code that operates on the Shape interface, and it will work with any subclass of Shape.\n",
        "Reduced Code Duplication: Since you can use a common interface to interact with different types of objects, you avoid duplicating code that would otherwise be necessary for handling each type separately. The same block of code can work with different objects, reducing redundancy.\n",
        "Extensibility: If you need to add new shapes, you can simply create a new class that inherits from Shape and implements the area() method. The existing code doesn't need to change, making it easy to extend your program's functionality.\n",
        "2. Flexibility\n",
        "Interchangeability of Components: Polymorphism enables different objects to be used interchangeably as long as they follow the same interface. For instance, in a list of Shape objects, you can mix and match different shapes (like rectangles, circles, triangles) without altering the code that processes these shapes. This allows for greater flexibility in how components are used together."
      ],
      "metadata": {
        "id": "vu3gMX4h-QB5"
      }
    },
    {
      "cell_type": "markdown",
      "source": [
        "13.Explain the use of super() funcution in python programming how  doesit helps to call methods of parent class\n",
        "The super() function in Python is used to call methods of a parent (or superclass) from within a child (or subclass). It plays a crucial role in inheritance by allowing you to access methods and attributes of the parent class without needing to refer to the parent class by name. This is especially useful in scenarios involving method overriding, multiple inheritance, and cooperative method resolution order (MRO).\n",
        "\n",
        "Key Uses of super() in Python\n",
        "Calling Parent Class Methods:\n",
        "\n",
        "When a method in a subclass overrides a method in its parent class, you can use super() to call the overridden method from the parent class. This allows you to extend or modify the behavior of the inherited method without completely replacing it."
      ],
      "metadata": {
        "id": "9jGESUw2-phE"
      }
    },
    {
      "cell_type": "markdown",
      "source": [
        "14.Create a python class calle hierarchy for a banking system with various account types and demonstrate poly morphism by implementing a commom withdraw()  method"
      ],
      "metadata": {
        "id": "HoiCjFmx-9vo"
      }
    },
    {
      "cell_type": "code",
      "source": [
        "class Account:\n",
        "    def __init__(self, account_number, balance):\n",
        "        self.account_number = account_number\n",
        "        self.balance = balance\n",
        "\n",
        "    def withdraw(self, amount):\n",
        "        if amount > self.balance:\n",
        "            print(f\"Insufficient balance in account {self.account_number}.\")\n",
        "        else:\n",
        "            self.balance -= amount\n",
        "            print(f\"Withdrew {amount} from account {self.account_number}. New balance: {self.balance}\")\n",
        "\n",
        "    def get_balance(self):\n",
        "        return self.balance\n",
        "\n",
        "class SavingsAccount(Account):\n",
        "    def __init__(self, account_number, balance, interest_rate):\n",
        "        super().__init__(account_number, balance)\n",
        "        self.interest_rate = interest_rate\n",
        "\n",
        "    def withdraw(self, amount):\n",
        "        if amount > 1000:  # Assuming a withdrawal limit for savings accounts\n",
        "            print(f\"Cannot withdraw more than $1000 from a savings account at a time.\")\n",
        "        else:\n",
        "            super().withdraw(amount)\n",
        "\n",
        "class CheckingAccount(Account):\n",
        "    def __init__(self, account_number, balance, overdraft_limit):\n",
        "        super().__init__(account_number, balance)\n",
        "        self.overdraft_limit = overdraft_limit\n",
        "\n",
        "    def withdraw(self, amount):\n",
        "        if amount > self.balance + self.overdraft_limit:\n",
        "            print(f\"Overdraft limit exceeded for account {self.account_number}.\")\n",
        "        else:\n",
        "            self.balance -= amount\n",
        "            print(f\"Withdrew {amount} from checking account {self.account_number}. New balance: {self.balance}\")\n",
        "\n",
        "class BusinessAccount(Account):\n",
        "    def __init__(self, account_number, balance, transaction_fee):\n",
        "        super().__init__(account_number, balance)\n",
        "        self.transaction_fee = transaction_fee\n",
        "\n",
        "    def withdraw(self, amount):\n",
        "        total_withdrawal = amount + self.transaction_fee\n",
        "        if total_withdrawal > self.balance:\n",
        "            print(f\"Insufficient balance for withdrawal and transaction fee in account {self.account_number}.\")\n",
        "        else:\n",
        "            self.balance -= total_withdrawal\n",
        "            print(f\"Withdrew {amount} from business account {self.account_number} with a fee of {self.transaction_fee}. New balance: {self.balance}\")\n",
        "\n",
        "# Example usage\n",
        "accounts = [\n",
        "    SavingsAccount(\"SAV123\", 1500, 0.02),\n",
        "    CheckingAccount(\"CHK456\", 500, 200),\n",
        "    BusinessAccount(\"BUS789\", 3000, 15)\n",
        "]\n",
        "\n",
        "# Demonstrating polymorphism\n",
        "for account in accounts:\n",
        "    account.withdraw(1000)  # Each account type handles the withdrawal differently\n",
        "    print(f\"Remaining balance in account {account.account_number}: {account.get_balance()}\\n\")"
      ],
      "metadata": {
        "colab": {
          "base_uri": "https://localhost:8080/"
        },
        "id": "rp_KLZMg_lMc",
        "outputId": "4e85a415-e9b5-4509-91b5-b71cb0af9463"
      },
      "execution_count": null,
      "outputs": [
        {
          "output_type": "stream",
          "name": "stdout",
          "text": [
            "Withdrew 1000 from account SAV123. New balance: 500\n",
            "Remaining balance in account SAV123: 500\n",
            "\n",
            "Overdraft limit exceeded for account CHK456.\n",
            "Remaining balance in account CHK456: 500\n",
            "\n",
            "Withdrew 1000 from business account BUS789 with a fee of 15. New balance: 1985\n",
            "Remaining balance in account BUS789: 1985\n",
            "\n"
          ]
        }
      ]
    },
    {
      "cell_type": "markdown",
      "source": [
        "15.Describe the concept of operator overloading in python and how it relates to polymorphism provide example by using + and*\n",
        "Operator overloading in Python allows you to define or change the behavior of standard operators (like +, -, *, etc.) for user-defined classes. It enables objects of custom classes to interact with each other or with other objects using these operators, just like built-in types such as integers and strings.\n",
        "\n",
        "Operator overloading is a form of polymorphism because it allows the same operator to behave differently depending on the types of the operands involved. For instance, the + operator can perform addition when used with numbers, concatenate strings when used with strings, and perform custom operations when used with instances of a user-defined class."
      ],
      "metadata": {
        "id": "DHdnlLoZ_n3W"
      }
    },
    {
      "cell_type": "code",
      "source": [
        "class Vector:\n",
        "    def __init__(self, x, y):\n",
        "        self.x = x\n",
        "        self.y = y\n",
        "\n",
        "    def __add__(self, other):\n",
        "        # Overloading the + operator to add two vectors\n",
        "        return Vector(self.x + other.x, self.y + other.y)\n",
        "\n",
        "    def __mul__(self, scalar):\n",
        "        # Overloading the * operator to scale the vector by a scalar\n",
        "        return Vector(self.x * scalar, self.y * scalar)\n",
        "\n",
        "    def __repr__(self):\n",
        "        return f\"Vector({self.x}, {self.y})\"\n",
        "\n",
        "# Example usage\n",
        "v1 = Vector(2, 3)\n",
        "v2 = Vector(4, 5)\n",
        "\n",
        "# Adding two vectors using overloaded +\n",
        "v3 = v1 + v2\n",
        "print(v3)  # Output: Vector(6, 8)\n",
        "\n",
        "# Scaling a vector using overloaded *\n",
        "v4 = v1 * 3\n",
        "print(v4)  # Output: Vector(6, 9)"
      ],
      "metadata": {
        "colab": {
          "base_uri": "https://localhost:8080/"
        },
        "id": "ZUaXXjRA__t5",
        "outputId": "243a95fd-b719-4a5e-b221-c1288b354cac"
      },
      "execution_count": null,
      "outputs": [
        {
          "output_type": "stream",
          "name": "stdout",
          "text": [
            "Vector(6, 8)\n",
            "Vector(6, 9)\n"
          ]
        }
      ]
    },
    {
      "cell_type": "markdown",
      "source": [
        "16.What is dynamic polymorphism and how it is achieved in python\n",
        "Dynamic polymorphism is a concept in object-oriented programming where the method to be invoked is determined at runtime based on the object type, rather than at compile time. This is also known as runtime polymorphism. It is typically achieved through method overriding, where a subclass provides a specific implementation of a method that is already defined in its superclass.\n",
        "\n",
        "In Python, dynamic polymorphism is inherently supported due to its dynamic typing system, meaning that method calls are resolved at runtime. When you call a method on an object, Python determines at that moment which implementation of the method to execute, based on the actual object type.\n",
        "\n",
        "Achieving Dynamic Polymorphism in Python\n",
        "Dynamic polymorphism in Python is primarily achieved through method overriding in an inheritance hierarchy. Here's how it works:\n",
        "\n",
        "Inheritance: You define a method in a base class.\n",
        "Overriding: You provide a specific implementation of that method in one or more derived classes.\n",
        "Method Invocation: At runtime, when you invoke the method on an object, Python automatically determines the appropriate method to call based on the actual class of the object."
      ],
      "metadata": {
        "id": "zMkOVALMAFh-"
      }
    },
    {
      "cell_type": "markdown",
      "source": [
        "17.Create a python class hierarchy for employees in company and  implement poly morphism through a calculate_salary() method"
      ],
      "metadata": {
        "id": "ZeZOXp2DAavy"
      }
    },
    {
      "cell_type": "code",
      "source": [
        "class Employee:\n",
        "    def __init__(self, name, employee_id):\n",
        "        self.name = name\n",
        "        self.employee_id = employee_id\n",
        "\n",
        "    def calculate_salary(self):\n",
        "        raise NotImplementedError(\"Subclasses must implement this method\")\n",
        "\n",
        "    def __repr__(self):\n",
        "        return f\"Employee(name={self.name}, employee_id={self.employee_id})\"\n",
        "class SalariedEmployee(Employee):\n",
        "    def __init__(self, name, employee_id, annual_salary):\n",
        "        super().__init__(name, employee_id)\n",
        "        self.annual_salary = annual_salary\n",
        "\n",
        "    def calculate_salary(self):\n",
        "        # Assuming monthly salary for a salaried employee\n",
        "        return self.annual_salary / 12\n",
        "\n",
        "class HourlyEmployee(Employee):\n",
        "    def __init__(self, name, employee_id, hourly_rate, hours_worked):\n",
        "        super().__init__(name, employee_id)\n",
        "        self.hourly_rate = hourly_rate\n",
        "        self.hours_worked = hours_worked\n",
        "\n",
        "    def calculate_salary(self):\n",
        "        # Salary for an hourly employee is based on hours worked\n",
        "        return self.hourly_rate * self.hours_worked\n",
        "\n",
        "class CommissionEmployee(Employee):\n",
        "    def __init__(self, name, employee_id, base_salary, commission_rate, sales):\n",
        "        super().__init__(name, employee_id)\n",
        "        self.base_salary = base_salary\n",
        "        self.commission_rate = commission_rate\n",
        "        self.sales = sales\n",
        "\n",
        "    def calculate_salary(self):\n",
        "        # Salary for a commission-based employee includes base salary and commission\n",
        "        return self.base_salary + (self.commission_rate * self.sales)\n",
        "\n",
        "# Example usage\n",
        "employees = [\n",
        "    SalariedEmployee(\"Alice\", 1, 60000),\n",
        "    HourlyEmployee(\"Bob\", 2, 20, 160),\n",
        "    CommissionEmployee(\"Charlie\", 3, 30000, 0.10, 50000)\n",
        "]\n",
        "\n",
        "# Demonstrating polymorphism\n",
        "for employee in employees:\n",
        "    print(f\"{employee.name}'s salary: ${employee.calculate_salary():.2f}\")"
      ],
      "metadata": {
        "colab": {
          "base_uri": "https://localhost:8080/"
        },
        "id": "05JMWIEOA9T2",
        "outputId": "70c830cd-1a95-43d0-e310-ddbe48707a86"
      },
      "execution_count": null,
      "outputs": [
        {
          "output_type": "stream",
          "name": "stdout",
          "text": [
            "Alice's salary: $5000.00\n",
            "Bob's salary: $3200.00\n",
            "Charlie's salary: $35000.00\n"
          ]
        }
      ]
    },
    {
      "cell_type": "markdown",
      "source": [
        "18.Discuss the concept of funcution pointers and how they can be used to achieve polymorphism in python\n",
        "unction pointers are a concept from languages like C and C++ where a pointer holds the address of a function that can be invoked later. Python doesn't have function pointers in the same sense because it's a high-level, dynamically-typed language. However, Python does support similar functionality through first-class functions and higher-order functions.\n",
        "\n",
        "First-Class Functions in Python\n",
        "In Python, functions are first-class objects. This means that:\n",
        "\n",
        "Functions can be passed as arguments to other functions.\n",
        "Functions can be returned from other functions.\n",
        "Functions can be assigned to variables and stored in data structures.\n",
        "This capability allows for a form of polymorphism where the behavior of a program can be changed dynamically by passing different functions.\n",
        "\n",
        "Achieving Polymorphism with Function References in Python\n",
        "Polymorphism through function references (or using functions as arguments) in Python can be achieved by defining multiple functions and passing them to other functions or methods, depending on the required behavior."
      ],
      "metadata": {
        "id": "E8y-bCUtBISJ"
      }
    },
    {
      "cell_type": "markdown",
      "source": [
        "19.Explain the role  of interfaces and abstract classes  in polymorphism draw in comparision between them\n",
        "nterfaces and abstract classes are key concepts in object-oriented programming that play a crucial role in achieving polymorphism. Both serve as a blueprint for other classes, defining a set of methods that must be implemented by derived classes. However, they differ in terms of their structure, usage, and flexibility.\n",
        "\n",
        "Abstract Classes\n",
        "An abstract class is a class that cannot be instantiated on its own and is meant to be subclassed. It can contain both concrete methods (methods with an implementation) and abstract methods (methods without an implementation that must be overridden by derived classes).\n",
        "\n",
        "Purpose: Abstract classes are used to provide a common base with shared code and enforce a contract for subclasses to implement specific methods.\n",
        "\n",
        "Polymorphism: Abstract classes enable polymorphism by allowing different subclasses to provide their specific implementations of abstract methods while sharing common functionality defined in the abstract class."
      ],
      "metadata": {
        "id": "O_3WKlzBBfHP"
      }
    },
    {
      "cell_type": "markdown",
      "source": [
        "20.Create a python class for a zoo stimulation demontrating polymorphism with different animal types and behaviour"
      ],
      "metadata": {
        "id": "S-lVskPxB0hp"
      }
    },
    {
      "cell_type": "code",
      "source": [
        "from abc import ABC, abstractmethod\n",
        "\n",
        "class Animal(ABC):\n",
        "    @abstractmethod\n",
        "    def make_sound(self):\n",
        "        pass\n",
        "\n",
        "    @abstractmethod\n",
        "    def move(self):\n",
        "        pass\n",
        "\n",
        "class Lion(Animal):\n",
        "    def make_sound(self):\n",
        "        return \"Roar\"\n",
        "\n",
        "    def move(self):\n",
        "        return \"The lion prowls.\"\n",
        "\n",
        "class Elephant(Animal):\n",
        "    def make_sound(self):\n",
        "        return \"Trumpet\"\n",
        "\n",
        "    def move(self):\n",
        "        return \"The elephant lumbers.\"\n",
        "\n",
        "class Snake(Animal):\n",
        "    def make_sound(self):\n",
        "        return \"Hiss\"\n",
        "\n",
        "    def move(self):\n",
        "        return \"The snake slithers.\"\n",
        "\n",
        "class Monkey(Animal):\n",
        "    def make_sound(self):\n",
        "        return \"Chatter\"\n",
        "\n",
        "    def move(self):\n",
        "        return \"The monkey swings from the trees.\"\n",
        "\n",
        "# Example usage\n",
        "animals = [Lion(), Elephant(), Snake(), Monkey()]\n",
        "\n",
        "for animal in animals:\n",
        "    print(f\"{animal.__class__.__name__} sound: {animal.make_sound()} | Movement: {animal.move()}\")"
      ],
      "metadata": {
        "colab": {
          "base_uri": "https://localhost:8080/"
        },
        "id": "tU97UMk2CK2A",
        "outputId": "4a360a23-62ed-4c53-8aca-dc0545751870"
      },
      "execution_count": null,
      "outputs": [
        {
          "output_type": "stream",
          "name": "stdout",
          "text": [
            "Lion sound: Roar | Movement: The lion prowls.\n",
            "Elephant sound: Trumpet | Movement: The elephant lumbers.\n",
            "Snake sound: Hiss | Movement: The snake slithers.\n",
            "Monkey sound: Chatter | Movement: The monkey swings from the trees.\n"
          ]
        }
      ]
    },
    {
      "cell_type": "markdown",
      "source": [
        "1.What is the abstraction and how does it related to object oriented programming\n",
        "Abstraction in Object-Oriented Programming (OOP) refers to the concept of hiding the complex implementation details of a system and exposing only the necessary and relevant functionalities. It allows users to interact with objects at a higher level without needing to understand the underlying code or logic.\n",
        "\n",
        "Key Aspects of Abstraction:\n",
        "Hiding Implementation Details: Abstraction focuses on providing a clear and simplified interface to interact with objects while hiding the internal workings. For example, when you use a car, you only need to know how to drive it (accelerate, brake, steer) without understanding the intricate details of the engine or transmission.\n",
        "\n",
        "Essential Features Only: It focuses on the relevant properties and behaviors that are important to the user or developer. Unnecessary details are omitted, simplifying the using"
      ],
      "metadata": {
        "id": "3QI-R9pOD58f"
      }
    },
    {
      "cell_type": "markdown",
      "source": [
        "2.Describe the benfits of abstraction in terms of code organization and complexity in reduction\n",
        "Abstraction in Object-Oriented Programming (OOP) provides significant benefits in terms of code organization and complexity reduction. Let's explore these in detail:\n",
        "\n",
        "1. Simplifies Code Organization:\n",
        "Modular Code Structure: Abstraction allows you to break down complex systems into smaller, manageable modules. Each module (or class) focuses on a specific responsibility or behavior, which leads to better organization.\n",
        "Example: In a banking system, you might have separate abstract classes for Account, Customer, and Transaction. Each class deals with its own aspect of the system, avoiding a monolithic structure.\n",
        "Encapsulation of Logic: With abstraction, only the necessary details are exposed to the outside world through well-defined interfaces, while internal complexities are hidden within the class or method. This creates a cleaner and more organized interface for developers interacting with your code.\n",
        "Example: The user of a Car class only interacts with methods like drive(), stop(), and fuel(), while complex internal mechanics like startEngine() or injectFuel() are abstracted away.\n"
      ],
      "metadata": {
        "id": "YkI-yVfIEPTh"
      }
    },
    {
      "cell_type": "markdown",
      "source": [
        "3.Create a python class called shape with an abstraction method calculate_ares() then create child classes that implements the calculate_area() method Provide a example of using these classes"
      ],
      "metadata": {
        "id": "Tycj0Dk7EqVC"
      }
    },
    {
      "cell_type": "code",
      "source": [
        "from abc import ABC, abstractmethod\n",
        "import math\n",
        "\n",
        "# Abstract class\n",
        "class Shape(ABC):\n",
        "    @abstractmethod\n",
        "    def calculate_area(self):\n",
        "        pass\n",
        "\n",
        "# Circle class inherits from Shape\n",
        "class Circle(Shape):\n",
        "    def __init__(self, radius):\n",
        "        self.radius = radius\n",
        "\n",
        "    def calculate_area(self):\n",
        "        return math.pi * self.radius ** 2\n",
        "\n",
        "# Rectangle class inherits from Shape\n",
        "class Rectangle(Shape):\n",
        "    def __init__(self, width, height):\n",
        "        self.width = width\n",
        "        self.height = height\n",
        "\n",
        "    def calculate_area(self):\n",
        "        return self.width * self.height\n",
        "\n",
        "# Triangle class inherits from Shape\n",
        "class Triangle(Shape):\n",
        "    def __init__(self, base, height):\n",
        "        self.base = base\n",
        "        self.height = height\n",
        "\n",
        "    def calculate_area(self):\n",
        "        return 0.5 * self.base * self.height\n",
        "\n",
        "# Example usage:\n",
        "circle = Circle(5)\n",
        "rectangle = Rectangle(4, 6)\n",
        "triangle = Triangle(3, 4)\n",
        "\n",
        "print(f\"Area of the circle: {circle.calculate_area():.2f}\")\n",
        "print(f\"Area of the rectangle: {rectangle.calculate_area()}\")\n",
        "print(f\"Area of the triangle: {triangle.calculate_area()}\")"
      ],
      "metadata": {
        "colab": {
          "base_uri": "https://localhost:8080/"
        },
        "id": "fOlDKBPwFQHc",
        "outputId": "cc1e50c3-97c0-4349-ebb6-7b55ba9c78ea"
      },
      "execution_count": null,
      "outputs": [
        {
          "output_type": "stream",
          "name": "stdout",
          "text": [
            "Area of the circle: 78.54\n",
            "Area of the rectangle: 24\n",
            "Area of the triangle: 6.0\n"
          ]
        }
      ]
    },
    {
      "cell_type": "markdown",
      "source": [
        "4.Explain the concept of abstract classes in python and how they are defined using the abc module Provide an example\n",
        "An abstract class in Python is a class that cannot be instantiated directly. It is meant to serve as a blueprint for other classes. Abstract classes define abstract methods, which are methods that have a declaration but no implementation in the abstract class itself. Subclasses that inherit from the abstract class must provide concrete implementations for these abstract methods.\n",
        "\n",
        "Python uses the abc (Abstract Base Classes) module to implement abstraction. You define abstract classes using the ABC class (from abc module) and abstract methods using the @abstractmethod decorator. An abstract class ensures that certain methods are implemented in any subclass that derives from it."
      ],
      "metadata": {
        "id": "ceI-dn5dFWo5"
      }
    },
    {
      "cell_type": "code",
      "source": [
        "from abc import ABC, abstractmethod\n",
        "\n",
        "# Abstract class\n",
        "class Animal(ABC):\n",
        "\n",
        "    @abstractmethod\n",
        "    def sound(self):\n",
        "        \"\"\"This is an abstract method to define the sound an animal makes\"\"\"\n",
        "        pass\n",
        "\n",
        "    @abstractmethod\n",
        "    def move(self):\n",
        "        \"\"\"This is another abstract method that describes how an animal moves\"\"\"\n",
        "        pass\n",
        "\n",
        "# Concrete class that inherits from Animal\n",
        "class Dog(Animal):\n",
        "    def sound(self):\n",
        "        return \"Bark\"\n",
        "\n",
        "    def move(self):\n",
        "        return \"Run\"\n",
        "\n",
        "# Concrete class that inherits from Animal\n",
        "class Bird(Animal):\n",
        "    def sound(self):\n",
        "        return \"Chirp\"\n",
        "\n",
        "    def move(self):\n",
        "        return \"Fly\"\n",
        "\n",
        "# Example usage:\n",
        "dog = Dog()\n",
        "bird = Bird()\n",
        "\n",
        "print(f\"The dog goes: {dog.sound()} and it can {dog.move()}.\")\n",
        "print(f\"The bird goes: {bird.sound()} and it can {bird.move()}.\")"
      ],
      "metadata": {
        "colab": {
          "base_uri": "https://localhost:8080/"
        },
        "id": "xd83aCXnFt52",
        "outputId": "834fb76f-73e0-4697-fc47-7049f20ef411"
      },
      "execution_count": null,
      "outputs": [
        {
          "output_type": "stream",
          "name": "stdout",
          "text": [
            "The dog goes: Bark and it can Run.\n",
            "The bird goes: Chirp and it can Fly.\n"
          ]
        }
      ]
    },
    {
      "cell_type": "markdown",
      "source": [
        "5.How do abstract classes differ  from regular class in python Discuss their usecases\n",
        "bstract Class: Animal is the abstract class. It contains two abstract methods: sound() and move(). These methods are declared but not implemented.\n",
        "\n",
        "Concrete Classes: Dog and Bird are concrete subclasses that inherit from Animal. They provide implementations for the sound() and move() methods.\n",
        "\n",
        "Instantiation: You cannot create an object of the Animal class directly because it is abstract. However, you can create instances of Dog and Bird since they provide implementations for the abstract methods.\n",
        "\n",
        "Benefits of Abstract Classes:\n",
        "Enforces Structure: Abstract classes enforce that subclasses must implement specific methods, ensuring consistency across related classes.\n",
        "Code Reusability: By defining a common interface in an abstract class, subclasses can implement their specific behavior while maintaining a shared structure\n",
        "nforcing Consistency Across Subclasses: When you need to ensure that certain methods exist in every subclass, you use abstract classes. This is particularly useful in large-scale systems where consistency is key.\n",
        "\n",
        "Example: In a payment processing system, you might have an abstract class PaymentMethod with methods like process_payment() and refund(). Every payment type (credit card, PayPal, etc.) must implement these methods to handle the respective payment logic.."
      ],
      "metadata": {
        "id": "gzFirmp8F2qG"
      }
    },
    {
      "cell_type": "markdown",
      "source": [
        "6.Create  a python class for a bank account and demonstrate abstraction by hiding the account balance and providing methods to deposit and withdraw money"
      ],
      "metadata": {
        "id": "zq1s_y4xGTEv"
      }
    },
    {
      "cell_type": "code",
      "source": [
        "class BankAccount:\n",
        "    def __init__(self, account_number):\n",
        "        self.__account_number = account_number  # Private attribute\n",
        "        self.__balance = 0  # Private attribute\n",
        "\n",
        "    def deposit(self, amount):\n",
        "        if amount > 0:\n",
        "            self.__balance += amount\n",
        "            print(f\"Deposited {amount}. New balance: {self.__balance}\")\n",
        "        else:\n",
        "            print(\"Deposit amount must be positive.\")\n",
        "\n",
        "    def withdraw(self, amount):\n",
        "        if amount > 0:\n",
        "            if amount <= self.__balance:\n",
        "                self.__balance -= amount\n",
        "                print(f\"Withdrew {amount}. New balance: {self.__balance}\")\n",
        "            else:\n",
        "                print(\"Insufficient funds.\")\n",
        "        else:\n",
        "            print(\"Withdrawal amount must be positive.\")\n",
        "\n",
        "    def get_balance(self):\n",
        "        return self.__balance\n",
        "\n",
        "# Example usage:\n",
        "account = BankAccount(\"12345\")\n",
        "account.deposit(1000)\n",
        "account.withdraw(500)\n",
        "account.withdraw(600)  # Insufficient funds\n",
        "print(f\"Final balance: {account.get_balance()}\")"
      ],
      "metadata": {
        "colab": {
          "base_uri": "https://localhost:8080/"
        },
        "id": "ZMCX5nX-Gy12",
        "outputId": "f799ee61-291e-44ec-82cc-07d637cc1b85"
      },
      "execution_count": null,
      "outputs": [
        {
          "output_type": "stream",
          "name": "stdout",
          "text": [
            "Deposited 1000. New balance: 1000\n",
            "Withdrew 500. New balance: 500\n",
            "Insufficient funds.\n",
            "Final balance: 500\n"
          ]
        }
      ]
    },
    {
      "cell_type": "markdown",
      "source": [
        "7.Discuss the concept of interfaces classes in python and there role in achieving abstraction\n",
        "In Python, an interface is a way of defining a set of methods that a class must implement, without providing any implementation for those methods. While Python does not have a built-in keyword for interfaces like some other languages (e.g., Java), interfaces can be implemented using abstract base classes (ABC) from the abc module.\n",
        "\n",
        "An interface in Python is essentially an abstract class where all methods are abstract. The class that inherits from the interface is required to provide concrete implementations for all of the abstract methods. This helps in achieving abstraction by defining a contract for the classes that implement the interface.\n",
        "\n",
        "Characteristics of Interface Classes:\n",
        "No Implementation in Interface: The methods defined in an interface have no implementation—only the signatures of the methods are provided.\n",
        "Achieves Abstraction: By defining only the method signatures, interfaces separate the definition of behavior from the actual implementation. The concrete implementation is left to the subclasses.\n",
        "Supports Polymorphism: Interface classes enable different objects to be treated similarly if they follow the same interface, even if their implementations differ.\n",
        "Multiple Inheritance: Python allows classes to implement multiple interfaces, promoting flexibility in design.\n",
        "Defining Interfaces in Python Using ABC Module\n",
        "To create an interface in Python:\n",
        "\n",
        "Subclass from ABC: The interface class should inherit from the ABC class in the abc module.\n",
        "Mark Methods as Abstract: Use the @abstractmethod decorator to define abstract methods that must be implemented in concrete classes."
      ],
      "metadata": {
        "id": "egcw-XddG3oP"
      }
    },
    {
      "cell_type": "markdown",
      "source": [
        "8.create a python class hierarchy for animals and implement abstraction by defining commom methods in abstract base class"
      ],
      "metadata": {
        "id": "mxnR0zjQHRy9"
      }
    },
    {
      "cell_type": "code",
      "source": [
        "from abc import ABC, abstractmethod\n",
        "\n",
        "# Abstract base class\n",
        "class Animal(ABC):\n",
        "    def __init__(self, name):\n",
        "        self.name = name\n",
        "\n",
        "    @abstractmethod\n",
        "    def speak(self):\n",
        "        \"\"\"Produce the sound made by the animal.\"\"\"\n",
        "        pass\n",
        "\n",
        "    @abstractmethod\n",
        "    def move(self):\n",
        "        \"\"\"Describe how the animal moves.\"\"\"\n",
        "        pass\n",
        "\n",
        "    def eat(self):\n",
        "        \"\"\"General eating behavior.\"\"\"\n",
        "        print(f\"{self.name} is eating.\")"
      ],
      "metadata": {
        "id": "Vbo8YxQqHs8k"
      },
      "execution_count": null,
      "outputs": []
    },
    {
      "cell_type": "markdown",
      "source": [
        "9.Explain the significance of encapsulation in achieving abstraction in python Provide an example\n",
        "Information Hiding: Encapsulation enforces information hiding by making attributes private (using underscores __), which means users of the class cannot directly access or modify sensitive data. Instead, they interact with the data through public methods (getters and setters), abstracting away the underlying details.\n",
        "\n",
        "Controlled Access: Encapsulation allows the class designer to control how certain data is accessed or modified by defining public methods that act as an interface. This fits well with abstraction, where the user only interacts with the high-level behavior of the class rather than the internal workings.\n",
        "\n",
        "Modularity and Security: Encapsulation ensures that internal states are protected from external modification, which enhances security and modularity in the code. Abstraction allows complex functionality to be simplified and modularized, making it easier to maintain and understand."
      ],
      "metadata": {
        "id": "13miNJT8HvU4"
      }
    },
    {
      "cell_type": "code",
      "source": [
        "class BankAccount:\n",
        "    def __init__(self, account_number):\n",
        "        self.__account_number = account_number  # Private attribute\n",
        "        self.__balance = 0  # Private attribute\n",
        "\n",
        "    def deposit(self, amount):\n",
        "        if amount > 0:\n",
        "            self.__balance += amount\n",
        "            print(f\"Deposited {amount}. New balance: {self.__balance}\")\n",
        "        else:\n",
        "            print(\"Deposit amount must be positive.\")\n",
        "\n",
        "    def withdraw(self, amount):\n",
        "        if amount > 0:\n",
        "            if amount <= self.__balance:\n",
        "                self.__balance -= amount\n",
        "                print(f\"Withdrew {amount}. New balance: {self.__balance}\")\n",
        "            else:\n",
        "                print(\"Insufficient funds.\")\n",
        "        else:\n",
        "            print(\"Withdrawal amount must be positive.\")\n",
        "\n",
        "    def get_balance(self):\n",
        "        return self.__balance\n",
        "\n",
        "# Example usage:\n",
        "account = BankAccount(\"987654321\")\n",
        "account.deposit(500)\n",
        "account.withdraw(200)\n",
        "print(f\"Current balance: {account.get_balance()}\")"
      ],
      "metadata": {
        "colab": {
          "base_uri": "https://localhost:8080/"
        },
        "id": "uhOqa8tbIC3B",
        "outputId": "a5d33ad4-33a6-4285-87ee-6dedcdf1f09f"
      },
      "execution_count": null,
      "outputs": [
        {
          "output_type": "stream",
          "name": "stdout",
          "text": [
            "Deposited 500. New balance: 500\n",
            "Withdrew 200. New balance: 300\n",
            "Current balance: 300\n"
          ]
        }
      ]
    },
    {
      "cell_type": "markdown",
      "source": [
        "10.What is the purpose of abstract method and how do they enforce abstraction in python classes\n",
        "An abstract method is a method that is declared in an abstract class but does not have any implementation in the abstract class itself. The purpose of abstract methods is to define a contract that must be followed by any concrete (non-abstract) class that inherits from the abstract class.\n",
        "\n",
        "In Python, abstract methods are used to enforce that derived classes implement certain methods, ensuring that the necessary functionality is defined by each subclass, even if the details of how the method is implemented vary between subclasses.\n",
        "Only the concrete subclasses, which provide implementations of all abstract methods, can be instantiated. This separation ensures that the abstract class focuses on defining the interface (i.e., what methods should exist) while the concrete classes focus on the implementation (i.e., how those methods work).\n",
        "\n",
        "Defining Abstract Methods Using the ABC Module\n",
        "In Python, abstract methods are defined using the abc (Abstract Base Class) module. The abstract class must inherit from ABC, and the abstract method is marked with the @abstractmethod decorator.\n"
      ],
      "metadata": {
        "id": "nGVLeKx8IJ9o"
      }
    },
    {
      "cell_type": "markdown",
      "source": [
        "11.Create a python class for a vehicle system and demonstrate abstraction by defining common methods in an abstract class"
      ],
      "metadata": {
        "id": "Xq5G4vJ8Jj6h"
      }
    },
    {
      "cell_type": "code",
      "source": [
        "from abc import ABC, abstractmethod\n",
        "\n",
        "# Abstract class for Vehicle\n",
        "class Vehicle(ABC):\n",
        "    @abstractmethod\n",
        "    def start(self):\n",
        "        pass\n",
        "\n",
        "    @abstractmethod\n",
        "    def stop(self):\n",
        "        pass\n",
        "\n",
        "    @abstractmethod\n",
        "    def fuel_up(self):\n",
        "        pass\n",
        "\n",
        "# Concrete class for Car\n",
        "class Car(Vehicle):\n",
        "    def start(self):\n",
        "        print(\"Car is starting with a key ignition.\")\n",
        "\n",
        "    def stop(self):\n",
        "        print(\"Car is stopping with hydraulic brakes.\")\n",
        "\n",
        "    def fuel_up(self):\n",
        "        print(\"Filling the car with gasoline.\")\n",
        "\n",
        "# Concrete class for Bike\n",
        "class Bike(Vehicle):\n",
        "    def start(self):\n",
        "        print(\"Bike is starting with a kick.\")\n",
        "\n",
        "    def stop(self):\n",
        "        print(\"Bike is stopping with disc brakes.\")\n",
        "\n",
        "    def fuel_up(self):\n",
        "        print(\"Filling the bike with petrol.\")\n",
        "\n",
        "# Example usage\n",
        "my_car = Car()\n",
        "my_car.start()\n",
        "my_car.fuel_up()\n",
        "my_car.stop()\n",
        "\n",
        "my_bike = Bike()\n",
        "my_bike.start()\n",
        "my_bike.fuel_up()\n",
        "my_bike.stop()"
      ],
      "metadata": {
        "colab": {
          "base_uri": "https://localhost:8080/"
        },
        "id": "14bOH8iwLGJ8",
        "outputId": "8725843d-bb30-494f-f241-5d8ddec0eb55"
      },
      "execution_count": null,
      "outputs": [
        {
          "output_type": "stream",
          "name": "stdout",
          "text": [
            "Car is starting with a key ignition.\n",
            "Filling the car with gasoline.\n",
            "Car is stopping with hydraulic brakes.\n",
            "Bike is starting with a kick.\n",
            "Filling the bike with petrol.\n",
            "Bike is stopping with disc brakes.\n"
          ]
        }
      ]
    },
    {
      "cell_type": "markdown",
      "source": [
        "12.Describe the use of abstract properties in python and how they can be employed in abstract properties\n",
        "Abstract properties in Python work similarly to abstract methods in abstract classes. They allow you to define properties that must be implemented by any concrete subclass. Just like abstract methods, abstract properties are defined in an abstract class using the @abstractmethod decorator.\n",
        "\n",
        "How to Use Abstract Properties:\n",
        "Abstract properties are used when you want the subclasses to implement specific behavior or data encapsulation through getter and/or setter methods.\n",
        "You define an abstract property using the @property decorator along with @abstractmethod for the getter, and the @abstractmethod decorator for the setter if required."
      ],
      "metadata": {
        "id": "_R4tKbG9LSjm"
      }
    },
    {
      "cell_type": "markdown",
      "source": [
        "13.Create a python class hierarchy for employes in a company and implement abst by defining a common get_salary()method``"
      ],
      "metadata": {
        "id": "2a8FRFd2L1RY"
      }
    },
    {
      "cell_type": "code",
      "source": [
        "from abc import ABC, abstractmethod\n",
        "\n",
        "# Abstract class for Employee\n",
        "class Employee(ABC):\n",
        "    def __init__(self, name, employee_id):\n",
        "        self.name = name\n",
        "        self.employee_id = employee_id\n",
        "\n",
        "    @abstractmethod\n",
        "    def get_salary(self):\n",
        "        pass\n",
        "\n",
        "# Concrete class for FullTimeEmployee\n",
        "class FullTimeEmployee(Employee):\n",
        "    def __init__(self, name, employee_id, annual_salary):\n",
        "        super().__init__(name, employee_id)\n",
        "        self.annual_salary = annual_salary\n",
        "\n",
        "    def get_salary(self):\n",
        "        return f\"{self.name}'s salary is {self.annual_salary} per year.\"\n",
        "\n",
        "# Concrete class for PartTimeEmployee\n",
        "class PartTimeEmployee(Employee):\n",
        "    def __init__(self, name, employee_id, hourly_rate, hours_worked):\n",
        "        super().__init__(name, employee_id)\n",
        "        self.hourly_rate = hourly_rate\n",
        "        self.hours_worked = hours_worked\n",
        "\n",
        "    def get_salary(self):\n",
        "        return f\"{self.name}'s salary is {self.hourly_rate * self.hours_worked} based on hourly rate.\"\n",
        "\n",
        "# Concrete class for Contractor\n",
        "class Contractor(Employee):\n",
        "    def __init__(self, name, employee_id, contract_amount):\n",
        "        super().__init__(name, employee_id)\n",
        "        self.contract_amount = contract_amount\n",
        "\n",
        "    def get_salary(self):\n",
        "        return f\"{self.name}'s salary is {self.contract_amount} based on contract.\"\n",
        "\n",
        "# Example usage\n",
        "full_time_employee = FullTimeEmployee(\"John Doe\", 101, 60000)\n",
        "part_time_employee = PartTimeEmployee(\"Jane Smith\", 102, 20, 120)\n",
        "contractor = Contractor(\"Mike Ross\", 103, 40000)\n",
        "\n",
        "print(full_time_employee.get_salary())\n",
        "print(part_time_employee.get_salary())\n",
        "print(contractor.get_salary())"
      ],
      "metadata": {
        "id": "IA_Epgb4Ndzk",
        "outputId": "d9794c07-c550-4675-ad6f-a05fe211753f",
        "colab": {
          "base_uri": "https://localhost:8080/"
        }
      },
      "execution_count": null,
      "outputs": [
        {
          "output_type": "stream",
          "name": "stdout",
          "text": [
            "John Doe's salary is 60000 per year.\n",
            "Jane Smith's salary is 2400 based on hourly rate.\n",
            "Mike Ross's salary is 40000 based on contract.\n"
          ]
        }
      ]
    },
    {
      "cell_type": "markdown",
      "source": [
        "14.Discuss the difference between abstract classes and concrete classes in python including distanation\n",
        "Abstract Class: An abstract class serves as a blueprint for other classes. It cannot be instantiated directly and typically contains one or more abstract methods that must be implemented by any concrete subclass.\n",
        "Concrete Class: A concrete class is a fully implemented class that can be instantiated. It defines all methods and does not have any abstract methods.\n",
        "2. Purpose\n",
        "Abstract Class: Abstract classes are used to define a common interface or structure for a group of related classes. They enforce a contract that ensures all subclasses implement specific methods, but the exact behavior of those methods is left for the concrete subclasses to define. This promotes code reusability and polymorphism.\n",
        "Concrete Class: Concrete classes are used to create actual objects that implement all the behavior needed for specific functionality. They contain both method definitions and implementations."
      ],
      "metadata": {
        "id": "6ig3Kr5NNgwY"
      }
    },
    {
      "cell_type": "markdown",
      "source": [
        "15.Explain the concept of abstract data type and their role in achieving abstraction i python\n",
        "Abstract Data Type (ADT)\n",
        "An abstract data type (ADT) is a theoretical concept in computer science that defines a data structure purely in terms of its behavior from the user’s perspective. An ADT specifies:\n",
        "\n",
        "Operations that can be performed on the data.\n",
        "Behavior or rules for these operations (what they do).\n",
        "However, an ADT does not concern itself with the internal implementation details (i.e., how these operations are carried out internally). This allows users to interact with the data structure solely based on what it can do rather than how it is implemented.\n",
        "\n",
        "Examples of common ADTs include Stack, Queue, List, and Dictionary.\n",
        "\n",
        "Abstraction in Python\n",
        "Abstraction in Python (and in general programming) refers to the concept of hiding unnecessary details from the user and only exposing essential functionalities. By interacting with data or objects at a higher level, the internal workings or complexities are abstracted away.\n",
        "\n",
        "ADTs play a significant role in achieving abstraction by separating the what from the how:\n",
        "\n",
        "What operations can be performed (specified by ADT).\n",
        "How those operations are implemented (hidden from the user)."
      ],
      "metadata": {
        "id": "NHBKExS9f-zT"
      }
    },
    {
      "cell_type": "markdown",
      "source": [
        "16.Create a python class for a computer system demonstrate abstraction base class"
      ],
      "metadata": {
        "id": "-uf2QDFMgSko"
      }
    },
    {
      "cell_type": "code",
      "source": [
        "from abc import ABC, abstractmethod\n",
        "\n",
        "# Abstract base class\n",
        "class ComputerSystem(ABC):\n",
        "    @abstractmethod\n",
        "    def power_on(self):\n",
        "        pass\n",
        "\n",
        "    @abstractmethod\n",
        "    def power_off(self):\n",
        "        pass\n",
        "\n",
        "    @abstractmethod\n",
        "    def install_os(self, os_name):\n",
        "        pass\n",
        "\n",
        "# Concrete subclass for a Desktop computer\n",
        "class Desktop(ComputerSystem):\n",
        "    def __init__(self):\n",
        "        self.os = None\n",
        "        self.power_state = \"off\"\n",
        "\n",
        "    def power_on(self):\n",
        "        self.power_state = \"on\"\n",
        "        print(\"Desktop is now powered on.\")\n",
        "\n",
        "    def power_off(self):\n",
        "        self.power_state = \"off\"\n",
        "        print(\"Desktop is now powered off.\")\n",
        "\n",
        "    def install_os(self, os_name):\n",
        "        self.os = os_name\n",
        "        print(f\"Operating system {self.os} installed on the Desktop.\")\n",
        "\n",
        "# Concrete subclass for a Laptop computer\n",
        "class Laptop(ComputerSystem):\n",
        "    def __init__(self):\n",
        "        self.os = None\n",
        "        self.power_state = \"off\"\n",
        "\n",
        "    def power_on(self):\n",
        "        self.power_state = \"on\"\n",
        "        print(\"Laptop is now powered on.\")\n",
        "\n",
        "    def power_off(self):\n",
        "        self.power_state = \"off\"\n",
        "        print(\"Laptop is now powered off.\")\n",
        "\n",
        "    def install_os(self, os_name):\n",
        "        self.os = os_name\n",
        "        print(f\"Operating system {self.os} installed on the Laptop.\")\n",
        "\n",
        "# Usage\n",
        "desktop = Desktop()\n",
        "desktop.power_on()\n",
        "desktop.install_os(\"Windows 10\")\n",
        "desktop.power_off()\n",
        "\n",
        "laptop = Laptop()\n",
        "laptop.power_on()\n",
        "laptop.install_os(\"Ubuntu\")\n",
        "laptop.power_off()"
      ],
      "metadata": {
        "colab": {
          "base_uri": "https://localhost:8080/"
        },
        "id": "nNNvsql0g-ff",
        "outputId": "9237259a-8cdd-4504-f057-df183db9eec5"
      },
      "execution_count": null,
      "outputs": [
        {
          "output_type": "stream",
          "name": "stdout",
          "text": [
            "Desktop is now powered on.\n",
            "Operating system Windows 10 installed on the Desktop.\n",
            "Desktop is now powered off.\n",
            "Laptop is now powered on.\n",
            "Operating system Ubuntu installed on the Laptop.\n",
            "Laptop is now powered off.\n"
          ]
        }
      ]
    },
    {
      "cell_type": "markdown",
      "source": [
        "17.Discuss the use of benfits of using abstraction in large scale software devlopment system\n",
        "Abstraction plays a crucial role in large-scale software development by simplifying complex systems and enhancing various aspects of software design. Here are the key benefits of using abstraction in large-scale software development:\n",
        "\n",
        "1. Simplifies Complexity\n",
        "Hides Implementation Details: Abstraction allows developers to focus on high-level design by hiding complex implementation details. In large-scale systems with multiple components and modules, abstraction provides simplified interfaces that hide the intricate logic behind each module.\n",
        "Modularization: By abstracting different parts of the system, developers can break down a complex problem into smaller, more manageable components or modules, each handling a specific responsibility.\n",
        "2. Promotes Code Reusability\n",
        "Common Interface: Abstract classes or interfaces define a common set of operations, which can be reused across multiple concrete implementations. This avoids redundancy by reusing the same abstract structure across different components or modules.\n",
        "Extensibility: New functionality can be added by extending abstract classes or implementing interfaces without modifying existing code. This enables flexible expansion of the system, making future development easier.\n",
        "3. Enhances Maintainability\n",
        "Encapsulates Change: Abstraction encapsulates areas of the system that are likely to change, such as the internal workings of a module. If an implementation needs to change, the abstract interface remains intact, minimizing the impact on other parts of the system.\n",
        "Improves Readability: Abstract interfaces and well-defined class hierarchies enhance code readability. Developers can understand the system at a high level without getting bogged down by implementation details, making it easier to maintain and modify.\n",
        "4. Facilitates Collaboration\n",
        "Decouples Components: Abstraction helps in decoupling different components of the system. Teams can work on different modules independently by adhering to the abstract interfaces. This promotes parallel development in large teams, reducing dependencies and bottlenecks.\n",
        "Improves Communication: Abstract designs serve as clear blueprints for team members, enabling better communication between developers working on different parts of the system.\n",
        "5. Promotes Testability\n",
        "Mocking and Stubbing: Abstract classes and interfaces make it easier to mock or stub out components for unit testing. Developers can create mock implementations of abstract interfaces for testing purposes without needing the actual concrete implementations, which is especially useful in large systems where dependencies can be complex.\n",
        "Isolation of Components: Abstraction allows each module or component to be tested in isolation, which leads to more reliable and easier-to-maintain tests.\n",
        "6. Supports Scalability\n",
        "Flexible Design: Abstraction enables scalable architectures where new features or modules can be introduced without requiring major refactoring. New classes can be added by extending abstract base classes, allowing the system to grow while maintaining a stable structure.\n",
        "Interchangeable Components: In large-scale systems, components may evolve or be replaced. Abstraction ensures that new implementations can be swapped in for old ones as long as they adhere to the same interface, making the system more adaptable to change.\n",
        "7. Encourages Good Design Practices\n",
        "Separation of Concerns: Abstraction enforces the separation of concerns by isolating what a component does from how it does it. This leads to better-organized code where each component is responsible for a specific piece of functionality."
      ],
      "metadata": {
        "id": "FhtKwkx5hufo"
      }
    },
    {
      "cell_type": "markdown",
      "source": [
        "18.Explain how abstraction enhances code reusability and modularity in python programming\n",
        "nhancing Code Reusability\n",
        "Interface Reusability: By defining abstract classes and interfaces, you can create reusable components that outline what functionalities a set of related classes should provide. This allows multiple concrete implementations to follow the same interface, making it easier to reuse the abstract code across different contexts.\n",
        "Common Operations: Abstract methods in a base class define common operations, ensuring that all subclasses implement these operations while still being flexible enough to vary the specific behavior. This allows you to reuse the abstract base class in various scenarios, where different concrete subclasses can implement the details as needed.\n",
        "Polymorphism: With abstraction, you can use polymorphism, where different objects (from different subclasses) can be treated uniformly based on the abstract base class or interface. This enables code reuse by allowing a common interface to work with different concrete implementations, without needing to rewrite code for each specific type."
      ],
      "metadata": {
        "id": "1Bo0EBxFiNJu"
      }
    },
    {
      "cell_type": "markdown",
      "source": [
        "19.Create a python class for a library system implementing abstraction by defining common methods in abstract base class"
      ],
      "metadata": {
        "id": "xOlIQ9OKi86P"
      }
    },
    {
      "cell_type": "code",
      "source": [
        "from abc import ABC, abstractmethod\n",
        "\n",
        "# Abstract base class for Library System\n",
        "class LibrarySystem(ABC):\n",
        "    @abstractmethod\n",
        "    def add_book(self, title, author):\n",
        "        pass\n",
        "\n",
        "    @abstractmethod\n",
        "    def issue_book(self, title, member_id):\n",
        "        pass\n",
        "\n",
        "    @abstractmethod\n",
        "    def return_book(self, title, member_id):\n",
        "        pass\n",
        "\n",
        "# Concrete class for a Physical Library\n",
        "class PhysicalLibrary(LibrarySystem):\n",
        "    def __init__(self):\n",
        "        self.books = {}\n",
        "        self.issued_books = {}\n",
        "\n",
        "    def add_book(self, title, author):\n",
        "        self.books[title] = author\n",
        "        print(f\"Book '{title}' by {author} added to the physical library.\")\n",
        "\n",
        "    def issue_book(self, title, member_id):\n",
        "        if title in self.books:\n",
        "            self.issued_books[title] = member_id\n",
        "            print(f\"Book '{title}' issued to member {member_id}.\")\n",
        "        else:\n",
        "            print(f\"Book '{title}' is not available in the physical library.\")\n",
        "\n",
        "    def return_book(self, title, member_id):\n",
        "        if title in self.issued_books and self.issued_books[title] == member_id:\n",
        "            del self.issued_books[title]\n",
        "            print(f\"Book '{title}' returned by member {member_id}.\")\n",
        "        else:\n",
        "            print(f\"Book '{title}' was not issued to member {member_id}.\")\n",
        "\n",
        "# Concrete class for a Digital Library\n",
        "class DigitalLibrary(LibrarySystem):\n",
        "    def __init__(self):\n",
        "        self.digital_books = {}\n",
        "        self.issued_books = {}\n",
        "\n",
        "    def add_book(self, title, author):\n",
        "        self.digital_books[title] = author\n",
        "        print(f\"Digital book '{title}' by {author} added to the digital library.\")\n",
        "\n",
        "    def issue_book(self, title, member_id):\n",
        "        if title in self.digital_books:\n",
        "            self.issued_books[title] = member_id\n",
        "            print(f\"Digital book '{title}' issued to member {member_id}.\")\n",
        "        else:\n",
        "            print(f\"Digital book '{title}' is not available in the digital library.\")\n",
        "\n",
        "    def return_book(self, title, member_id):\n",
        "        if title in self.issued_books and self.issued_books[title] == member_id:\n",
        "            del self.issued_books[title]\n",
        "            print(f\"Digital book '{title}' returned by member {member_id}.\")\n",
        "        else:\n",
        "            print(f\"Digital book '{title}' was not issued to member {member_id}.\")\n",
        "\n",
        "# Usage\n",
        "physical_library = PhysicalLibrary()\n",
        "digital_library = DigitalLibrary()\n",
        "\n",
        "# Add books to both libraries\n",
        "physical_library.add_book(\"1984\", \"George Orwell\")\n",
        "digital_library.add_book(\"Clean Code\", \"Robert C. Martin\")\n",
        "\n",
        "# Issue and return books\n",
        "physical_library.issue_book(\"1984\", \"M001\")\n",
        "digital_library.issue_book(\"Clean Code\", \"D002\")\n",
        "\n",
        "physical_library.return_book(\"1984\", \"M001\")\n",
        "digital_library.return_book(\"Clean Code\", \"D002\")"
      ],
      "metadata": {
        "colab": {
          "base_uri": "https://localhost:8080/"
        },
        "id": "RyeOH3PXjmvG",
        "outputId": "094f82d9-89fb-454d-c50f-ebcd73db41aa"
      },
      "execution_count": null,
      "outputs": [
        {
          "output_type": "stream",
          "name": "stdout",
          "text": [
            "Book '1984' by George Orwell added to the physical library.\n",
            "Digital book 'Clean Code' by Robert C. Martin added to the digital library.\n",
            "Book '1984' issued to member M001.\n",
            "Digital book 'Clean Code' issued to member D002.\n",
            "Book '1984' returned by member M001.\n",
            "Digital book 'Clean Code' returned by member D002.\n"
          ]
        }
      ]
    },
    {
      "cell_type": "markdown",
      "source": [
        "20.Describe the concept of methods abstraction in python and how it relates to polymorphism\n",
        "Method abstraction in Python refers to the concept of defining what a method does without specifying how it does it. This is typically achieved using abstract methods in abstract base classes. Abstract methods provide a common interface for classes but leave the specific implementation to the subclasses.\n",
        "\n",
        "Abstract Method: An abstract method is a method declared in an abstract base class but doesn’t provide any implementation. It defines the signature (name, parameters) of the method, but the actual logic is provided by the subclasses.\n",
        "Abstract Base Class (ABC): Python provides the ABC module (from abc) to create abstract base classes, which serve as templates for other classes. The abstract base class ensures that any subclass must provide implementations for all abstract methods."
      ],
      "metadata": {
        "id": "HUXzvnK7jr_o"
      }
    },
    {
      "cell_type": "markdown",
      "source": [
        "1.Explain the concept of composition in python and how does it related to object oriented programming\n",
        "\n",
        "Composition in Python is a concept in Object-Oriented Programming (OOP) where one class contains an object from another class, meaning that an instance of one class is \"composed\" of one or more instances of other classes. This creates a \"has-a\" relationship between objects. In contrast to inheritance, which defines an \"is-a\" relationship, composition allows for more flexibility in building complex objects by combining simpler, reusable components.\n",
        "\n",
        "Key Points of Composition:\n",
        "\"Has-a\" Relationship: In composition, one object contains or \"has\" other objects as part of its attributes. For example, a Car object may contain an Engine object, where the car \"has an\" engine.\n",
        "\n",
        "Encapsulation: Composition supports encapsulation by hiding the internal details of how the class uses other objects, exposing only the necessary behavior.\n",
        "\n",
        "Reusability: Since classes can be composed from other classes, it promotes code reuse. Different classes can share objects of other classes without inheritance."
      ],
      "metadata": {
        "id": "ctxrtyDESCjR"
      }
    },
    {
      "cell_type": "markdown",
      "source": [
        "12.describe the difference between composition and inheritance in object oriented programming\n",
        "ou use inheritance when you want to model a natural hierarchy or represent a general-to-specific relationship.\n",
        "It is appropriate when you want the child class to inherit behavior from the parent class and optionally override it.\n",
        "It is helpful when many classes share common functionality, and you want to centralize it in a parent class.\n",
        "Use composition when you want to assemble objects with distinct responsibilities.\n",
        "It's ideal when you want to reuse functionality without establishing a hierarchy.\n",
        "It promotes flexibility, making it easier to change or replace components of a system without disrupting the whole structure."
      ],
      "metadata": {
        "id": "wUqsqQ_5SV1Q"
      }
    },
    {
      "cell_type": "markdown",
      "source": [
        "3.Create a python class called author with attributes for name and birthdate then create a book class that contain an instance of author as composition Provide an example of creating book object"
      ],
      "metadata": {
        "id": "Sp6ShOeGS699"
      }
    },
    {
      "cell_type": "code",
      "source": [
        "class Author:\n",
        "    def __init__(self, name, birthdate):\n",
        "        self.name = name\n",
        "        self.birthdate = birthdate\n",
        "\n",
        "    def __str__(self):\n",
        "        return f\"{self.name} (Born: {self.birthdate})\"\n",
        "\n",
        "\n",
        "class Book:\n",
        "    def __init__(self, title, publication_year, author):\n",
        "        self.title = title\n",
        "        self.publication_year = publication_year\n",
        "        self.author = author  # Composition: Book has an Author\n",
        "\n",
        "    def __str__(self):\n",
        "        return f\"'{self.title}' by {self.author}, published in {self.publication_year}\"\n",
        "\n",
        "\n",
        "# Example of creating an Author and a Book object\n",
        "author = Author(\"George Orwell\", \"1903-06-25\")\n",
        "book = Book(\"1984\", 1949, author)\n",
        "\n",
        "# Output the book details\n",
        "print(book)\n"
      ],
      "metadata": {
        "colab": {
          "base_uri": "https://localhost:8080/"
        },
        "id": "kYz2XTTpTdVr",
        "outputId": "89fe3fde-95d1-495e-c6b9-e56af06b2648"
      },
      "execution_count": null,
      "outputs": [
        {
          "output_type": "stream",
          "name": "stdout",
          "text": [
            "'1984' by George Orwell (Born: 1903-06-25), published in 1949\n"
          ]
        }
      ]
    },
    {
      "cell_type": "markdown",
      "source": [
        "4.Discuss the benfits of using composition over inheritancein python in terms of code reusability and flexibility\n",
        "Using composition over inheritance in Python offers several benefits, particularly in terms of code reusability and flexibility. Here’s a detailed discussion of these benefits:\n",
        "\n",
        "1. Code Reusability\n",
        "Composition allows you to reuse existing classes in a flexible way without needing to rely on hierarchical relationships as inheritance does. This leads to greater modularity in the code.\n",
        "\n",
        "Modular Components: With composition, objects can be reused by different classes that need similar functionality, but without enforcing a strict \"is-a\" relationship. For example, a Book can use an Author, and a Magazine can also use the same Author class, without either class needing to inherit from each other.\n",
        "\n",
        "Combining Behaviors: Composition lets you mix and match behaviors from different classes. Instead of being bound by a single parent class (as in inheritance), a class can include instances of multiple other classes, making it easier to reuse specific behaviors across different contexts"
      ],
      "metadata": {
        "id": "J1G5hREKTj7w"
      }
    },
    {
      "cell_type": "markdown",
      "source": [
        "5.How can you implement composition in python classes Provide an example of using composition create complex objects\n",
        "we can implement composition in Python classes by including instances of one class inside another class. This allows you to create complex objects by combining different componen"
      ],
      "metadata": {
        "id": "o-aYmGdCT5T0"
      }
    },
    {
      "cell_type": "code",
      "source": [
        "class Furniture:\n",
        "    def __init__(self, name, material):\n",
        "        self.name = name\n",
        "        self.material = material\n",
        "\n",
        "    def __str__(self):\n",
        "        return f\"{self.name} made of {self.material}\"\n",
        "\n",
        "\n",
        "class Room:\n",
        "    def __init__(self, name):\n",
        "        self.name = name\n",
        "        self.furniture_list = []  # A Room has multiple pieces of furniture\n",
        "\n",
        "    def add_furniture(self, furniture):\n",
        "        self.furniture_list.append(furniture)\n",
        "\n",
        "    def __str__(self):\n",
        "        furniture_str = ', '.join([str(furniture) for furniture in self.furniture_list])\n",
        "        return f\"Room: {self.name}, Furniture: {furniture_str}\"\n",
        "\n",
        "\n",
        "class House:\n",
        "    def __init__(self, address):\n",
        "        self.address = address\n",
        "        self.rooms = []  # A House has multiple rooms\n",
        "\n",
        "    def add_room(self, room):\n",
        "        self.rooms.append(room)\n",
        "\n",
        "    def __str__(self):\n",
        "        rooms_str = '\\n'.join([str(room) for room in self.rooms])\n",
        "        return f\"House at {self.address}:\\n{rooms_str}\"\n",
        "\n",
        "\n",
        "# Creating Furniture objects\n",
        "sofa = Furniture(\"Sofa\", \"Leather\")\n",
        "table = Furniture(\"Dining Table\", \"Wood\")\n",
        "bed = Furniture(\"Bed\", \"Metal\")\n",
        "\n",
        "# Creating Room objects\n",
        "living_room = Room(\"Living Room\")\n",
        "living_room.add_furniture(sofa)\n",
        "\n",
        "dining_room = Room(\"Dining Room\")\n",
        "dining_room.add_furniture(table)\n",
        "\n",
        "bedroom = Room(\"Bedroom\")\n",
        "bedroom.add_furniture(bed)\n",
        "\n",
        "# Creating a House object using composition\n",
        "house = House(\"123 Maple Street\")\n",
        "house.add_room(living_room)\n",
        "house.add_room(dining_room)\n",
        "house.add_room(bedroom)\n",
        "\n",
        "# Output the house details\n",
        "print(house)"
      ],
      "metadata": {
        "colab": {
          "base_uri": "https://localhost:8080/"
        },
        "id": "PFBfvTtKUSMV",
        "outputId": "cd93409a-75cc-4d1a-d8ec-ae577a03d794"
      },
      "execution_count": null,
      "outputs": [
        {
          "output_type": "stream",
          "name": "stdout",
          "text": [
            "House at 123 Maple Street:\n",
            "Room: Living Room, Furniture: Sofa made of Leather\n",
            "Room: Dining Room, Furniture: Dining Table made of Wood\n",
            "Room: Bedroom, Furniture: Bed made of Metal\n"
          ]
        }
      ]
    },
    {
      "cell_type": "markdown",
      "source": [
        "6.Create a python class called hierarchy for a music player system using composition to represent playlists and songs"
      ],
      "metadata": {
        "id": "YWV6N8KIUccn"
      }
    },
    {
      "cell_type": "code",
      "source": [
        "class Song:\n",
        "    def __init__(self, title, artist, duration):\n",
        "        self.title = title\n",
        "        self.artist = artist\n",
        "        self.duration = duration  # duration in seconds\n",
        "\n",
        "    def __str__(self):\n",
        "        minutes = self.duration // 60\n",
        "        seconds = self.duration % 60\n",
        "        return f\"'{self.title}' by {self.artist} [{minutes}:{seconds:02d}]\"\n",
        "\n",
        "\n",
        "class Playlist:\n",
        "    def __init__(self, name):\n",
        "        self.name = name\n",
        "        self.songs = []  # A Playlist contains multiple Song objects\n",
        "\n",
        "    def add_song(self, song):\n",
        "        self.songs.append(song)\n",
        "\n",
        "    def total_duration(self):\n",
        "        return sum(song.duration for song in self.songs)\n",
        "\n",
        "    def __str__(self):\n",
        "        playlist_str = f\"Playlist: {self.name}\\n\"\n",
        "        playlist_str += '\\n'.join([str(song) for song in self.songs])\n",
        "        total_minutes = self.total_duration() // 60\n",
        "        total_seconds = self.total_duration() % 60\n",
        "        playlist_str += f\"\\nTotal duration: {total_minutes}:{total_seconds:02d}\"\n",
        "        return playlist_str\n",
        "\n",
        "\n",
        "class MusicPlayer:\n",
        "    def __init__(self):\n",
        "        self.playlists = []  # MusicPlayer contains multiple Playlist objects\n",
        "\n",
        "    def add_playlist(self, playlist):\n",
        "        self.playlists.append(playlist)\n",
        "\n",
        "    def __str__(self):\n",
        "        return '\\n\\n'.join([str(playlist) for playlist in self.playlists])\n",
        "\n",
        "\n",
        "# Example of creating songs\n",
        "song1 = Song(\"Imagine\", \"John Lennon\", 183)\n",
        "song2 = Song(\"Bohemian Rhapsody\", \"Queen\", 354)\n",
        "song3 = Song(\"Let It Be\", \"The Beatles\", 243)\n",
        "\n",
        "# Creating a playlist and adding songs to it\n",
        "playlist1 = Playlist(\"Classic Rock\")\n",
        "playlist1.add_song(song1)\n",
        "playlist1.add_song(song2)\n",
        "\n",
        "playlist2 = Playlist(\"Beatles Favorites\")\n",
        "playlist2.add_song(song3)\n",
        "\n",
        "# Creating a MusicPlayer and adding playlists\n",
        "music_player = MusicPlayer()\n",
        "music_player.add_playlist(playlist1)\n",
        "music_player.add_playlist(playlist2)\n",
        "\n",
        "# Output the music player details\n",
        "print(music_player)"
      ],
      "metadata": {
        "colab": {
          "base_uri": "https://localhost:8080/"
        },
        "id": "CTf-v_sLU9Wh",
        "outputId": "a62516cc-faa3-4770-d9d5-b32fad219c6c"
      },
      "execution_count": null,
      "outputs": [
        {
          "output_type": "stream",
          "name": "stdout",
          "text": [
            "Playlist: Classic Rock\n",
            "'Imagine' by John Lennon [3:03]\n",
            "'Bohemian Rhapsody' by Queen [5:54]\n",
            "Total duration: 8:57\n",
            "\n",
            "Playlist: Beatles Favorites\n",
            "'Let It Be' by The Beatles [4:03]\n",
            "Total duration: 4:03\n"
          ]
        }
      ]
    },
    {
      "cell_type": "markdown",
      "source": [
        "7.Create a python class of has-a relationship in composition and it helps design software system\n",
        "In Python, a has-a relationship in composition means that one class contains an instance of another class as an attribute. This type of relationship is useful in designing software systems because it allows for greater modularity, code reuse, and flexibility.\n",
        "\n",
        "Let’s design an example of a has-a relationship by creating a class hierarchy for an Employee Management System. In this system, an Employee class contains instances of other classes like Address and Department."
      ],
      "metadata": {
        "id": "Ep2M948HVA03"
      }
    },
    {
      "cell_type": "code",
      "source": [
        "class Address:\n",
        "    def __init__(self, street, city, zip_code):\n",
        "        self.street = street\n",
        "        self.city = city\n",
        "        self.zip_code = zip_code\n",
        "\n",
        "    def __str__(self):\n",
        "        return f\"{self.street}, {self.city}, {self.zip_code}\"\n",
        "\n",
        "\n",
        "class Department:\n",
        "    def __init__(self, name):\n",
        "        self.name = name\n",
        "\n",
        "    def __str__(self):\n",
        "        return self.name\n",
        "\n",
        "\n",
        "class Employee:\n",
        "    def __init__(self, name, age, address, department):\n",
        "        self.name = name\n",
        "        self.age = age\n",
        "        self.address = address  # Composition: Employee has an Address\n",
        "        self.department = department  # Composition: Employee has a Department\n",
        "\n",
        "    def __str__(self):\n",
        "        return (f\"Employee: {self.name}, Age: {self.age}\\n\"\n",
        "                f\"Address: {self.address}\\n\"\n",
        "                f\"Department: {self.department}\")\n",
        "\n",
        "\n",
        "# Creating Address and Department objects\n",
        "address = Address(\"123 Elm Street\", \"Metropolis\", \"12345\")\n",
        "department = Department(\"Software Development\")\n",
        "\n",
        "# Creating an Employee object that contains Address and Department\n",
        "employee = Employee(\"John Doe\", 30, address, department)\n",
        "\n",
        "# Output the employee details\n",
        "print(employee)"
      ],
      "metadata": {
        "colab": {
          "base_uri": "https://localhost:8080/"
        },
        "id": "ZbZKv4lxVYgl",
        "outputId": "c223ea39-cf09-443d-af90-ba5153cef9b0"
      },
      "execution_count": null,
      "outputs": [
        {
          "output_type": "stream",
          "name": "stdout",
          "text": [
            "Employee: John Doe, Age: 30\n",
            "Address: 123 Elm Street, Metropolis, 12345\n",
            "Department: Software Development\n"
          ]
        }
      ]
    },
    {
      "cell_type": "markdown",
      "source": [
        "8.Create a python class for a computer system using composition to repressent components like cpu ram and storage devices"
      ],
      "metadata": {
        "id": "L0Cba82OVfc5"
      }
    },
    {
      "cell_type": "code",
      "source": [
        "class CPU:\n",
        "    def __init__(self, brand, cores, clock_speed):\n",
        "        self.brand = brand\n",
        "        self.cores = cores\n",
        "        self.clock_speed = clock_speed  # in GHz\n",
        "\n",
        "    def __str__(self):\n",
        "        return f\"{self.brand} CPU with {self.cores} cores @ {self.clock_speed} GHz\"\n",
        "\n",
        "\n",
        "class RAM:\n",
        "    def __init__(self, size):\n",
        "        self.size = size  # size in GB\n",
        "\n",
        "    def __str__(self):\n",
        "        return f\"{self.size} GB RAM\"\n",
        "\n",
        "\n",
        "class Storage:\n",
        "    def __init__(self, type, capacity):\n",
        "        self.type = type  # e.g., HDD, SSD\n",
        "        self.capacity = capacity  # capacity in GB\n",
        "\n",
        "    def __str__(self):\n",
        "        return f\"{self.capacity} GB {self.type}\"\n",
        "\n",
        "\n",
        "class Computer:\n",
        "    def __init__(self, cpu, ram, storage):\n",
        "        self.cpu = cpu  # Composition: Computer has a CPU\n",
        "        self.ram = ram  # Composition: Computer has RAM\n",
        "        self.storage = storage  # Composition: Computer has storage devices\n",
        "\n",
        "    def __str__(self):\n",
        "        return (f\"Computer System Specifications:\\n\"\n",
        "                f\"CPU: {self.cpu}\\n\"\n",
        "                f\"RAM: {self.ram}\\n\"\n",
        "                f\"Storage: {self.storage}\")\n",
        "\n",
        "\n",
        "# Creating CPU, RAM, and Storage objects\n",
        "cpu = CPU(\"Intel\", 8, 3.5)\n",
        "ram = RAM(16)\n",
        "storage = Storage(\"SSD\", 512)\n",
        "\n",
        "# Creating a Computer object with the components\n",
        "computer = Computer(cpu, ram, storage)\n",
        "\n",
        "# Output the computer specifications\n",
        "print(computer)"
      ],
      "metadata": {
        "colab": {
          "base_uri": "https://localhost:8080/"
        },
        "id": "0Ny5UZpiV-KO",
        "outputId": "39871cdb-982b-4288-a2de-d0153bee652d"
      },
      "execution_count": null,
      "outputs": [
        {
          "output_type": "stream",
          "name": "stdout",
          "text": [
            "Computer System Specifications:\n",
            "CPU: Intel CPU with 8 cores @ 3.5 GHz\n",
            "RAM: 16 GB RAM\n",
            "Storage: 512 GB SSD\n"
          ]
        }
      ]
    },
    {
      "cell_type": "markdown",
      "source": [
        "9.Describe the concept of delagation in compound and how it simplifies the design of complex system\n",
        "Delegation in the context of composition refers to one object relying on another object to perform a specific task or responsibility, effectively delegating part of its functionality to a component. This concept is fundamental in simplifying the design of complex systems because it promotes modularity, code reuse, and separation of concerns. Instead of inheriting behavior (as in inheritance), a class delegates specific tasks to other classes or objects that are better suited for those task"
      ],
      "metadata": {
        "id": "gAi5KLNKWAun"
      }
    },
    {
      "cell_type": "markdown",
      "source": [
        "10.Create a python class called car using composition to represent like engine wheel transmission"
      ],
      "metadata": {
        "id": "MQjv4G8fWYSa"
      }
    },
    {
      "cell_type": "code",
      "source": [
        "class Engine:\n",
        "    def __init__(self, horsepower, engine_type):\n",
        "        self.horsepower = horsepower\n",
        "        self.engine_type = engine_type  # e.g., Petrol, Diesel, Electric\n",
        "\n",
        "    def start(self):\n",
        "        return \"Engine is starting...\"\n",
        "\n",
        "    def stop(self):\n",
        "        return \"Engine is stopping...\"\n",
        "\n",
        "    def __str__(self):\n",
        "        return f\"{self.horsepower} HP {self.engine_type} engine\"\n",
        "\n",
        "\n",
        "class Wheel:\n",
        "    def __init__(self, size):\n",
        "        self.size = size  # Size of the wheel in inches\n",
        "\n",
        "    def rotate(self):\n",
        "        return \"Wheels are rotating...\"\n",
        "\n",
        "    def __str__(self):\n",
        "        return f\"{self.size}-inch wheel\"\n",
        "\n",
        "\n",
        "class Transmission:\n",
        "    def __init__(self, transmission_type):\n",
        "        self.transmission_type = transmission_type  # e.g., Manual, Automatic\n",
        "\n",
        "    def change_gear(self):\n",
        "        return \"Transmission is changing gears...\"\n",
        "\n",
        "    def __str__(self):\n",
        "        return f\"{self.transmission_type} transmission\"\n",
        "\n",
        "\n",
        "class Car:\n",
        "    def __init__(self, make, model, engine, wheels, transmission):\n",
        "        self.make = make\n",
        "        self.model = model\n",
        "        self.engine = engine  # Composition: Car has an Engine\n",
        "        self.wheels = wheels  # Composition: Car has multiple Wheels\n",
        "        self.transmission = transmission  # Composition: Car has a Transmission\n",
        "\n",
        "    def start(self):\n",
        "        print(f\"Starting {self.make} {self.model}...\")\n",
        "        print(self.engine.start())\n",
        "        print(self.transmission.change_gear())\n",
        "        for wheel in self.wheels:\n",
        "            print(wheel.rotate())\n",
        "\n",
        "    def stop(self):\n",
        "        print(f\"Stopping {self.make} {self.model}...\")\n",
        "        print(self.engine.stop())\n",
        "\n",
        "    def __str__(self):\n",
        "        wheels_str = ', '.join([str(wheel) for wheel in self.wheels])\n",
        "        return (f\"Car: {self.make} {self.model}\\n\"\n",
        "                f\"Engine: {self.engine}\\n\"\n",
        "                f\"Wheels: {wheels_str}\\n\"\n",
        "                f\"Transmission: {self.transmission}\")\n",
        "\n",
        "\n",
        "# Creating components\n",
        "engine = Engine(200, \"Petrol\")\n",
        "wheels = [Wheel(18) for _ in range(4)]  # A car typically has 4 wheels\n",
        "transmission = Transmission(\"Automatic\")\n",
        "\n",
        "# Creating a Car object with the components\n",
        "car = Car(\"Toyota\", \"Camry\", engine, wheels, transmission)\n",
        "\n",
        "# Output car details and start the car\n",
        "print(car)\n",
        "car.start()\n",
        "car.stop()"
      ],
      "metadata": {
        "colab": {
          "base_uri": "https://localhost:8080/"
        },
        "id": "KD5wPsm5XBHO",
        "outputId": "3cbe2f8c-f7e5-48ab-8b00-753b24a18f10"
      },
      "execution_count": null,
      "outputs": [
        {
          "output_type": "stream",
          "name": "stdout",
          "text": [
            "Car: Toyota Camry\n",
            "Engine: 200 HP Petrol engine\n",
            "Wheels: 18-inch wheel, 18-inch wheel, 18-inch wheel, 18-inch wheel\n",
            "Transmission: Automatic transmission\n",
            "Starting Toyota Camry...\n",
            "Engine is starting...\n",
            "Transmission is changing gears...\n",
            "Wheels are rotating...\n",
            "Wheels are rotating...\n",
            "Wheels are rotating...\n",
            "Wheels are rotating...\n",
            "Stopping Toyota Camry...\n",
            "Engine is stopping...\n"
          ]
        }
      ]
    },
    {
      "cell_type": "markdown",
      "source": [
        "11.How can you encapsulation and hide the details of composed objects in python classes to maintain abstraction\n",
        "Encapsulation: This involves bundling data (attributes) and methods (functions) that operate on the data into a single unit (class). It also involves restricting access to certain details of the class, making it easier to manage and use.\n",
        "Abstraction: This involves hiding the complex implementation details and showing only the essential features of an object. This is often achieved by exposing a simplified interface and keeping the internal workings hidden.\n",
        "Techniques to Implement Encapsulation and Abstraction:\n",
        "Use Private Attributes: Prefix attributes with an underscore _ or double underscore __ to indicate that they are intended to be private. This restricts direct access to these attributes from outside the class.\n",
        "\n",
        "Provide Public Methods: Define public methods that interact with the private attributes. These methods act as an interface to interact with the internal data and behavior.\n",
        "\n",
        "Encapsulate Components: When using composition, you can encapsulate the details of the composed objects by providing controlled access to their functionality through the main class.\n",
        "\n"
      ],
      "metadata": {
        "id": "6S4I0JXUXFPC"
      }
    },
    {
      "cell_type": "markdown",
      "source": [
        "12.Create a python classes called univesrsity course using composition to represent study instructor and course details"
      ],
      "metadata": {
        "id": "od-wHGAQXfCv"
      }
    },
    {
      "cell_type": "code",
      "source": [
        "class Study:\n",
        "    def __init__(self, subject, level):\n",
        "        self.__subject = subject\n",
        "        self.__level = level  # e.g., Undergraduate, Postgraduate\n",
        "\n",
        "    def __str__(self):\n",
        "        return f\"{self.__subject} ({self.__level})\"\n",
        "\n",
        "\n",
        "class Instructor:\n",
        "    def __init__(self, name, department):\n",
        "        self.__name = name\n",
        "        self.__department = department\n",
        "\n",
        "    def __str__(self):\n",
        "        return f\"Dr. {self.__name}, {self.__department} Department\"\n",
        "\n",
        "\n",
        "class CourseDetails:\n",
        "    def __init__(self, course_code, schedule):\n",
        "        self.__course_code = course_code\n",
        "        self.__schedule = schedule  # e.g., \"Mon-Wed 10:00-12:00\"\n",
        "\n",
        "    def __str__(self):\n",
        "        return f\"Course Code: {self.__course_code}, Schedule: {self.__schedule}\"\n",
        "\n",
        "\n",
        "class Course:\n",
        "    def __init__(self, study, instructor, course_details):\n",
        "        self.__study = study          # Composition: Course has a Study\n",
        "        self.__instructor = instructor # Composition: Course has an Instructor\n",
        "        self.__course_details = course_details # Composition: Course has CourseDetails\n",
        "\n",
        "    def __str__(self):\n",
        "        return (f\"Course Information:\\n\"\n",
        "                f\"Study: {self.__study}\\n\"\n",
        "                f\"Instructor: {self.__instructor}\\n\"\n",
        "                f\"Course Details: {self.__course_details}\")\n",
        "\n",
        "\n",
        "# Creating components\n",
        "study = Study(\"Computer Science\", \"Undergraduate\")\n",
        "instructor = Instructor(\"Smith\", \"Computer Science\")\n",
        "course_details = CourseDetails(\"CS101\", \"Mon-Wed 10:00-12:00\")\n",
        "\n",
        "# Creating a Course object with the components\n",
        "course = Course(study, instructor, course_details)\n",
        "\n",
        "# Output course details\n",
        "print(course)\n"
      ],
      "metadata": {
        "colab": {
          "base_uri": "https://localhost:8080/"
        },
        "id": "vVpwAk5kY2Wz",
        "outputId": "70d675ee-a976-4a6a-cfef-b1b79630f0eb"
      },
      "execution_count": null,
      "outputs": [
        {
          "output_type": "stream",
          "name": "stdout",
          "text": [
            "Course Information:\n",
            "Study: Computer Science (Undergraduate)\n",
            "Instructor: Dr. Smith, Computer Science Department\n",
            "Course Details: Course Code: CS101, Schedule: Mon-Wed 10:00-12:00\n"
          ]
        }
      ]
    },
    {
      "cell_type": "markdown",
      "source": [
        "13.Discuss the challenges and drawbacks of composition such as increased complexibility and potential for tight coupling between object\n",
        "While composition is a powerful design tool in object-oriented programming, it can present certain challenges and drawbacks. Here are some of the key issues:\n",
        "\n",
        "1. Increased Complexity:\n",
        "Challenge: As systems grow in size and complexity, the number of composed objects can increase significantly. This can make it harder to track and manage interactions between objects.\n",
        "Example: A complex system may have multiple layers of objects delegating tasks to other objects, leading to intricate webs of dependencies that are difficult to debug or modify.\n",
        "Impact: The design becomes harder to maintain and understand, particularly when a class has many components. This complexity may slow down development and increase the risk of introducing bugs during changes.\n",
        "\n",
        "Solution: Modular design, thorough documentation, and adherence to design patterns can help mitigate this problem. Carefully controlling the number of composed objects and encapsulating interactions through well-defined interfaces can also reduce complexity."
      ],
      "metadata": {
        "id": "0P6_rvxaY5s5"
      }
    },
    {
      "cell_type": "markdown",
      "source": [
        "14.Create a python class called hierarchy for a restraunt system using composition to represent menu dishes andingridients"
      ],
      "metadata": {
        "id": "6lSc7-6pa2bh"
      }
    },
    {
      "cell_type": "code",
      "source": [
        "class Ingredient:\n",
        "    def __init__(self, name, quantity):\n",
        "        self.__name = name\n",
        "        self.__quantity = quantity  # Quantity in grams or other units\n",
        "\n",
        "    def __str__(self):\n",
        "        return f\"{self.__name}: {self.__quantity} grams\"\n",
        "\n",
        "    def get_name(self):\n",
        "        return self.__name\n",
        "\n",
        "    def get_quantity(self):\n",
        "        return self.__quantity\n",
        "\n",
        "\n",
        "class Dish:\n",
        "    def __init__(self, name, ingredients):\n",
        "        self.__name = name\n",
        "        self.__ingredients = ingredients  # List of Ingredient objects\n",
        "\n",
        "    def __str__(self):\n",
        "        ingredients_str = ', '.join([str(ingredient) for ingredient in self.__ingredients])\n",
        "        return f\"{self.__name} with ingredients: {ingredients_str}\"\n",
        "\n",
        "    def get_ingredients(self):\n",
        "        return self.__ingredients\n",
        "\n",
        "\n",
        "class Menu:\n",
        "    def __init__(self, title, dishes):\n",
        "        self.__title = title\n",
        "        self.__dishes = dishes  # List of Dish objects\n",
        "\n",
        "    def __str__(self):\n",
        "        dishes_str = '\\n'.join([str(dish) for dish in self.__dishes])\n",
        "        return f\"Menu: {self.__title}\\n{dishes_str}\"\n",
        "\n",
        "    def get_dishes(self):\n",
        "        return self.__dishes\n",
        "\n",
        "\n",
        "class Restaurant:\n",
        "    def __init__(self, name, menu):\n",
        "        self.__name = name\n",
        "        self.__menu = menu  # Composition: Restaurant has a Menu\n",
        "\n",
        "    def __str__(self):\n",
        "        return f\"Restaurant: {self.__name}\\n{self.__menu}\"\n",
        "\n",
        "    def get_menu(self):\n",
        "        return self.__menu\n",
        "\n",
        "\n",
        "# Create some ingredients\n",
        "ingredient1 = Ingredient(\"Tomato\", 200)\n",
        "ingredient2 = Ingredient(\"Cheese\", 150)\n",
        "ingredient3 = Ingredient(\"Basil\", 50)\n",
        "\n",
        "# Create dishes with ingredients\n",
        "dish1 = Dish(\"Caprese Salad\", [ingredient1, ingredient2, ingredient3])\n",
        "dish2 = Dish(\"Margherita Pizza\", [ingredient1, ingredient2])\n",
        "\n",
        "# Create a menu with dishes\n",
        "menu = Menu(\"Italian Delights\", [dish1, dish2])\n",
        "\n",
        "# Create a restaurant with a menu\n",
        "restaurant = Restaurant(\"La Bella Italia\", menu)\n",
        "\n",
        "# Output restaurant details\n",
        "print(restaurant)\n"
      ],
      "metadata": {
        "colab": {
          "base_uri": "https://localhost:8080/"
        },
        "id": "PD3qg8vJbY9A",
        "outputId": "0fdf912e-41a6-47c2-878d-e9c00658bddc"
      },
      "execution_count": 8,
      "outputs": [
        {
          "output_type": "stream",
          "name": "stdout",
          "text": [
            "Restaurant: La Bella Italia\n",
            "Menu: Italian Delights\n",
            "Caprese Salad with ingredients: Tomato: 200 grams, Cheese: 150 grams, Basil: 50 grams\n",
            "Margherita Pizza with ingredients: Tomato: 200 grams, Cheese: 150 grams\n"
          ]
        }
      ]
    },
    {
      "cell_type": "markdown",
      "source": [
        "15.Explain how composition enhances code modularity and maintainability in python programming\n",
        "Composition is a design principle in object-oriented programming that enhances modularity and maintainability by combining simpler, well-defined components into a more complex system. Here’s how composition achieves these benefits:\n",
        "\n",
        "1. Code Modularity:\n",
        "Definition: Modularity refers to the degree to which a system’s components can be separated and recombined. In a modular system, each component or module is independent and can be developed, tested, and understood in isolation.\n",
        "How Composition Enhances Modularity:\n",
        "Separation of Concerns: By using composition, you can break down a complex system into smaller, manageable components, each handling a specific aspect of the system. For example, in a restaurant system, you might have separate classes for Ingredient, Dish, and Menu. Each class focuses on its own responsibilities without intertwining with others.\n",
        "Reusable Components: Components created using composition are often designed to be reusable. For instance, an Ingredient class can be used across different Dish objects, and those dishes can be included in various Menu objects. This reusability makes it easier to build complex systems from simple, tested parts.\n",
        "Simplified Design: Modular design allows you to focus on individual components rather than the entire system at once. Each class can be developed and understood independently, leading to clearer, more organized code.\n",
        "2. Code Maintainability:\n",
        "Definition: Maintainability refers to the ease with which a system can be modified to correct faults, improve performance, or adapt to a changed environment.\n",
        "How Composition Enhances Maintainability:\n",
        "Easier Updates: When using composition, you can update or modify individual components without affecting the entire system. For instance, if the behavior of Dish needs to change, you can modify the Dish class without altering Ingredient or Menu classes.\n",
        "Isolated Testing: Modular components can be tested independently. Each component (like Ingredient or Dish) can be tested in isolation, making it easier to identify and fix issues. This isolation reduces the risk of changes in one part of the system introducing bugs in other parts.\n",
        "Improved Debugging: Debugging becomes more straightforward with modular design. If a bug is identified, you can focus on the specific component involved rather than sifting through a monolithic codebase. This makes it easier to locate the source of issues and apply fixes.\n",
        "Extensibility: Composition makes it easier to extend the system by adding new components or functionalities. For example, adding a new type of Dish or a different type of Ingredient can be done with minimal changes to existing code, adhering to the Open/Closed Principle (open for extension, closed for modification).\n",
        "Example:\n",
        "Consider a Restaurant system with Menu, Dish, and Ingredient classes. Here’s how composition applies:\n",
        "\n",
        "Modularity: Each class (Menu, Dish, Ingredient) is a separate module with a clear responsibility. The Menu class holds dishes, each Dish has ingredients, and each Ingredient has details about itself.\n",
        "\n",
        "Maintainability:\n",
        "\n",
        "Updating a Dish: If the recipe for a dish changes, you only need to modify the Dish class or its ingredients. Other parts of the system that use Dish do not need modification.\n",
        "Adding New Ingredients: If new types of ingredients are introduced, you can extend the Ingredient class or create new subclasses without affecting the Dish or Menu classes."
      ],
      "metadata": {
        "id": "37e_unlpbcbK"
      }
    },
    {
      "cell_type": "markdown",
      "source": [
        "16.Create a python class for a computer game characters using  compsition to represent attributes like weapons and armor"
      ],
      "metadata": {
        "id": "rk4fp3gjb7OT"
      }
    },
    {
      "cell_type": "code",
      "source": [
        "class Weapon:\n",
        "    def __init__(self, name, damage):\n",
        "        self.__name = name\n",
        "        self.__damage = damage\n",
        "\n",
        "    def __str__(self):\n",
        "        return f\"{self.__name} (Damage: {self.__damage})\"\n",
        "\n",
        "    def get_damage(self):\n",
        "        return self.__damage\n",
        "\n",
        "\n",
        "class Armor:\n",
        "    def __init__(self, name, defense):\n",
        "        self.__name = name\n",
        "        self.__defense = defense\n",
        "\n",
        "    def __str__(self):\n",
        "        return f\"{self.__name} (Defense: {self.__defense})\"\n",
        "\n",
        "    def get_defense(self):\n",
        "        return self.__defense\n",
        "\n",
        "\n",
        "class Character:\n",
        "    def __init__(self, name, health, weapon=None, armor=None):\n",
        "        self.__name = name\n",
        "        self.__health = health\n",
        "        self.__weapon = weapon  # Composition: Character has a Weapon\n",
        "        self.__armor = armor    # Composition: Character has Armor\n",
        "\n",
        "    def equip_weapon(self, weapon):\n",
        "        self.__weapon = weapon\n",
        "\n",
        "    def equip_armor(self, armor):\n",
        "        self.__armor = armor\n",
        "\n",
        "    def __str__(self):\n",
        "        weapon_str = str(self.__weapon) if self.__weapon else \"No weapon\"\n",
        "        armor_str = str(self.__armor) if self.__armor else \"No armor\"\n",
        "        return (f\"Character: {self.__name}\\n\"\n",
        "                f\"Health: {self.__health}\\n\"\n",
        "                f\"Weapon: {weapon_str}\\n\"\n",
        "                f\"Armor: {armor_str}\")\n",
        "\n",
        "    def attack(self):\n",
        "        if self.__weapon:\n",
        "            return f\"{self.__name} attacks with {self.__weapon.get_damage()} damage!\"\n",
        "        else:\n",
        "            return f\"{self.__name} has no weapon to attack with!\"\n",
        "\n",
        "    def defend(self):\n",
        "        if self.__armor:\n",
        "            return f\"{self.__name} defends with {self.__armor.get_defense()} defense!\"\n",
        "        else:\n",
        "            return f\"{self.__name} has no armor to defend with!\"\n",
        "\n",
        "\n",
        "# Creating some weapons and armor\n",
        "sword = Weapon(\"Sword\", 50)\n",
        "shield = Armor(\"Shield\", 30)\n",
        "bow = Weapon(\"Bow\", 25)\n",
        "helmet = Armor(\"Helmet\", 15)\n",
        "\n",
        "# Creating characters and equipping them with weapons and armor\n",
        "hero = Character(\"Hero\", 100, sword, shield)\n",
        "villain = Character(\"Villain\", 80, bow, helmet)\n",
        "\n",
        "# Output character details\n",
        "print(hero)\n",
        "print(villain)\n",
        "\n",
        "# Demonstrating character actions\n",
        "print(hero.attack())\n",
        "print(hero.defend())\n",
        "\n",
        "print(villain.attack())\n",
        "print(villain.defend())\n"
      ],
      "metadata": {
        "colab": {
          "base_uri": "https://localhost:8080/"
        },
        "id": "V8ejBF8dcXOk",
        "outputId": "766aaa60-dd4c-431e-ab26-b041b4d2a80d"
      },
      "execution_count": 9,
      "outputs": [
        {
          "output_type": "stream",
          "name": "stdout",
          "text": [
            "Character: Hero\n",
            "Health: 100\n",
            "Weapon: Sword (Damage: 50)\n",
            "Armor: Shield (Defense: 30)\n",
            "Character: Villain\n",
            "Health: 80\n",
            "Weapon: Bow (Damage: 25)\n",
            "Armor: Helmet (Defense: 15)\n",
            "Hero attacks with 50 damage!\n",
            "Hero defends with 30 defense!\n",
            "Villain attacks with 25 damage!\n",
            "Villain defends with 15 defense!\n"
          ]
        }
      ]
    },
    {
      "cell_type": "markdown",
      "source": [
        "17.Describe the concept of aggregration in composition and how does it differ\n",
        "from simple composition\n",
        "ggregation is a specialized form of composition in object-oriented programming that describes a \"has-a\" relationship between classes. It indicates a weaker relationship compared to composition, where the lifecycle of the contained objects is independent of the container object. Here’s a detailed look at aggregation and how it differs from simple composition:\n",
        "\n",
        "Aggregation\n",
        "Concept:\n",
        "\n",
        "Aggregation represents a relationship where one class (the container) has a reference to another class (the contained), but the contained class can exist independently of the container.\n",
        "The contained objects are not tightly bound to the lifecycle of the container object. This means that the contained objects can outlive the container and be shared among different containers.\n",
        "Characteristics:\n",
        "\n",
        "Weaker Relationship: The contained objects are not destroyed when the container is destroyed. They can be shared across different containers or exist independently.\n",
        "Shared Objects: Aggregated objects can be shared among multiple parent objects. For example, a Library might aggregate multiple Book objects, and the same Book can belong to multiple Library instances."
      ],
      "metadata": {
        "id": "DLg5N5FScaOX"
      }
    },
    {
      "cell_type": "markdown",
      "source": [
        "18.create a python class for a house using composition to represent rooms furniture and appliances"
      ],
      "metadata": {
        "id": "3NSnP8Goc6pu"
      }
    },
    {
      "cell_type": "code",
      "source": [
        "class Furniture:\n",
        "    def __init__(self, name, material):\n",
        "        self.__name = name\n",
        "        self.__material = material\n",
        "\n",
        "    def __str__(self):\n",
        "        return f\"{self.__name} (Material: {self.__material})\"\n",
        "\n",
        "\n",
        "class Appliance:\n",
        "    def __init__(self, name, power):\n",
        "        self.__name = name\n",
        "        self.__power = power  # Power in watts\n",
        "\n",
        "    def __str__(self):\n",
        "        return f\"{self.__name} (Power: {self.__power}W)\"\n",
        "\n",
        "\n",
        "class Room:\n",
        "    def __init__(self, name):\n",
        "        self.__name = name\n",
        "        self.__furniture = []  # List of Furniture objects\n",
        "        self.__appliances = []  # List of Appliance objects\n",
        "\n",
        "    def add_furniture(self, furniture):\n",
        "        self.__furniture.append(furniture)\n",
        "\n",
        "    def add_appliance(self, appliance):\n",
        "        self.__appliances.append(appliance)\n",
        "\n",
        "    def __str__(self):\n",
        "        furniture_str = ', '.join([str(f) for f in self.__furniture]) if self.__furniture else \"No furniture\"\n",
        "        appliances_str = ', '.join([str(a) for a in self.__appliances]) if self.__appliances else \"No appliances\"\n",
        "        return (f\"Room: {self.__name}\\n\"\n",
        "                f\"Furniture: {furniture_str}\\n\"\n",
        "                f\"Appliances: {appliances_str}\")\n",
        "\n",
        "\n",
        "class House:\n",
        "    def __init__(self, address):\n",
        "        self.__address = address\n",
        "        self.__rooms = []  # List of Room objects\n",
        "\n",
        "    def add_room(self, room):\n",
        "        self.__rooms.append(room)\n",
        "\n",
        "    def __str__(self):\n",
        "        rooms_str = '\\n'.join([str(room) for room in self.__rooms])\n",
        "        return f\"House at {self.__address}\\n{rooms_str}\"\n",
        "\n",
        "\n",
        "# Creating furniture and appliances\n",
        "sofa = Furniture(\"Sofa\", \"Leather\")\n",
        "table = Furniture(\"Dining Table\", \"Wood\")\n",
        "refrigerator = Appliance(\"Refrigerator\", 150)\n",
        "microwave = Appliance(\"Microwave\", 800)\n",
        "\n",
        "# Creating rooms and adding furniture and appliances\n",
        "living_room = Room(\"Living Room\")\n",
        "living_room.add_furniture(sofa)\n",
        "living_room.add_appliance(refrigerator)\n",
        "\n",
        "dining_room = Room(\"Dining Room\")\n",
        "dining_room.add_furniture(table)\n",
        "dining_room.add_appliance(microwave)\n",
        "\n",
        "# Creating a house and adding rooms\n",
        "my_house = House(\"123 Elm Street\")\n",
        "my_house.add_room(living_room)\n",
        "my_house.add_room(dining_room)\n",
        "\n",
        "# Output house details\n",
        "print(my_house)\n"
      ],
      "metadata": {
        "colab": {
          "base_uri": "https://localhost:8080/"
        },
        "id": "q2JolmlndXNA",
        "outputId": "b68d5edf-232d-45bc-df76-1d92b0e01d41"
      },
      "execution_count": 10,
      "outputs": [
        {
          "output_type": "stream",
          "name": "stdout",
          "text": [
            "House at 123 Elm Street\n",
            "Room: Living Room\n",
            "Furniture: Sofa (Material: Leather)\n",
            "Appliances: Refrigerator (Power: 150W)\n",
            "Room: Dining Room\n",
            "Furniture: Dining Table (Material: Wood)\n",
            "Appliances: Microwave (Power: 800W)\n"
          ]
        }
      ]
    },
    {
      "cell_type": "markdown",
      "source": [
        "19.How can you achieve flexibility in composed objects by allowing them to be replaced or modified dynamically at run time\n",
        "chieving flexibility in composed objects by allowing them to be replaced or modified dynamically at runtime involves designing your classes to accommodate changes without altering the overall structure of the program. Here’s how you can implement this in Python:\n",
        "\n",
        "Strategies for Flexibility\n",
        "Use Setter Methods:\n",
        "\n",
        "Provide setter methods in your container classes to update or replace composed objects. This allows you to change components dynamically.\n",
        "Implement Interfaces or Abstract Base Classes:\n",
        "\n",
        "Define interfaces or abstract base classes for your components. This ensures that any new components adhere to a consistent contract, making it easier to replace or modify them.\n",
        "Use Dependency Injection:\n",
        "\n",
        "Pass dependencies (composed objects) into classes via constructors or methods. This approach allows you to swap implementations easily without changing the container class.\n",
        "Utilize Factory Methods:\n",
        "\n",
        "Create factory methods or classes that manage the creation of composed objects. This allows you to centralize object creation and modification logic, making it easier to change the components.\n",
        "Dynamic Composition:\n",
        "\n",
        "Allow for dynamic changes in the composition of objects, such as adding or removing components at runtime.\n",
        "Example Implementation\n",
        "Here's a Python example demonstrating how to achieve flexibility in composed objects by using setter methods and abstract base classes.\n",
        "\n",
        "Define Interfaces/Abstract Base Classes\n",
        "python\n",
        "Copy code\n",
        "from abc import ABC, abstractmethod\n",
        "\n",
        "class Furniture(ABC):\n",
        "    @abstractmethod\n",
        "    def __str__(self):\n",
        "        pass\n",
        "\n",
        "class Appliance(ABC):\n",
        "    @abstractmethod\n",
        "    def __str__(self):\n",
        "        pass\n",
        "Implement Concrete Classes\n",
        "python\n",
        "Copy code\n",
        "class Sofa(Furniture):\n",
        "    def __init__(self, material):\n",
        "        self.__material = material\n",
        "\n",
        "    def __str__(self):\n",
        "        return f\"Sofa (Material: {self.__material})\"\n",
        "\n",
        "class Table(Furniture):\n",
        "    def __init__(self, material):\n",
        "        self.__material = material\n",
        "\n",
        "    def __str__(self):\n",
        "        return f\"Table (Material: {self.__material})\"\n",
        "\n",
        "class Refrigerator(Appliance):\n",
        "    def __init__(self, power):\n",
        "        self.__power = power\n",
        "\n",
        "    def __str__(self):\n",
        "        return f\"Refrigerator (Power: {self.__power}W)\"\n",
        "\n",
        "class Microwave(Appliance):\n",
        "    def __init__(self, power):\n",
        "        self.__power = power\n",
        "\n",
        "    def __str__(self):\n",
        "        return f\"Microwave (Power: {self.__power}W)\"\n",
        "Define Room with Flexible Composition\n",
        "python\n",
        "Copy code\n",
        "class Room:\n",
        "    def __init__(self, name):\n",
        "        self.__name\n",
        "\n",
        "\n",
        "\n"
      ],
      "metadata": {
        "id": "Li3TkBEcdaIE"
      }
    }
  ]
}